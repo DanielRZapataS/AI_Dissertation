{
 "cells": [
  {
   "cell_type": "markdown",
   "metadata": {},
   "source": [
    "! pip install imageio"
   ]
  },
  {
   "cell_type": "code",
   "execution_count": 1,
   "metadata": {},
   "outputs": [],
   "source": [
    "import torch\n",
    "import torch.optim as optim\n",
    "import torch.nn as nn\n",
    "import model\n",
    "import torchvision.transforms as transforms\n",
    "import torchvision\n",
    "import matplotlib\n",
    "from torch.utils.data import DataLoader\n",
    "from torchvision.utils import make_grid\n",
    "from engine import train, validate\n",
    "from utils import save_reconstructed_images, image_to_vid, save_loss_plot\n",
    "matplotlib.style.use('ggplot')"
   ]
  },
  {
   "cell_type": "code",
   "execution_count": 2,
   "metadata": {},
   "outputs": [],
   "source": [
    "device = torch.device('cuda' if torch.cuda.is_available() else 'cpu')\n",
    "# initialize the model\n",
    "model = model.ConvVAE().to(device)\n",
    "# set the learning parameters\n",
    "lr = 0.001\n",
    "epochs = 100\n",
    "batch_size = 64\n",
    "optimizer = optim.Adam(model.parameters(), lr=lr)\n",
    "criterion = nn.BCELoss(reduction='sum')\n",
    "# a list to save all the reconstructed images in PyTorch grid format\n",
    "grid_images = []"
   ]
  },
  {
   "cell_type": "code",
   "execution_count": 3,
   "metadata": {},
   "outputs": [],
   "source": [
    "transform = transforms.Compose([\n",
    "    transforms.Resize((32, 32)),\n",
    "    transforms.ToTensor(),\n",
    "])\n",
    "# training set and train data loader\n",
    "trainset = torchvision.datasets.MNIST(\n",
    "    root='../input', train=True, download=True, transform=transform\n",
    ")\n",
    "trainloader = DataLoader(\n",
    "    trainset, batch_size=batch_size, shuffle=True\n",
    ")\n",
    "# validation set and validation data loader\n",
    "testset = torchvision.datasets.MNIST(\n",
    "    root='../input', train=False, download=True, transform=transform\n",
    ")\n",
    "testloader = DataLoader(\n",
    "    testset, batch_size=batch_size, shuffle=False\n",
    ")"
   ]
  },
  {
   "cell_type": "code",
   "execution_count": 4,
   "metadata": {},
   "outputs": [
    {
     "data": {
      "text/plain": [
       "Dataset MNIST\n",
       "    Number of datapoints: 60000\n",
       "    Root location: ../input\n",
       "    Split: Train\n",
       "    StandardTransform\n",
       "Transform: Compose(\n",
       "               Resize(size=(32, 32), interpolation=bilinear, max_size=None, antialias=warn)\n",
       "               ToTensor()\n",
       "           )"
      ]
     },
     "execution_count": 4,
     "metadata": {},
     "output_type": "execute_result"
    }
   ],
   "source": [
    "trainset"
   ]
  },
  {
   "cell_type": "code",
   "execution_count": 5,
   "metadata": {},
   "outputs": [
    {
     "data": {
      "text/plain": [
       "<torch.utils.data.dataloader.DataLoader at 0x103c952e0>"
      ]
     },
     "execution_count": 5,
     "metadata": {},
     "output_type": "execute_result"
    }
   ],
   "source": [
    "trainloader"
   ]
  },
  {
   "cell_type": "code",
   "execution_count": 6,
   "metadata": {},
   "outputs": [
    {
     "name": "stdout",
     "output_type": "stream",
     "text": [
      "Epoch 1 of 100\n"
     ]
    },
    {
     "name": "stderr",
     "output_type": "stream",
     "text": [
      "  0%|          | 0/937 [00:00<?, ?it/s]"
     ]
    },
    {
     "name": "stderr",
     "output_type": "stream",
     "text": [
      "  0%|          | 1/937 [00:00<02:10,  7.19it/s]"
     ]
    },
    {
     "name": "stdout",
     "output_type": "stream",
     "text": [
      "Batch number:  1\n",
      "Batch shape:  torch.Size([64, 1, 32, 32])\n",
      "Input shape:  torch.Size([64, 1, 32, 32])\n",
      "Reconstruction shape:  torch.Size([64, 1, 32, 32])\n",
      "Batch number:  2\n",
      "Batch shape:  torch.Size([64, 1, 32, 32])\n",
      "Input shape:  torch.Size([64, 1, 32, 32])\n",
      "Reconstruction shape:  torch.Size([64, 1, 32, 32])\n"
     ]
    },
    {
     "name": "stderr",
     "output_type": "stream",
     "text": [
      "  1%|          | 5/937 [00:00<01:11, 13.11it/s]"
     ]
    },
    {
     "name": "stdout",
     "output_type": "stream",
     "text": [
      "Batch number:  3\n",
      "Batch shape:  torch.Size([64, 1, 32, 32])\n",
      "Input shape:  torch.Size([64, 1, 32, 32])\n",
      "Reconstruction shape:  torch.Size([64, 1, 32, 32])\n",
      "Batch number:  4\n",
      "Batch shape:  torch.Size([64, 1, 32, 32])\n",
      "Input shape:  torch.Size([64, 1, 32, 32])\n",
      "Reconstruction shape:  torch.Size([64, 1, 32, 32])\n",
      "Batch number:  5\n",
      "Batch shape:  torch.Size([64, 1, 32, 32])\n",
      "Input shape:  torch.Size([64, 1, 32, 32])\n",
      "Reconstruction shape:  torch.Size([64, 1, 32, 32])\n",
      "Batch number:  6\n",
      "Batch shape:  torch.Size([64, 1, 32, 32])\n",
      "Input shape:  torch.Size([64, 1, 32, 32])\n"
     ]
    },
    {
     "name": "stderr",
     "output_type": "stream",
     "text": [
      "  1%|          | 7/937 [00:00<01:06, 14.01it/s]"
     ]
    },
    {
     "name": "stdout",
     "output_type": "stream",
     "text": [
      "Reconstruction shape:  torch.Size([64, 1, 32, 32])\n",
      "Batch number:  7\n",
      "Batch shape:  torch.Size([64, 1, 32, 32])\n",
      "Input shape:  torch.Size([64, 1, 32, 32])\n",
      "Reconstruction shape:  torch.Size([64, 1, 32, 32])\n",
      "Batch number:  8\n",
      "Batch shape:  torch.Size([64, 1, 32, 32])\n",
      "Input shape:  torch.Size([64, 1, 32, 32])\n",
      "Reconstruction shape:  torch.Size([64, 1, 32, 32])\n",
      "Batch number:  9\n",
      "Batch shape:  torch.Size([64, 1, 32, 32])\n",
      "Input shape:  torch.Size([64, 1, 32, 32])\n",
      "Reconstruction shape:  torch.Size([64, 1, 32, 32])\n"
     ]
    },
    {
     "name": "stderr",
     "output_type": "stream",
     "text": [
      "  1%|          | 11/937 [00:00<01:11, 12.92it/s]"
     ]
    },
    {
     "name": "stdout",
     "output_type": "stream",
     "text": [
      "Batch number:  10\n",
      "Batch shape:  torch.Size([64, 1, 32, 32])\n",
      "Input shape:  torch.Size([64, 1, 32, 32])\n",
      "Reconstruction shape:  torch.Size([64, 1, 32, 32])\n",
      "Batch number:  11\n",
      "Batch shape:  torch.Size([64, 1, 32, 32])\n",
      "Input shape:  torch.Size([64, 1, 32, 32])\n",
      "Reconstruction shape:  torch.Size([64, 1, 32, 32])\n",
      "Batch number:  12\n",
      "Batch shape:  torch.Size([64, 1, 32, 32])\n",
      "Input shape:  torch.Size([64, 1, 32, 32])\n",
      "Reconstruction shape:  torch.Size([64, 1, 32, 32])\n"
     ]
    },
    {
     "name": "stderr",
     "output_type": "stream",
     "text": [
      "  2%|▏         | 15/937 [00:01<01:04, 14.21it/s]"
     ]
    },
    {
     "name": "stdout",
     "output_type": "stream",
     "text": [
      "Batch number:  13\n",
      "Batch shape:  torch.Size([64, 1, 32, 32])\n",
      "Input shape:  torch.Size([64, 1, 32, 32])\n",
      "Reconstruction shape:  torch.Size([64, 1, 32, 32])\n",
      "Batch number:  14\n",
      "Batch shape:  torch.Size([64, 1, 32, 32])\n",
      "Input shape:  torch.Size([64, 1, 32, 32])\n",
      "Reconstruction shape:  torch.Size([64, 1, 32, 32])\n",
      "Batch number:  15\n",
      "Batch shape:  torch.Size([64, 1, 32, 32])\n",
      "Input shape:  torch.Size([64, 1, 32, 32])\n",
      "Reconstruction shape:  torch.Size([64, 1, 32, 32])\n",
      "Batch number:  16\n",
      "Batch shape:  torch.Size([64, 1, 32, 32])\n",
      "Input shape:  torch.Size([64, 1, 32, 32])\n"
     ]
    },
    {
     "name": "stderr",
     "output_type": "stream",
     "text": [
      "  2%|▏         | 17/937 [00:01<01:02, 14.71it/s]"
     ]
    },
    {
     "name": "stdout",
     "output_type": "stream",
     "text": [
      "Reconstruction shape:  torch.Size([64, 1, 32, 32])\n",
      "Batch number:  17\n",
      "Batch shape:  torch.Size([64, 1, 32, 32])\n",
      "Input shape:  torch.Size([64, 1, 32, 32])\n",
      "Reconstruction shape:  torch.Size([64, 1, 32, 32])\n",
      "Batch number:  18\n",
      "Batch shape:  torch.Size([64, 1, 32, 32])\n",
      "Input shape:  torch.Size([64, 1, 32, 32])\n",
      "Reconstruction shape:  torch.Size([64, 1, 32, 32])\n",
      "Batch number:  19\n",
      "Batch shape:  torch.Size([64, 1, 32, 32])\n",
      "Input shape:  torch.Size([64, 1, 32, 32])\n",
      "Reconstruction shape:  torch.Size([64, 1, 32, 32])\n"
     ]
    },
    {
     "name": "stderr",
     "output_type": "stream",
     "text": [
      "  2%|▏         | 21/937 [00:01<01:00, 15.10it/s]"
     ]
    },
    {
     "name": "stdout",
     "output_type": "stream",
     "text": [
      "Batch number:  20\n",
      "Batch shape:  torch.Size([64, 1, 32, 32])\n",
      "Input shape:  torch.Size([64, 1, 32, 32])\n",
      "Reconstruction shape:  torch.Size([64, 1, 32, 32])\n",
      "Batch number:  21\n",
      "Batch shape:  torch.Size([64, 1, 32, 32])\n",
      "Input shape:  torch.Size([64, 1, 32, 32])\n",
      "Reconstruction shape:  torch.Size([64, 1, 32, 32])\n",
      "Batch number:  22\n",
      "Batch shape:  torch.Size([64, 1, 32, 32])\n",
      "Input shape:  torch.Size([64, 1, 32, 32])\n",
      "Reconstruction shape:  torch.Size([64, 1, 32, 32])\n",
      "Batch number:  23\n",
      "Batch shape:  torch.Size([64, 1, 32, 32])\n",
      "Input shape:  torch.Size([64, 1, 32, 32])\n"
     ]
    },
    {
     "name": "stderr",
     "output_type": "stream",
     "text": [
      "  2%|▏         | 23/937 [00:01<01:00, 15.00it/s]"
     ]
    },
    {
     "name": "stdout",
     "output_type": "stream",
     "text": [
      "Reconstruction shape:  torch.Size([64, 1, 32, 32])\n",
      "Batch number:  24\n",
      "Batch shape:  torch.Size([64, 1, 32, 32])\n",
      "Input shape:  torch.Size([64, 1, 32, 32])\n",
      "Reconstruction shape:  torch.Size([64, 1, 32, 32])\n",
      "Batch number:  25\n",
      "Batch shape:  torch.Size([64, 1, 32, 32])\n",
      "Input shape:  torch.Size([64, 1, 32, 32])\n",
      "Reconstruction shape:  torch.Size([64, 1, 32, 32])\n"
     ]
    },
    {
     "name": "stderr",
     "output_type": "stream",
     "text": [
      "  3%|▎         | 27/937 [00:01<01:02, 14.66it/s]"
     ]
    },
    {
     "name": "stdout",
     "output_type": "stream",
     "text": [
      "Batch number:  26\n",
      "Batch shape:  torch.Size([64, 1, 32, 32])\n",
      "Input shape:  torch.Size([64, 1, 32, 32])\n",
      "Reconstruction shape:  torch.Size([64, 1, 32, 32])\n",
      "Batch number:  27\n",
      "Batch shape:  torch.Size([64, 1, 32, 32])\n",
      "Input shape:  torch.Size([64, 1, 32, 32])\n",
      "Reconstruction shape:  torch.Size([64, 1, 32, 32])\n",
      "Batch number:  28\n",
      "Batch shape:  torch.Size([64, 1, 32, 32])\n",
      "Input shape:  torch.Size([64, 1, 32, 32])\n",
      "Reconstruction shape:  torch.Size([64, 1, 32, 32])\n",
      "Batch number:  29\n",
      "Batch shape:  torch.Size([64, 1, 32, 32])\n",
      "Input shape:  torch.Size([64, 1, 32, 32])\n"
     ]
    },
    {
     "name": "stderr",
     "output_type": "stream",
     "text": [
      "  3%|▎         | 31/937 [00:02<01:00, 14.99it/s]"
     ]
    },
    {
     "name": "stdout",
     "output_type": "stream",
     "text": [
      "Reconstruction shape:  torch.Size([64, 1, 32, 32])\n",
      "Batch number:  30\n",
      "Batch shape:  torch.Size([64, 1, 32, 32])\n",
      "Input shape:  torch.Size([64, 1, 32, 32])\n",
      "Reconstruction shape:  torch.Size([64, 1, 32, 32])\n",
      "Batch number:  31\n",
      "Batch shape:  torch.Size([64, 1, 32, 32])\n",
      "Input shape:  torch.Size([64, 1, 32, 32])\n",
      "Reconstruction shape:  torch.Size([64, 1, 32, 32])\n",
      "Batch number:  32\n",
      "Batch shape:  torch.Size([64, 1, 32, 32])\n",
      "Input shape:  torch.Size([64, 1, 32, 32])\n",
      "Reconstruction shape:  torch.Size([64, 1, 32, 32])\n"
     ]
    },
    {
     "name": "stderr",
     "output_type": "stream",
     "text": [
      "  4%|▎         | 35/937 [00:02<00:58, 15.37it/s]"
     ]
    },
    {
     "name": "stdout",
     "output_type": "stream",
     "text": [
      "Batch number:  33\n",
      "Batch shape:  torch.Size([64, 1, 32, 32])\n",
      "Input shape:  torch.Size([64, 1, 32, 32])\n",
      "Reconstruction shape:  torch.Size([64, 1, 32, 32])\n",
      "Batch number:  34\n",
      "Batch shape:  torch.Size([64, 1, 32, 32])\n",
      "Input shape:  torch.Size([64, 1, 32, 32])\n",
      "Reconstruction shape:  torch.Size([64, 1, 32, 32])\n",
      "Batch number:  35\n",
      "Batch shape:  torch.Size([64, 1, 32, 32])\n",
      "Input shape:  torch.Size([64, 1, 32, 32])\n",
      "Reconstruction shape:  torch.Size([64, 1, 32, 32])\n",
      "Batch number:  36\n",
      "Batch shape:  torch.Size([64, 1, 32, 32])\n",
      "Input shape:  torch.Size([64, 1, 32, 32])\n",
      "Reconstruction shape:  torch.Size([64, 1, 32, 32])\n"
     ]
    },
    {
     "name": "stderr",
     "output_type": "stream",
     "text": [
      "  4%|▍         | 39/937 [00:02<00:58, 15.39it/s]"
     ]
    },
    {
     "name": "stdout",
     "output_type": "stream",
     "text": [
      "Batch number:  37\n",
      "Batch shape:  torch.Size([64, 1, 32, 32])\n",
      "Input shape:  torch.Size([64, 1, 32, 32])\n",
      "Reconstruction shape:  torch.Size([64, 1, 32, 32])\n",
      "Batch number:  38\n",
      "Batch shape:  torch.Size([64, 1, 32, 32])\n",
      "Input shape:  torch.Size([64, 1, 32, 32])\n",
      "Reconstruction shape:  torch.Size([64, 1, 32, 32])\n",
      "Batch number:  39\n",
      "Batch shape:  torch.Size([64, 1, 32, 32])\n",
      "Input shape:  torch.Size([64, 1, 32, 32])\n",
      "Reconstruction shape:  torch.Size([64, 1, 32, 32])\n",
      "Batch number:  40\n",
      "Batch shape:  torch.Size([64, 1, 32, 32])\n",
      "Input shape:  torch.Size([64, 1, 32, 32])\n"
     ]
    },
    {
     "name": "stderr",
     "output_type": "stream",
     "text": [
      "  4%|▍         | 41/937 [00:02<00:57, 15.48it/s]"
     ]
    },
    {
     "name": "stdout",
     "output_type": "stream",
     "text": [
      "Reconstruction shape:  torch.Size([64, 1, 32, 32])\n",
      "Batch number:  41\n",
      "Batch shape:  torch.Size([64, 1, 32, 32])\n",
      "Input shape:  torch.Size([64, 1, 32, 32])\n",
      "Reconstruction shape:  torch.Size([64, 1, 32, 32])\n",
      "Batch number:  42\n",
      "Batch shape:  torch.Size([64, 1, 32, 32])\n",
      "Input shape:  torch.Size([64, 1, 32, 32])\n",
      "Reconstruction shape:  torch.Size([64, 1, 32, 32])\n",
      "Batch number:  43\n",
      "Batch shape:  torch.Size([64, 1, 32, 32])\n",
      "Input shape:  torch.Size([64, 1, 32, 32])\n",
      "Reconstruction shape:  torch.Size([64, 1, 32, 32])\n"
     ]
    },
    {
     "name": "stderr",
     "output_type": "stream",
     "text": [
      "  5%|▍         | 45/937 [00:03<00:55, 16.12it/s]"
     ]
    },
    {
     "name": "stdout",
     "output_type": "stream",
     "text": [
      "Batch number:  44\n",
      "Batch shape:  torch.Size([64, 1, 32, 32])\n",
      "Input shape:  torch.Size([64, 1, 32, 32])\n",
      "Reconstruction shape:  torch.Size([64, 1, 32, 32])\n",
      "Batch number:  45\n",
      "Batch shape:  torch.Size([64, 1, 32, 32])\n",
      "Input shape:  torch.Size([64, 1, 32, 32])\n",
      "Reconstruction shape:  torch.Size([64, 1, 32, 32])\n",
      "Batch number:  46\n",
      "Batch shape:  torch.Size([64, 1, 32, 32])\n",
      "Input shape:  torch.Size([64, 1, 32, 32])\n",
      "Reconstruction shape:  torch.Size([64, 1, 32, 32])\n",
      "Batch number:  47\n",
      "Batch shape:  torch.Size([64, 1, 32, 32])\n",
      "Input shape:  torch.Size([64, 1, 32, 32])\n",
      "Reconstruction shape:  torch.Size([64, 1, 32, 32])\n"
     ]
    },
    {
     "name": "stderr",
     "output_type": "stream",
     "text": [
      "  5%|▌         | 49/937 [00:03<00:55, 16.01it/s]"
     ]
    },
    {
     "name": "stdout",
     "output_type": "stream",
     "text": [
      "Batch number:  48\n",
      "Batch shape:  torch.Size([64, 1, 32, 32])\n",
      "Input shape:  torch.Size([64, 1, 32, 32])\n",
      "Reconstruction shape:  torch.Size([64, 1, 32, 32])\n",
      "Batch number:  49\n",
      "Batch shape:  torch.Size([64, 1, 32, 32])\n",
      "Input shape:  torch.Size([64, 1, 32, 32])\n",
      "Reconstruction shape:  torch.Size([64, 1, 32, 32])\n",
      "Batch number:  50\n",
      "Batch shape:  torch.Size([64, 1, 32, 32])\n",
      "Input shape:  torch.Size([64, 1, 32, 32])\n",
      "Reconstruction shape:  torch.Size([64, 1, 32, 32])\n",
      "Batch number:  51\n",
      "Batch shape:  torch.Size([64, 1, 32, 32])\n",
      "Input shape:  torch.Size([64, 1, 32, 32])\n",
      "Reconstruction shape:  torch.Size([64, 1, 32, 32])\n"
     ]
    },
    {
     "name": "stderr",
     "output_type": "stream",
     "text": [
      "  6%|▌         | 53/937 [00:03<00:55, 15.86it/s]"
     ]
    },
    {
     "name": "stdout",
     "output_type": "stream",
     "text": [
      "Batch number:  52\n",
      "Batch shape:  torch.Size([64, 1, 32, 32])\n",
      "Input shape:  torch.Size([64, 1, 32, 32])\n",
      "Reconstruction shape:  torch.Size([64, 1, 32, 32])\n",
      "Batch number:  53\n",
      "Batch shape:  torch.Size([64, 1, 32, 32])\n",
      "Input shape:  torch.Size([64, 1, 32, 32])\n",
      "Reconstruction shape:  torch.Size([64, 1, 32, 32])\n",
      "Batch number:  54\n",
      "Batch shape:  torch.Size([64, 1, 32, 32])\n",
      "Input shape:  torch.Size([64, 1, 32, 32])\n",
      "Reconstruction shape:  torch.Size([64, 1, 32, 32])\n",
      "Batch number:  55\n",
      "Batch shape:  torch.Size([64, 1, 32, 32])\n",
      "Input shape:  torch.Size([64, 1, 32, 32])\n",
      "Reconstruction shape:  torch.Size([64, 1, 32, 32])\n"
     ]
    },
    {
     "name": "stderr",
     "output_type": "stream",
     "text": [
      "  6%|▌         | 57/937 [00:03<00:55, 15.73it/s]"
     ]
    },
    {
     "name": "stdout",
     "output_type": "stream",
     "text": [
      "Batch number:  56\n",
      "Batch shape:  torch.Size([64, 1, 32, 32])\n",
      "Input shape:  torch.Size([64, 1, 32, 32])\n",
      "Reconstruction shape:  torch.Size([64, 1, 32, 32])\n",
      "Batch number:  57\n",
      "Batch shape:  torch.Size([64, 1, 32, 32])\n",
      "Input shape:  torch.Size([64, 1, 32, 32])\n",
      "Reconstruction shape:  torch.Size([64, 1, 32, 32])\n",
      "Batch number:  58\n",
      "Batch shape:  torch.Size([64, 1, 32, 32])\n",
      "Input shape:  torch.Size([64, 1, 32, 32])\n",
      "Reconstruction shape:  torch.Size([64, 1, 32, 32])\n",
      "Batch number:  59\n",
      "Batch shape:  torch.Size([64, 1, 32, 32])\n",
      "Input shape:  torch.Size([64, 1, 32, 32])\n"
     ]
    },
    {
     "name": "stderr",
     "output_type": "stream",
     "text": [
      "  6%|▋         | 59/937 [00:03<00:55, 15.76it/s]"
     ]
    },
    {
     "name": "stdout",
     "output_type": "stream",
     "text": [
      "Reconstruction shape:  torch.Size([64, 1, 32, 32])\n",
      "Batch number:  60\n",
      "Batch shape:  torch.Size([64, 1, 32, 32])\n",
      "Input shape:  torch.Size([64, 1, 32, 32])\n",
      "Reconstruction shape:  torch.Size([64, 1, 32, 32])\n",
      "Batch number:  61\n",
      "Batch shape:  torch.Size([64, 1, 32, 32])\n",
      "Input shape:  torch.Size([64, 1, 32, 32])\n",
      "Reconstruction shape:  torch.Size([64, 1, 32, 32])\n"
     ]
    },
    {
     "name": "stderr",
     "output_type": "stream",
     "text": [
      "  7%|▋         | 63/937 [00:04<00:58, 15.04it/s]"
     ]
    },
    {
     "name": "stdout",
     "output_type": "stream",
     "text": [
      "Batch number:  62\n",
      "Batch shape:  torch.Size([64, 1, 32, 32])\n",
      "Input shape:  torch.Size([64, 1, 32, 32])\n",
      "Reconstruction shape:  torch.Size([64, 1, 32, 32])\n",
      "Batch number:  63\n",
      "Batch shape:  torch.Size([64, 1, 32, 32])\n",
      "Input shape:  torch.Size([64, 1, 32, 32])\n",
      "Reconstruction shape:  torch.Size([64, 1, 32, 32])\n",
      "Batch number:  64\n",
      "Batch shape:  torch.Size([64, 1, 32, 32])\n",
      "Input shape:  torch.Size([64, 1, 32, 32])\n",
      "Reconstruction shape:  torch.Size([64, 1, 32, 32])\n",
      "Batch number:  65\n",
      "Batch shape:  torch.Size([64, 1, 32, 32])\n",
      "Input shape:  torch.Size([64, 1, 32, 32])\n",
      "Reconstruction shape:  torch.Size([64, 1, 32, 32])\n"
     ]
    },
    {
     "name": "stderr",
     "output_type": "stream",
     "text": [
      "  7%|▋         | 67/937 [00:04<00:56, 15.44it/s]"
     ]
    },
    {
     "name": "stdout",
     "output_type": "stream",
     "text": [
      "Batch number:  66\n",
      "Batch shape:  torch.Size([64, 1, 32, 32])\n",
      "Input shape:  torch.Size([64, 1, 32, 32])\n",
      "Reconstruction shape:  torch.Size([64, 1, 32, 32])\n",
      "Batch number:  67\n",
      "Batch shape:  torch.Size([64, 1, 32, 32])\n",
      "Input shape:  torch.Size([64, 1, 32, 32])\n",
      "Reconstruction shape:  torch.Size([64, 1, 32, 32])\n",
      "Batch number:  68\n",
      "Batch shape:  torch.Size([64, 1, 32, 32])\n",
      "Input shape:  torch.Size([64, 1, 32, 32])\n",
      "Reconstruction shape:  torch.Size([64, 1, 32, 32])\n",
      "Batch number:  69\n",
      "Batch shape:  torch.Size([64, 1, 32, 32])\n",
      "Input shape:  torch.Size([64, 1, 32, 32])\n"
     ]
    },
    {
     "name": "stderr",
     "output_type": "stream",
     "text": [
      "  8%|▊         | 71/937 [00:04<00:55, 15.68it/s]"
     ]
    },
    {
     "name": "stdout",
     "output_type": "stream",
     "text": [
      "Reconstruction shape:  torch.Size([64, 1, 32, 32])\n",
      "Batch number:  70\n",
      "Batch shape:  torch.Size([64, 1, 32, 32])\n",
      "Input shape:  torch.Size([64, 1, 32, 32])\n",
      "Reconstruction shape:  torch.Size([64, 1, 32, 32])\n",
      "Batch number:  71\n",
      "Batch shape:  torch.Size([64, 1, 32, 32])\n",
      "Input shape:  torch.Size([64, 1, 32, 32])\n",
      "Reconstruction shape:  torch.Size([64, 1, 32, 32])\n",
      "Batch number:  72\n",
      "Batch shape:  torch.Size([64, 1, 32, 32])\n",
      "Input shape:  torch.Size([64, 1, 32, 32])\n",
      "Reconstruction shape:  torch.Size([64, 1, 32, 32])\n"
     ]
    },
    {
     "name": "stderr",
     "output_type": "stream",
     "text": [
      "  8%|▊         | 75/937 [00:04<00:55, 15.53it/s]"
     ]
    },
    {
     "name": "stdout",
     "output_type": "stream",
     "text": [
      "Batch number:  73\n",
      "Batch shape:  torch.Size([64, 1, 32, 32])\n",
      "Input shape:  torch.Size([64, 1, 32, 32])\n",
      "Reconstruction shape:  torch.Size([64, 1, 32, 32])\n",
      "Batch number:  74\n",
      "Batch shape:  torch.Size([64, 1, 32, 32])\n",
      "Input shape:  torch.Size([64, 1, 32, 32])\n",
      "Reconstruction shape:  torch.Size([64, 1, 32, 32])\n",
      "Batch number:  75\n",
      "Batch shape:  torch.Size([64, 1, 32, 32])\n",
      "Input shape:  torch.Size([64, 1, 32, 32])\n",
      "Reconstruction shape:  torch.Size([64, 1, 32, 32])\n",
      "Batch number:  76\n",
      "Batch shape:  torch.Size([64, 1, 32, 32])\n",
      "Input shape:  torch.Size([64, 1, 32, 32])\n"
     ]
    },
    {
     "name": "stderr",
     "output_type": "stream",
     "text": [
      "  8%|▊         | 77/937 [00:05<00:55, 15.51it/s]"
     ]
    },
    {
     "name": "stdout",
     "output_type": "stream",
     "text": [
      "Reconstruction shape:  torch.Size([64, 1, 32, 32])\n",
      "Batch number:  77\n",
      "Batch shape:  torch.Size([64, 1, 32, 32])\n",
      "Input shape:  torch.Size([64, 1, 32, 32])\n",
      "Reconstruction shape:  torch.Size([64, 1, 32, 32])\n",
      "Batch number:  78\n",
      "Batch shape:  torch.Size([64, 1, 32, 32])\n",
      "Input shape:  torch.Size([64, 1, 32, 32])\n",
      "Reconstruction shape:  torch.Size([64, 1, 32, 32])\n",
      "Batch number:  79\n",
      "Batch shape:  torch.Size([64, 1, 32, 32])\n",
      "Input shape:  torch.Size([64, 1, 32, 32])\n",
      "Reconstruction shape:  torch.Size([64, 1, 32, 32])\n"
     ]
    },
    {
     "name": "stderr",
     "output_type": "stream",
     "text": [
      "  9%|▊         | 81/937 [00:05<00:54, 15.79it/s]"
     ]
    },
    {
     "name": "stdout",
     "output_type": "stream",
     "text": [
      "Batch number:  80\n",
      "Batch shape:  torch.Size([64, 1, 32, 32])\n",
      "Input shape:  torch.Size([64, 1, 32, 32])\n",
      "Reconstruction shape:  torch.Size([64, 1, 32, 32])\n",
      "Batch number:  81\n",
      "Batch shape:  torch.Size([64, 1, 32, 32])\n",
      "Input shape:  torch.Size([64, 1, 32, 32])\n",
      "Reconstruction shape:  torch.Size([64, 1, 32, 32])\n",
      "Batch number:  82\n",
      "Batch shape:  torch.Size([64, 1, 32, 32])\n",
      "Input shape:  torch.Size([64, 1, 32, 32])\n",
      "Reconstruction shape:  torch.Size([64, 1, 32, 32])\n",
      "Batch number:  83\n",
      "Batch shape:  torch.Size([64, 1, 32, 32])\n",
      "Input shape:  torch.Size([64, 1, 32, 32])\n",
      "Reconstruction shape:  torch.Size([64, 1, 32, 32])\n"
     ]
    },
    {
     "name": "stderr",
     "output_type": "stream",
     "text": [
      "  9%|▉         | 85/937 [00:05<00:54, 15.52it/s]"
     ]
    },
    {
     "name": "stdout",
     "output_type": "stream",
     "text": [
      "Batch number:  84\n",
      "Batch shape:  torch.Size([64, 1, 32, 32])\n",
      "Input shape:  torch.Size([64, 1, 32, 32])\n",
      "Reconstruction shape:  torch.Size([64, 1, 32, 32])\n",
      "Batch number:  85\n",
      "Batch shape:  torch.Size([64, 1, 32, 32])\n",
      "Input shape:  torch.Size([64, 1, 32, 32])\n",
      "Reconstruction shape:  torch.Size([64, 1, 32, 32])\n",
      "Batch number:  86\n",
      "Batch shape:  torch.Size([64, 1, 32, 32])\n",
      "Input shape:  torch.Size([64, 1, 32, 32])\n",
      "Reconstruction shape:  torch.Size([64, 1, 32, 32])\n",
      "Batch number:  87\n",
      "Batch shape:  torch.Size([64, 1, 32, 32])\n",
      "Input shape:  torch.Size([64, 1, 32, 32])\n"
     ]
    },
    {
     "name": "stderr",
     "output_type": "stream",
     "text": [
      "  9%|▉         | 89/937 [00:05<00:55, 15.38it/s]"
     ]
    },
    {
     "name": "stdout",
     "output_type": "stream",
     "text": [
      "Reconstruction shape:  torch.Size([64, 1, 32, 32])\n",
      "Batch number:  88\n",
      "Batch shape:  torch.Size([64, 1, 32, 32])\n",
      "Input shape:  torch.Size([64, 1, 32, 32])\n",
      "Reconstruction shape:  torch.Size([64, 1, 32, 32])\n",
      "Batch number:  89\n",
      "Batch shape:  torch.Size([64, 1, 32, 32])\n",
      "Input shape:  torch.Size([64, 1, 32, 32])\n",
      "Reconstruction shape:  torch.Size([64, 1, 32, 32])\n",
      "Batch number:  90\n",
      "Batch shape:  torch.Size([64, 1, 32, 32])\n",
      "Input shape:  torch.Size([64, 1, 32, 32])\n",
      "Reconstruction shape:  torch.Size([64, 1, 32, 32])\n"
     ]
    },
    {
     "name": "stderr",
     "output_type": "stream",
     "text": [
      " 10%|▉         | 93/937 [00:06<00:54, 15.43it/s]"
     ]
    },
    {
     "name": "stdout",
     "output_type": "stream",
     "text": [
      "Batch number:  91\n",
      "Batch shape:  torch.Size([64, 1, 32, 32])\n",
      "Input shape:  torch.Size([64, 1, 32, 32])\n",
      "Reconstruction shape:  torch.Size([64, 1, 32, 32])\n",
      "Batch number:  92\n",
      "Batch shape:  torch.Size([64, 1, 32, 32])\n",
      "Input shape:  torch.Size([64, 1, 32, 32])\n",
      "Reconstruction shape:  torch.Size([64, 1, 32, 32])\n",
      "Batch number:  93\n",
      "Batch shape:  torch.Size([64, 1, 32, 32])\n",
      "Input shape:  torch.Size([64, 1, 32, 32])\n",
      "Reconstruction shape:  torch.Size([64, 1, 32, 32])\n",
      "Batch number:  94\n",
      "Batch shape:  torch.Size([64, 1, 32, 32])\n",
      "Input shape:  torch.Size([64, 1, 32, 32])\n"
     ]
    },
    {
     "name": "stderr",
     "output_type": "stream",
     "text": [
      " 10%|█         | 95/937 [00:06<00:54, 15.49it/s]"
     ]
    },
    {
     "name": "stdout",
     "output_type": "stream",
     "text": [
      "Reconstruction shape:  torch.Size([64, 1, 32, 32])\n",
      "Batch number:  95\n",
      "Batch shape:  torch.Size([64, 1, 32, 32])\n",
      "Input shape:  torch.Size([64, 1, 32, 32])\n",
      "Reconstruction shape:  torch.Size([64, 1, 32, 32])\n",
      "Batch number:  96\n",
      "Batch shape:  torch.Size([64, 1, 32, 32])\n",
      "Input shape:  torch.Size([64, 1, 32, 32])\n",
      "Reconstruction shape:  torch.Size([64, 1, 32, 32])\n"
     ]
    },
    {
     "name": "stderr",
     "output_type": "stream",
     "text": [
      " 11%|█         | 99/937 [00:06<00:56, 14.90it/s]"
     ]
    },
    {
     "name": "stdout",
     "output_type": "stream",
     "text": [
      "Batch number:  97\n",
      "Batch shape:  torch.Size([64, 1, 32, 32])\n",
      "Input shape:  torch.Size([64, 1, 32, 32])\n",
      "Reconstruction shape:  torch.Size([64, 1, 32, 32])\n",
      "Batch number:  98\n",
      "Batch shape:  torch.Size([64, 1, 32, 32])\n",
      "Input shape:  torch.Size([64, 1, 32, 32])\n",
      "Reconstruction shape:  torch.Size([64, 1, 32, 32])\n",
      "Batch number:  99\n",
      "Batch shape:  torch.Size([64, 1, 32, 32])\n",
      "Input shape:  torch.Size([64, 1, 32, 32])\n",
      "Reconstruction shape:  torch.Size([64, 1, 32, 32])\n",
      "Batch number:  100\n",
      "Batch shape:  torch.Size([64, 1, 32, 32])\n",
      "Input shape:  torch.Size([64, 1, 32, 32])\n"
     ]
    },
    {
     "name": "stderr",
     "output_type": "stream",
     "text": [
      " 11%|█         | 101/937 [00:06<00:55, 15.15it/s]"
     ]
    },
    {
     "name": "stdout",
     "output_type": "stream",
     "text": [
      "Reconstruction shape:  torch.Size([64, 1, 32, 32])\n",
      "Batch number:  101\n",
      "Batch shape:  torch.Size([64, 1, 32, 32])\n",
      "Input shape:  torch.Size([64, 1, 32, 32])\n",
      "Reconstruction shape:  torch.Size([64, 1, 32, 32])\n",
      "Batch number:  102\n",
      "Batch shape:  torch.Size([64, 1, 32, 32])\n",
      "Input shape:  torch.Size([64, 1, 32, 32])\n",
      "Reconstruction shape:  torch.Size([64, 1, 32, 32])\n",
      "Batch number:  103\n",
      "Batch shape:  torch.Size([64, 1, 32, 32])\n",
      "Input shape:  torch.Size([64, 1, 32, 32])\n",
      "Reconstruction shape:  torch.Size([64, 1, 32, 32])\n"
     ]
    },
    {
     "name": "stderr",
     "output_type": "stream",
     "text": [
      " 11%|█         | 105/937 [00:06<00:54, 15.36it/s]"
     ]
    },
    {
     "name": "stdout",
     "output_type": "stream",
     "text": [
      "Batch number:  104\n",
      "Batch shape:  torch.Size([64, 1, 32, 32])\n",
      "Input shape:  torch.Size([64, 1, 32, 32])\n",
      "Reconstruction shape:  torch.Size([64, 1, 32, 32])\n",
      "Batch number:  105\n",
      "Batch shape:  torch.Size([64, 1, 32, 32])\n",
      "Input shape:  torch.Size([64, 1, 32, 32])\n",
      "Reconstruction shape:  torch.Size([64, 1, 32, 32])\n",
      "Batch number:  106\n",
      "Batch shape:  torch.Size([64, 1, 32, 32])\n",
      "Input shape:  torch.Size([64, 1, 32, 32])\n",
      "Reconstruction shape:  torch.Size([64, 1, 32, 32])\n",
      "Batch number:  107\n",
      "Batch shape:  torch.Size([64, 1, 32, 32])\n",
      "Input shape:  torch.Size([64, 1, 32, 32])\n"
     ]
    },
    {
     "name": "stderr",
     "output_type": "stream",
     "text": [
      " 11%|█▏        | 107/937 [00:07<00:53, 15.44it/s]"
     ]
    },
    {
     "name": "stdout",
     "output_type": "stream",
     "text": [
      "Reconstruction shape:  torch.Size([64, 1, 32, 32])\n",
      "Batch number:  108\n",
      "Batch shape:  torch.Size([64, 1, 32, 32])\n",
      "Input shape:  torch.Size([64, 1, 32, 32])\n",
      "Reconstruction shape:  torch.Size([64, 1, 32, 32])\n",
      "Batch number:  109\n",
      "Batch shape:  torch.Size([64, 1, 32, 32])\n",
      "Input shape:  torch.Size([64, 1, 32, 32])\n",
      "Reconstruction shape:  torch.Size([64, 1, 32, 32])\n"
     ]
    },
    {
     "name": "stderr",
     "output_type": "stream",
     "text": [
      " 12%|█▏        | 111/937 [00:07<01:00, 13.76it/s]"
     ]
    },
    {
     "name": "stdout",
     "output_type": "stream",
     "text": [
      "Batch number:  110\n",
      "Batch shape:  torch.Size([64, 1, 32, 32])\n",
      "Input shape:  torch.Size([64, 1, 32, 32])\n",
      "Reconstruction shape:  torch.Size([64, 1, 32, 32])\n",
      "Batch number:  111\n",
      "Batch shape:  torch.Size([64, 1, 32, 32])\n",
      "Input shape:  torch.Size([64, 1, 32, 32])\n",
      "Reconstruction shape:  torch.Size([64, 1, 32, 32])\n",
      "Batch number:  112\n",
      "Batch shape:  torch.Size([64, 1, 32, 32])\n",
      "Input shape:  torch.Size([64, 1, 32, 32])\n",
      "Reconstruction shape:  torch.Size([64, 1, 32, 32])\n",
      "Batch number:  113\n",
      "Batch shape:  torch.Size([64, 1, 32, 32])\n",
      "Input shape:  torch.Size([64, 1, 32, 32])\n"
     ]
    },
    {
     "name": "stderr",
     "output_type": "stream",
     "text": [
      " 12%|█▏        | 115/937 [00:07<00:56, 14.56it/s]"
     ]
    },
    {
     "name": "stdout",
     "output_type": "stream",
     "text": [
      "Reconstruction shape:  torch.Size([64, 1, 32, 32])\n",
      "Batch number:  114\n",
      "Batch shape:  torch.Size([64, 1, 32, 32])\n",
      "Input shape:  torch.Size([64, 1, 32, 32])\n",
      "Reconstruction shape:  torch.Size([64, 1, 32, 32])\n",
      "Batch number:  115\n",
      "Batch shape:  torch.Size([64, 1, 32, 32])\n",
      "Input shape:  torch.Size([64, 1, 32, 32])\n",
      "Reconstruction shape:  torch.Size([64, 1, 32, 32])\n",
      "Batch number:  116\n",
      "Batch shape:  torch.Size([64, 1, 32, 32])\n",
      "Input shape:  torch.Size([64, 1, 32, 32])\n",
      "Reconstruction shape:  torch.Size([64, 1, 32, 32])\n"
     ]
    },
    {
     "name": "stderr",
     "output_type": "stream",
     "text": [
      " 13%|█▎        | 119/937 [00:07<00:54, 15.13it/s]"
     ]
    },
    {
     "name": "stdout",
     "output_type": "stream",
     "text": [
      "Batch number:  117\n",
      "Batch shape:  torch.Size([64, 1, 32, 32])\n",
      "Input shape:  torch.Size([64, 1, 32, 32])\n",
      "Reconstruction shape:  torch.Size([64, 1, 32, 32])\n",
      "Batch number:  118\n",
      "Batch shape:  torch.Size([64, 1, 32, 32])\n",
      "Input shape:  torch.Size([64, 1, 32, 32])\n",
      "Reconstruction shape:  torch.Size([64, 1, 32, 32])\n",
      "Batch number:  119\n",
      "Batch shape:  torch.Size([64, 1, 32, 32])\n",
      "Input shape:  torch.Size([64, 1, 32, 32])\n",
      "Reconstruction shape:  torch.Size([64, 1, 32, 32])\n",
      "Batch number:  120\n",
      "Batch shape:  torch.Size([64, 1, 32, 32])\n",
      "Input shape:  torch.Size([64, 1, 32, 32])\n",
      "Reconstruction shape:  torch.Size([64, 1, 32, 32])\n"
     ]
    },
    {
     "name": "stderr",
     "output_type": "stream",
     "text": [
      " 13%|█▎        | 123/937 [00:08<00:53, 15.29it/s]"
     ]
    },
    {
     "name": "stdout",
     "output_type": "stream",
     "text": [
      "Batch number:  121\n",
      "Batch shape:  torch.Size([64, 1, 32, 32])\n",
      "Input shape:  torch.Size([64, 1, 32, 32])\n",
      "Reconstruction shape:  torch.Size([64, 1, 32, 32])\n",
      "Batch number:  122\n",
      "Batch shape:  torch.Size([64, 1, 32, 32])\n",
      "Input shape:  torch.Size([64, 1, 32, 32])\n",
      "Reconstruction shape:  torch.Size([64, 1, 32, 32])\n",
      "Batch number:  123\n",
      "Batch shape:  torch.Size([64, 1, 32, 32])\n",
      "Input shape:  torch.Size([64, 1, 32, 32])\n",
      "Reconstruction shape:  torch.Size([64, 1, 32, 32])\n",
      "Batch number:  124\n",
      "Batch shape:  torch.Size([64, 1, 32, 32])\n",
      "Input shape:  torch.Size([64, 1, 32, 32])\n"
     ]
    },
    {
     "name": "stderr",
     "output_type": "stream",
     "text": [
      " 13%|█▎        | 125/937 [00:08<00:53, 15.23it/s]"
     ]
    },
    {
     "name": "stdout",
     "output_type": "stream",
     "text": [
      "Reconstruction shape:  torch.Size([64, 1, 32, 32])\n",
      "Batch number:  125\n",
      "Batch shape:  torch.Size([64, 1, 32, 32])\n",
      "Input shape:  torch.Size([64, 1, 32, 32])\n",
      "Reconstruction shape:  torch.Size([64, 1, 32, 32])\n",
      "Batch number:  126\n",
      "Batch shape:  torch.Size([64, 1, 32, 32])\n",
      "Input shape:  torch.Size([64, 1, 32, 32])\n",
      "Reconstruction shape:  torch.Size([64, 1, 32, 32])\n",
      "Batch number:  127\n",
      "Batch shape:  torch.Size([64, 1, 32, 32])\n",
      "Input shape:  torch.Size([64, 1, 32, 32])\n",
      "Reconstruction shape:  torch.Size([64, 1, 32, 32])\n"
     ]
    },
    {
     "name": "stderr",
     "output_type": "stream",
     "text": [
      " 14%|█▍        | 129/937 [00:08<00:51, 15.62it/s]"
     ]
    },
    {
     "name": "stdout",
     "output_type": "stream",
     "text": [
      "Batch number:  128\n",
      "Batch shape:  torch.Size([64, 1, 32, 32])\n",
      "Input shape:  torch.Size([64, 1, 32, 32])\n",
      "Reconstruction shape:  torch.Size([64, 1, 32, 32])\n",
      "Batch number:  129\n",
      "Batch shape:  torch.Size([64, 1, 32, 32])\n",
      "Input shape:  torch.Size([64, 1, 32, 32])\n",
      "Reconstruction shape:  torch.Size([64, 1, 32, 32])\n",
      "Batch number:  130\n",
      "Batch shape:  torch.Size([64, 1, 32, 32])\n",
      "Input shape:  torch.Size([64, 1, 32, 32])\n",
      "Reconstruction shape:  torch.Size([64, 1, 32, 32])\n",
      "Batch number:  131\n",
      "Batch shape:  torch.Size([64, 1, 32, 32])\n",
      "Input shape:  torch.Size([64, 1, 32, 32])\n",
      "Reconstruction shape:  torch.Size([64, 1, 32, 32])\n"
     ]
    },
    {
     "name": "stderr",
     "output_type": "stream",
     "text": [
      " 14%|█▍        | 133/937 [00:08<00:51, 15.53it/s]"
     ]
    },
    {
     "name": "stdout",
     "output_type": "stream",
     "text": [
      "Batch number:  132\n",
      "Batch shape:  torch.Size([64, 1, 32, 32])\n",
      "Input shape:  torch.Size([64, 1, 32, 32])\n",
      "Reconstruction shape:  torch.Size([64, 1, 32, 32])\n",
      "Batch number:  133\n",
      "Batch shape:  torch.Size([64, 1, 32, 32])\n",
      "Input shape:  torch.Size([64, 1, 32, 32])\n",
      "Reconstruction shape:  torch.Size([64, 1, 32, 32])\n",
      "Batch number:  134\n",
      "Batch shape:  torch.Size([64, 1, 32, 32])\n",
      "Input shape:  torch.Size([64, 1, 32, 32])\n",
      "Reconstruction shape:  torch.Size([64, 1, 32, 32])\n",
      "Batch number:  135\n",
      "Batch shape:  torch.Size([64, 1, 32, 32])\n",
      "Input shape:  torch.Size([64, 1, 32, 32])\n"
     ]
    },
    {
     "name": "stderr",
     "output_type": "stream",
     "text": [
      " 15%|█▍        | 137/937 [00:09<00:50, 15.79it/s]"
     ]
    },
    {
     "name": "stdout",
     "output_type": "stream",
     "text": [
      "Reconstruction shape:  torch.Size([64, 1, 32, 32])\n",
      "Batch number:  136\n",
      "Batch shape:  torch.Size([64, 1, 32, 32])\n",
      "Input shape:  torch.Size([64, 1, 32, 32])\n",
      "Reconstruction shape:  torch.Size([64, 1, 32, 32])\n",
      "Batch number:  137\n",
      "Batch shape:  torch.Size([64, 1, 32, 32])\n",
      "Input shape:  torch.Size([64, 1, 32, 32])\n",
      "Reconstruction shape:  torch.Size([64, 1, 32, 32])\n",
      "Batch number:  138\n",
      "Batch shape:  torch.Size([64, 1, 32, 32])\n",
      "Input shape:  torch.Size([64, 1, 32, 32])\n",
      "Reconstruction shape:  torch.Size([64, 1, 32, 32])\n"
     ]
    },
    {
     "name": "stderr",
     "output_type": "stream",
     "text": [
      " 15%|█▌        | 141/937 [00:09<00:50, 15.78it/s]"
     ]
    },
    {
     "name": "stdout",
     "output_type": "stream",
     "text": [
      "Batch number:  139\n",
      "Batch shape:  torch.Size([64, 1, 32, 32])\n",
      "Input shape:  torch.Size([64, 1, 32, 32])\n",
      "Reconstruction shape:  torch.Size([64, 1, 32, 32])\n",
      "Batch number:  140\n",
      "Batch shape:  torch.Size([64, 1, 32, 32])\n",
      "Input shape:  torch.Size([64, 1, 32, 32])\n",
      "Reconstruction shape:  torch.Size([64, 1, 32, 32])\n",
      "Batch number:  141\n",
      "Batch shape:  torch.Size([64, 1, 32, 32])\n",
      "Input shape:  torch.Size([64, 1, 32, 32])\n",
      "Reconstruction shape:  torch.Size([64, 1, 32, 32])\n",
      "Batch number:  142\n",
      "Batch shape:  torch.Size([64, 1, 32, 32])\n",
      "Input shape:  torch.Size([64, 1, 32, 32])\n",
      "Reconstruction shape:  torch.Size([64, 1, 32, 32])\n"
     ]
    },
    {
     "name": "stderr",
     "output_type": "stream",
     "text": [
      " 15%|█▌        | 145/937 [00:09<00:50, 15.56it/s]"
     ]
    },
    {
     "name": "stdout",
     "output_type": "stream",
     "text": [
      "Batch number:  143\n",
      "Batch shape:  torch.Size([64, 1, 32, 32])\n",
      "Input shape:  torch.Size([64, 1, 32, 32])\n",
      "Reconstruction shape:  torch.Size([64, 1, 32, 32])\n",
      "Batch number:  144\n",
      "Batch shape:  torch.Size([64, 1, 32, 32])\n",
      "Input shape:  torch.Size([64, 1, 32, 32])\n",
      "Reconstruction shape:  torch.Size([64, 1, 32, 32])\n",
      "Batch number:  145\n",
      "Batch shape:  torch.Size([64, 1, 32, 32])\n",
      "Input shape:  torch.Size([64, 1, 32, 32])\n",
      "Reconstruction shape:  torch.Size([64, 1, 32, 32])\n",
      "Batch number:  146\n",
      "Batch shape:  torch.Size([64, 1, 32, 32])\n",
      "Input shape:  torch.Size([64, 1, 32, 32])\n"
     ]
    },
    {
     "name": "stderr",
     "output_type": "stream",
     "text": [
      " 16%|█▌        | 147/937 [00:09<00:50, 15.53it/s]"
     ]
    },
    {
     "name": "stdout",
     "output_type": "stream",
     "text": [
      "Reconstruction shape:  torch.Size([64, 1, 32, 32])\n",
      "Batch number:  147\n",
      "Batch shape:  torch.Size([64, 1, 32, 32])\n",
      "Input shape:  torch.Size([64, 1, 32, 32])\n",
      "Reconstruction shape:  torch.Size([64, 1, 32, 32])\n",
      "Batch number:  148\n",
      "Batch shape:  torch.Size([64, 1, 32, 32])\n",
      "Input shape:  torch.Size([64, 1, 32, 32])\n",
      "Reconstruction shape:  torch.Size([64, 1, 32, 32])\n",
      "Batch number:  149\n",
      "Batch shape:  torch.Size([64, 1, 32, 32])\n",
      "Input shape:  torch.Size([64, 1, 32, 32])\n",
      "Reconstruction shape:  torch.Size([64, 1, 32, 32])\n"
     ]
    },
    {
     "name": "stderr",
     "output_type": "stream",
     "text": [
      " 16%|█▌        | 151/937 [00:09<00:50, 15.59it/s]"
     ]
    },
    {
     "name": "stdout",
     "output_type": "stream",
     "text": [
      "Batch number:  150\n",
      "Batch shape:  torch.Size([64, 1, 32, 32])\n",
      "Input shape:  torch.Size([64, 1, 32, 32])\n",
      "Reconstruction shape:  torch.Size([64, 1, 32, 32])\n",
      "Batch number:  151\n",
      "Batch shape:  torch.Size([64, 1, 32, 32])\n",
      "Input shape:  torch.Size([64, 1, 32, 32])\n",
      "Reconstruction shape:  torch.Size([64, 1, 32, 32])\n",
      "Batch number:  152\n",
      "Batch shape:  torch.Size([64, 1, 32, 32])\n",
      "Input shape:  torch.Size([64, 1, 32, 32])\n",
      "Reconstruction shape:  torch.Size([64, 1, 32, 32])\n",
      "Batch number:  153\n",
      "Batch shape:  torch.Size([64, 1, 32, 32])\n",
      "Input shape:  torch.Size([64, 1, 32, 32])\n",
      "Reconstruction shape:  torch.Size([64, 1, 32, 32])\n"
     ]
    },
    {
     "name": "stderr",
     "output_type": "stream",
     "text": [
      " 17%|█▋        | 155/937 [00:10<00:55, 14.21it/s]"
     ]
    },
    {
     "name": "stdout",
     "output_type": "stream",
     "text": [
      "Batch number:  154\n",
      "Batch shape:  torch.Size([64, 1, 32, 32])\n",
      "Input shape:  torch.Size([64, 1, 32, 32])\n",
      "Reconstruction shape:  torch.Size([64, 1, 32, 32])\n",
      "Batch number:  155\n",
      "Batch shape:  torch.Size([64, 1, 32, 32])\n",
      "Input shape:  torch.Size([64, 1, 32, 32])\n",
      "Reconstruction shape:  torch.Size([64, 1, 32, 32])\n",
      "Batch number:  156\n",
      "Batch shape:  torch.Size([64, 1, 32, 32])\n",
      "Input shape:  torch.Size([64, 1, 32, 32])\n",
      "Reconstruction shape:  torch.Size([64, 1, 32, 32])\n"
     ]
    },
    {
     "name": "stderr",
     "output_type": "stream",
     "text": [
      " 17%|█▋        | 159/937 [00:10<00:52, 14.87it/s]"
     ]
    },
    {
     "name": "stdout",
     "output_type": "stream",
     "text": [
      "Batch number:  157\n",
      "Batch shape:  torch.Size([64, 1, 32, 32])\n",
      "Input shape:  torch.Size([64, 1, 32, 32])\n",
      "Reconstruction shape:  torch.Size([64, 1, 32, 32])\n",
      "Batch number:  158\n",
      "Batch shape:  torch.Size([64, 1, 32, 32])\n",
      "Input shape:  torch.Size([64, 1, 32, 32])\n",
      "Reconstruction shape:  torch.Size([64, 1, 32, 32])\n",
      "Batch number:  159\n",
      "Batch shape:  torch.Size([64, 1, 32, 32])\n",
      "Input shape:  torch.Size([64, 1, 32, 32])\n",
      "Reconstruction shape:  torch.Size([64, 1, 32, 32])\n",
      "Batch number:  160\n",
      "Batch shape:  torch.Size([64, 1, 32, 32])\n",
      "Input shape:  torch.Size([64, 1, 32, 32])\n"
     ]
    },
    {
     "name": "stderr",
     "output_type": "stream",
     "text": [
      " 17%|█▋        | 161/937 [00:10<00:51, 15.11it/s]"
     ]
    },
    {
     "name": "stdout",
     "output_type": "stream",
     "text": [
      "Reconstruction shape:  torch.Size([64, 1, 32, 32])\n",
      "Batch number:  161\n",
      "Batch shape:  torch.Size([64, 1, 32, 32])\n",
      "Input shape:  torch.Size([64, 1, 32, 32])\n",
      "Reconstruction shape:  torch.Size([64, 1, 32, 32])\n",
      "Batch number:  162\n",
      "Batch shape:  torch.Size([64, 1, 32, 32])\n",
      "Input shape:  torch.Size([64, 1, 32, 32])\n",
      "Reconstruction shape:  torch.Size([64, 1, 32, 32])\n",
      "Batch number:  163\n",
      "Batch shape:  torch.Size([64, 1, 32, 32])\n",
      "Input shape:  torch.Size([64, 1, 32, 32])\n",
      "Reconstruction shape:  torch.Size([64, 1, 32, 32])\n"
     ]
    },
    {
     "name": "stderr",
     "output_type": "stream",
     "text": [
      " 18%|█▊        | 165/937 [00:10<00:50, 15.19it/s]"
     ]
    },
    {
     "name": "stdout",
     "output_type": "stream",
     "text": [
      "Batch number:  164\n",
      "Batch shape:  torch.Size([64, 1, 32, 32])\n",
      "Input shape:  torch.Size([64, 1, 32, 32])\n",
      "Reconstruction shape:  torch.Size([64, 1, 32, 32])\n",
      "Batch number:  165\n",
      "Batch shape:  torch.Size([64, 1, 32, 32])\n",
      "Input shape:  torch.Size([64, 1, 32, 32])\n",
      "Reconstruction shape:  torch.Size([64, 1, 32, 32])\n",
      "Batch number:  166\n",
      "Batch shape:  torch.Size([64, 1, 32, 32])\n",
      "Input shape:  torch.Size([64, 1, 32, 32])\n",
      "Reconstruction shape:  torch.Size([64, 1, 32, 32])\n",
      "Batch number:  167\n",
      "Batch shape:  torch.Size([64, 1, 32, 32])\n",
      "Input shape:  torch.Size([64, 1, 32, 32])\n"
     ]
    },
    {
     "name": "stderr",
     "output_type": "stream",
     "text": [
      " 18%|█▊        | 169/937 [00:11<00:50, 15.14it/s]"
     ]
    },
    {
     "name": "stdout",
     "output_type": "stream",
     "text": [
      "Reconstruction shape:  torch.Size([64, 1, 32, 32])\n",
      "Batch number:  168\n",
      "Batch shape:  torch.Size([64, 1, 32, 32])\n",
      "Input shape:  torch.Size([64, 1, 32, 32])\n",
      "Reconstruction shape:  torch.Size([64, 1, 32, 32])\n",
      "Batch number:  169\n",
      "Batch shape:  torch.Size([64, 1, 32, 32])\n",
      "Input shape:  torch.Size([64, 1, 32, 32])\n",
      "Reconstruction shape:  torch.Size([64, 1, 32, 32])\n",
      "Batch number:  170\n",
      "Batch shape:  torch.Size([64, 1, 32, 32])\n",
      "Input shape:  torch.Size([64, 1, 32, 32])\n",
      "Reconstruction shape:  torch.Size([64, 1, 32, 32])\n"
     ]
    },
    {
     "name": "stderr",
     "output_type": "stream",
     "text": [
      " 18%|█▊        | 173/937 [00:11<00:50, 15.02it/s]"
     ]
    },
    {
     "name": "stdout",
     "output_type": "stream",
     "text": [
      "Batch number:  171\n",
      "Batch shape:  torch.Size([64, 1, 32, 32])\n",
      "Input shape:  torch.Size([64, 1, 32, 32])\n",
      "Reconstruction shape:  torch.Size([64, 1, 32, 32])\n",
      "Batch number:  172\n",
      "Batch shape:  torch.Size([64, 1, 32, 32])\n",
      "Input shape:  torch.Size([64, 1, 32, 32])\n",
      "Reconstruction shape:  torch.Size([64, 1, 32, 32])\n",
      "Batch number:  173\n",
      "Batch shape:  torch.Size([64, 1, 32, 32])\n",
      "Input shape:  torch.Size([64, 1, 32, 32])\n",
      "Reconstruction shape:  torch.Size([64, 1, 32, 32])\n"
     ]
    },
    {
     "name": "stderr",
     "output_type": "stream",
     "text": [
      " 19%|█▊        | 175/937 [00:11<00:51, 14.92it/s]"
     ]
    },
    {
     "name": "stdout",
     "output_type": "stream",
     "text": [
      "Batch number:  174\n",
      "Batch shape:  torch.Size([64, 1, 32, 32])\n",
      "Input shape:  torch.Size([64, 1, 32, 32])\n",
      "Reconstruction shape:  torch.Size([64, 1, 32, 32])\n",
      "Batch number:  175\n",
      "Batch shape:  torch.Size([64, 1, 32, 32])\n",
      "Input shape:  torch.Size([64, 1, 32, 32])\n",
      "Reconstruction shape:  torch.Size([64, 1, 32, 32])\n",
      "Batch number:  176\n",
      "Batch shape:  torch.Size([64, 1, 32, 32])\n",
      "Input shape:  torch.Size([64, 1, 32, 32])\n",
      "Reconstruction shape:  torch.Size([64, 1, 32, 32])\n"
     ]
    },
    {
     "name": "stderr",
     "output_type": "stream",
     "text": [
      " 19%|█▉        | 179/937 [00:11<00:50, 14.92it/s]"
     ]
    },
    {
     "name": "stdout",
     "output_type": "stream",
     "text": [
      "Batch number:  177\n",
      "Batch shape:  torch.Size([64, 1, 32, 32])\n",
      "Input shape:  torch.Size([64, 1, 32, 32])\n",
      "Reconstruction shape:  torch.Size([64, 1, 32, 32])\n",
      "Batch number:  178\n",
      "Batch shape:  torch.Size([64, 1, 32, 32])\n",
      "Input shape:  torch.Size([64, 1, 32, 32])\n",
      "Reconstruction shape:  torch.Size([64, 1, 32, 32])\n",
      "Batch number:  179\n",
      "Batch shape:  torch.Size([64, 1, 32, 32])\n",
      "Input shape:  torch.Size([64, 1, 32, 32])\n",
      "Reconstruction shape:  torch.Size([64, 1, 32, 32])\n"
     ]
    },
    {
     "name": "stderr",
     "output_type": "stream",
     "text": [
      " 19%|█▉        | 181/937 [00:11<00:50, 14.97it/s]"
     ]
    },
    {
     "name": "stdout",
     "output_type": "stream",
     "text": [
      "Batch number:  180\n",
      "Batch shape:  torch.Size([64, 1, 32, 32])\n",
      "Input shape:  torch.Size([64, 1, 32, 32])\n",
      "Reconstruction shape:  torch.Size([64, 1, 32, 32])\n",
      "Batch number:  181\n",
      "Batch shape:  torch.Size([64, 1, 32, 32])\n",
      "Input shape:  torch.Size([64, 1, 32, 32])\n",
      "Reconstruction shape:  torch.Size([64, 1, 32, 32])\n",
      "Batch number:  182\n",
      "Batch shape:  torch.Size([64, 1, 32, 32])\n",
      "Input shape:  torch.Size([64, 1, 32, 32])\n",
      "Reconstruction shape:  torch.Size([64, 1, 32, 32])\n",
      "Batch number:  183\n",
      "Batch shape:  torch.Size([64, 1, 32, 32])\n",
      "Input shape:  torch.Size([64, 1, 32, 32])\n"
     ]
    },
    {
     "name": "stderr",
     "output_type": "stream",
     "text": [
      " 20%|█▉        | 185/937 [00:12<00:50, 14.77it/s]"
     ]
    },
    {
     "name": "stdout",
     "output_type": "stream",
     "text": [
      "Reconstruction shape:  torch.Size([64, 1, 32, 32])\n",
      "Batch number:  184\n",
      "Batch shape:  torch.Size([64, 1, 32, 32])\n",
      "Input shape:  torch.Size([64, 1, 32, 32])\n",
      "Reconstruction shape:  torch.Size([64, 1, 32, 32])\n",
      "Batch number:  185\n",
      "Batch shape:  torch.Size([64, 1, 32, 32])\n",
      "Input shape:  torch.Size([64, 1, 32, 32])\n",
      "Reconstruction shape:  torch.Size([64, 1, 32, 32])\n",
      "Batch number:  186\n",
      "Batch shape:  torch.Size([64, 1, 32, 32])\n",
      "Input shape:  torch.Size([64, 1, 32, 32])\n"
     ]
    },
    {
     "name": "stderr",
     "output_type": "stream",
     "text": [
      " 20%|█▉        | 187/937 [00:12<00:50, 14.76it/s]"
     ]
    },
    {
     "name": "stdout",
     "output_type": "stream",
     "text": [
      "Reconstruction shape:  torch.Size([64, 1, 32, 32])\n",
      "Batch number:  187\n",
      "Batch shape:  torch.Size([64, 1, 32, 32])\n",
      "Input shape:  torch.Size([64, 1, 32, 32])\n",
      "Reconstruction shape:  torch.Size([64, 1, 32, 32])\n",
      "Batch number:  188\n",
      "Batch shape:  torch.Size([64, 1, 32, 32])\n",
      "Input shape:  torch.Size([64, 1, 32, 32])\n",
      "Reconstruction shape:  torch.Size([64, 1, 32, 32])\n",
      "Batch number:  189\n",
      "Batch shape:  torch.Size([64, 1, 32, 32])\n",
      "Input shape:  torch.Size([64, 1, 32, 32])\n",
      "Reconstruction shape:  torch.Size([64, 1, 32, 32])\n"
     ]
    },
    {
     "name": "stderr",
     "output_type": "stream",
     "text": [
      " 20%|██        | 191/937 [00:12<00:49, 15.19it/s]"
     ]
    },
    {
     "name": "stdout",
     "output_type": "stream",
     "text": [
      "Batch number:  190\n",
      "Batch shape:  torch.Size([64, 1, 32, 32])\n",
      "Input shape:  torch.Size([64, 1, 32, 32])\n",
      "Reconstruction shape:  torch.Size([64, 1, 32, 32])\n",
      "Batch number:  191\n",
      "Batch shape:  torch.Size([64, 1, 32, 32])\n",
      "Input shape:  torch.Size([64, 1, 32, 32])\n",
      "Reconstruction shape:  torch.Size([64, 1, 32, 32])\n",
      "Batch number:  192\n",
      "Batch shape:  torch.Size([64, 1, 32, 32])\n",
      "Input shape:  torch.Size([64, 1, 32, 32])\n",
      "Reconstruction shape:  torch.Size([64, 1, 32, 32])\n",
      "Batch number:  193\n",
      "Batch shape:  torch.Size([64, 1, 32, 32])\n",
      "Input shape:  torch.Size([64, 1, 32, 32])\n"
     ]
    },
    {
     "name": "stderr",
     "output_type": "stream",
     "text": [
      " 21%|██        | 195/937 [00:12<00:48, 15.17it/s]"
     ]
    },
    {
     "name": "stdout",
     "output_type": "stream",
     "text": [
      "Reconstruction shape:  torch.Size([64, 1, 32, 32])\n",
      "Batch number:  194\n",
      "Batch shape:  torch.Size([64, 1, 32, 32])\n",
      "Input shape:  torch.Size([64, 1, 32, 32])\n",
      "Reconstruction shape:  torch.Size([64, 1, 32, 32])\n",
      "Batch number:  195\n",
      "Batch shape:  torch.Size([64, 1, 32, 32])\n",
      "Input shape:  torch.Size([64, 1, 32, 32])\n",
      "Reconstruction shape:  torch.Size([64, 1, 32, 32])\n",
      "Batch number:  196\n",
      "Batch shape:  torch.Size([64, 1, 32, 32])\n",
      "Input shape:  torch.Size([64, 1, 32, 32])\n",
      "Reconstruction shape:  torch.Size([64, 1, 32, 32])\n"
     ]
    },
    {
     "name": "stderr",
     "output_type": "stream",
     "text": [
      " 21%|██        | 197/937 [00:13<00:49, 15.01it/s]"
     ]
    },
    {
     "name": "stdout",
     "output_type": "stream",
     "text": [
      "Batch number:  197\n",
      "Batch shape:  torch.Size([64, 1, 32, 32])\n",
      "Input shape:  torch.Size([64, 1, 32, 32])\n",
      "Reconstruction shape:  torch.Size([64, 1, 32, 32])\n",
      "Batch number:  198\n",
      "Batch shape:  torch.Size([64, 1, 32, 32])\n",
      "Input shape:  torch.Size([64, 1, 32, 32])\n",
      "Reconstruction shape:  torch.Size([64, 1, 32, 32])\n",
      "Batch number:  199\n",
      "Batch shape:  torch.Size([64, 1, 32, 32])\n",
      "Input shape:  torch.Size([64, 1, 32, 32])\n",
      "Reconstruction shape:  torch.Size([64, 1, 32, 32])\n"
     ]
    },
    {
     "name": "stderr",
     "output_type": "stream",
     "text": [
      " 21%|██▏       | 201/937 [00:13<00:52, 14.05it/s]"
     ]
    },
    {
     "name": "stdout",
     "output_type": "stream",
     "text": [
      "Batch number:  200\n",
      "Batch shape:  torch.Size([64, 1, 32, 32])\n",
      "Input shape:  torch.Size([64, 1, 32, 32])\n",
      "Reconstruction shape:  torch.Size([64, 1, 32, 32])\n",
      "Batch number:  201\n",
      "Batch shape:  torch.Size([64, 1, 32, 32])\n",
      "Input shape:  torch.Size([64, 1, 32, 32])\n",
      "Reconstruction shape:  torch.Size([64, 1, 32, 32])\n",
      "Batch number:  202\n",
      "Batch shape:  torch.Size([64, 1, 32, 32])\n",
      "Input shape:  torch.Size([64, 1, 32, 32])\n",
      "Reconstruction shape:  torch.Size([64, 1, 32, 32])\n",
      "Batch number:  203\n",
      "Batch shape:  torch.Size([64, 1, 32, 32])\n",
      "Input shape:  torch.Size([64, 1, 32, 32])\n",
      "Reconstruction shape:  torch.Size([64, 1, 32, 32])\n"
     ]
    },
    {
     "name": "stderr",
     "output_type": "stream",
     "text": [
      " 22%|██▏       | 205/937 [00:13<00:48, 15.04it/s]"
     ]
    },
    {
     "name": "stdout",
     "output_type": "stream",
     "text": [
      "Batch number:  204\n",
      "Batch shape:  torch.Size([64, 1, 32, 32])\n",
      "Input shape:  torch.Size([64, 1, 32, 32])\n",
      "Reconstruction shape:  torch.Size([64, 1, 32, 32])\n",
      "Batch number:  205\n",
      "Batch shape:  torch.Size([64, 1, 32, 32])\n",
      "Input shape:  torch.Size([64, 1, 32, 32])\n",
      "Reconstruction shape:  torch.Size([64, 1, 32, 32])\n",
      "Batch number:  206\n",
      "Batch shape:  torch.Size([64, 1, 32, 32])\n",
      "Input shape:  torch.Size([64, 1, 32, 32])\n",
      "Reconstruction shape:  torch.Size([64, 1, 32, 32])\n",
      "Batch number:  207\n",
      "Batch shape:  torch.Size([64, 1, 32, 32])\n",
      "Input shape:  torch.Size([64, 1, 32, 32])\n",
      "Reconstruction shape:  torch.Size([64, 1, 32, 32])\n"
     ]
    },
    {
     "name": "stderr",
     "output_type": "stream",
     "text": [
      " 22%|██▏       | 209/937 [00:13<00:47, 15.27it/s]"
     ]
    },
    {
     "name": "stdout",
     "output_type": "stream",
     "text": [
      "Batch number:  208\n",
      "Batch shape:  torch.Size([64, 1, 32, 32])\n",
      "Input shape:  torch.Size([64, 1, 32, 32])\n",
      "Reconstruction shape:  torch.Size([64, 1, 32, 32])\n",
      "Batch number:  209\n",
      "Batch shape:  torch.Size([64, 1, 32, 32])\n",
      "Input shape:  torch.Size([64, 1, 32, 32])\n",
      "Reconstruction shape:  torch.Size([64, 1, 32, 32])\n",
      "Batch number:  210\n",
      "Batch shape:  torch.Size([64, 1, 32, 32])\n",
      "Input shape:  torch.Size([64, 1, 32, 32])\n",
      "Reconstruction shape:  torch.Size([64, 1, 32, 32])\n",
      "Batch number:  211\n",
      "Batch shape:  torch.Size([64, 1, 32, 32])\n",
      "Input shape:  torch.Size([64, 1, 32, 32])\n"
     ]
    },
    {
     "name": "stderr",
     "output_type": "stream",
     "text": [
      " 23%|██▎       | 213/937 [00:14<00:47, 15.11it/s]"
     ]
    },
    {
     "name": "stdout",
     "output_type": "stream",
     "text": [
      "Reconstruction shape:  torch.Size([64, 1, 32, 32])\n",
      "Batch number:  212\n",
      "Batch shape:  torch.Size([64, 1, 32, 32])\n",
      "Input shape:  torch.Size([64, 1, 32, 32])\n",
      "Reconstruction shape:  torch.Size([64, 1, 32, 32])\n",
      "Batch number:  213\n",
      "Batch shape:  torch.Size([64, 1, 32, 32])\n",
      "Input shape:  torch.Size([64, 1, 32, 32])\n",
      "Reconstruction shape:  torch.Size([64, 1, 32, 32])\n",
      "Batch number:  214\n",
      "Batch shape:  torch.Size([64, 1, 32, 32])\n",
      "Input shape:  torch.Size([64, 1, 32, 32])\n"
     ]
    },
    {
     "name": "stderr",
     "output_type": "stream",
     "text": [
      " 23%|██▎       | 215/937 [00:14<00:46, 15.41it/s]"
     ]
    },
    {
     "name": "stdout",
     "output_type": "stream",
     "text": [
      "Reconstruction shape:  torch.Size([64, 1, 32, 32])\n",
      "Batch number:  215\n",
      "Batch shape:  torch.Size([64, 1, 32, 32])\n",
      "Input shape:  torch.Size([64, 1, 32, 32])\n",
      "Reconstruction shape:  torch.Size([64, 1, 32, 32])\n",
      "Batch number:  216\n",
      "Batch shape:  torch.Size([64, 1, 32, 32])\n",
      "Input shape:  torch.Size([64, 1, 32, 32])\n",
      "Reconstruction shape:  torch.Size([64, 1, 32, 32])\n",
      "Batch number:  217\n",
      "Batch shape:  torch.Size([64, 1, 32, 32])\n",
      "Input shape:  torch.Size([64, 1, 32, 32])\n",
      "Reconstruction shape:  torch.Size([64, 1, 32, 32])\n"
     ]
    },
    {
     "name": "stderr",
     "output_type": "stream",
     "text": [
      " 23%|██▎       | 219/937 [00:14<00:46, 15.29it/s]"
     ]
    },
    {
     "name": "stdout",
     "output_type": "stream",
     "text": [
      "Batch number:  218\n",
      "Batch shape:  torch.Size([64, 1, 32, 32])\n",
      "Input shape:  torch.Size([64, 1, 32, 32])\n",
      "Reconstruction shape:  torch.Size([64, 1, 32, 32])\n",
      "Batch number:  219\n",
      "Batch shape:  torch.Size([64, 1, 32, 32])\n",
      "Input shape:  torch.Size([64, 1, 32, 32])\n",
      "Reconstruction shape:  torch.Size([64, 1, 32, 32])\n",
      "Batch number:  220\n",
      "Batch shape:  torch.Size([64, 1, 32, 32])\n",
      "Input shape:  torch.Size([64, 1, 32, 32])\n",
      "Reconstruction shape:  torch.Size([64, 1, 32, 32])\n",
      "Batch number:  221\n",
      "Batch shape:  torch.Size([64, 1, 32, 32])\n",
      "Input shape:  torch.Size([64, 1, 32, 32])\n"
     ]
    },
    {
     "name": "stderr",
     "output_type": "stream",
     "text": [
      " 24%|██▍       | 223/937 [00:14<00:46, 15.28it/s]"
     ]
    },
    {
     "name": "stdout",
     "output_type": "stream",
     "text": [
      "Reconstruction shape:  torch.Size([64, 1, 32, 32])\n",
      "Batch number:  222\n",
      "Batch shape:  torch.Size([64, 1, 32, 32])\n",
      "Input shape:  torch.Size([64, 1, 32, 32])\n",
      "Reconstruction shape:  torch.Size([64, 1, 32, 32])\n",
      "Batch number:  223\n",
      "Batch shape:  torch.Size([64, 1, 32, 32])\n",
      "Input shape:  torch.Size([64, 1, 32, 32])\n",
      "Reconstruction shape:  torch.Size([64, 1, 32, 32])\n",
      "Batch number:  224\n",
      "Batch shape:  torch.Size([64, 1, 32, 32])\n",
      "Input shape:  torch.Size([64, 1, 32, 32])\n",
      "Reconstruction shape:  torch.Size([64, 1, 32, 32])\n"
     ]
    },
    {
     "name": "stderr",
     "output_type": "stream",
     "text": [
      " 24%|██▍       | 227/937 [00:15<00:46, 15.25it/s]"
     ]
    },
    {
     "name": "stdout",
     "output_type": "stream",
     "text": [
      "Batch number:  225\n",
      "Batch shape:  torch.Size([64, 1, 32, 32])\n",
      "Input shape:  torch.Size([64, 1, 32, 32])\n",
      "Reconstruction shape:  torch.Size([64, 1, 32, 32])\n",
      "Batch number:  226\n",
      "Batch shape:  torch.Size([64, 1, 32, 32])\n",
      "Input shape:  torch.Size([64, 1, 32, 32])\n",
      "Reconstruction shape:  torch.Size([64, 1, 32, 32])\n",
      "Batch number:  227\n",
      "Batch shape:  torch.Size([64, 1, 32, 32])\n",
      "Input shape:  torch.Size([64, 1, 32, 32])\n",
      "Reconstruction shape:  torch.Size([64, 1, 32, 32])\n",
      "Batch number:  228\n",
      "Batch shape:  torch.Size([64, 1, 32, 32])\n",
      "Input shape:  torch.Size([64, 1, 32, 32])\n"
     ]
    },
    {
     "name": "stderr",
     "output_type": "stream",
     "text": [
      " 24%|██▍       | 229/937 [00:15<00:46, 15.27it/s]"
     ]
    },
    {
     "name": "stdout",
     "output_type": "stream",
     "text": [
      "Reconstruction shape:  torch.Size([64, 1, 32, 32])\n",
      "Batch number:  229\n",
      "Batch shape:  torch.Size([64, 1, 32, 32])\n",
      "Input shape:  torch.Size([64, 1, 32, 32])\n",
      "Reconstruction shape:  torch.Size([64, 1, 32, 32])\n",
      "Batch number:  230\n",
      "Batch shape:  torch.Size([64, 1, 32, 32])\n",
      "Input shape:  torch.Size([64, 1, 32, 32])\n",
      "Reconstruction shape:  torch.Size([64, 1, 32, 32])\n",
      "Batch number:  231\n",
      "Batch shape:  torch.Size([64, 1, 32, 32])\n",
      "Input shape:  torch.Size([64, 1, 32, 32])\n",
      "Reconstruction shape:  torch.Size([64, 1, 32, 32])\n"
     ]
    },
    {
     "name": "stderr",
     "output_type": "stream",
     "text": [
      " 25%|██▍       | 233/937 [00:15<00:45, 15.44it/s]"
     ]
    },
    {
     "name": "stdout",
     "output_type": "stream",
     "text": [
      "Batch number:  232\n",
      "Batch shape:  torch.Size([64, 1, 32, 32])\n",
      "Input shape:  torch.Size([64, 1, 32, 32])\n",
      "Reconstruction shape:  torch.Size([64, 1, 32, 32])\n",
      "Batch number:  233\n",
      "Batch shape:  torch.Size([64, 1, 32, 32])\n",
      "Input shape:  torch.Size([64, 1, 32, 32])\n",
      "Reconstruction shape:  torch.Size([64, 1, 32, 32])\n",
      "Batch number:  234\n",
      "Batch shape:  torch.Size([64, 1, 32, 32])\n",
      "Input shape:  torch.Size([64, 1, 32, 32])\n",
      "Reconstruction shape:  torch.Size([64, 1, 32, 32])\n",
      "Batch number:  235\n",
      "Batch shape:  torch.Size([64, 1, 32, 32])\n",
      "Input shape:  torch.Size([64, 1, 32, 32])\n"
     ]
    },
    {
     "name": "stderr",
     "output_type": "stream",
     "text": [
      " 25%|██▌       | 237/937 [00:15<00:45, 15.45it/s]"
     ]
    },
    {
     "name": "stdout",
     "output_type": "stream",
     "text": [
      "Reconstruction shape:  torch.Size([64, 1, 32, 32])\n",
      "Batch number:  236\n",
      "Batch shape:  torch.Size([64, 1, 32, 32])\n",
      "Input shape:  torch.Size([64, 1, 32, 32])\n",
      "Reconstruction shape:  torch.Size([64, 1, 32, 32])\n",
      "Batch number:  237\n",
      "Batch shape:  torch.Size([64, 1, 32, 32])\n",
      "Input shape:  torch.Size([64, 1, 32, 32])\n",
      "Reconstruction shape:  torch.Size([64, 1, 32, 32])\n",
      "Batch number:  238\n",
      "Batch shape:  torch.Size([64, 1, 32, 32])\n",
      "Input shape:  torch.Size([64, 1, 32, 32])\n",
      "Reconstruction shape:  torch.Size([64, 1, 32, 32])\n"
     ]
    },
    {
     "name": "stderr",
     "output_type": "stream",
     "text": [
      " 25%|██▌       | 238/937 [00:15<00:46, 15.04it/s]\n"
     ]
    },
    {
     "name": "stdout",
     "output_type": "stream",
     "text": [
      "Batch number:  239\n",
      "Batch shape:  torch.Size([64, 1, 32, 32])\n",
      "Input shape:  torch.Size([64, 1, 32, 32])\n",
      "Reconstruction shape:  torch.Size([64, 1, 32, 32])\n"
     ]
    },
    {
     "ename": "KeyboardInterrupt",
     "evalue": "",
     "output_type": "error",
     "traceback": [
      "\u001b[0;31m---------------------------------------------------------------------------\u001b[0m",
      "\u001b[0;31mKeyboardInterrupt\u001b[0m                         Traceback (most recent call last)",
      "Cell \u001b[0;32mIn[6], line 5\u001b[0m\n\u001b[1;32m      3\u001b[0m \u001b[39mfor\u001b[39;00m epoch \u001b[39min\u001b[39;00m \u001b[39mrange\u001b[39m(epochs):\n\u001b[1;32m      4\u001b[0m     \u001b[39mprint\u001b[39m(\u001b[39mf\u001b[39m\u001b[39m\"\u001b[39m\u001b[39mEpoch \u001b[39m\u001b[39m{\u001b[39;00mepoch\u001b[39m+\u001b[39m\u001b[39m1\u001b[39m\u001b[39m}\u001b[39;00m\u001b[39m of \u001b[39m\u001b[39m{\u001b[39;00mepochs\u001b[39m}\u001b[39;00m\u001b[39m\"\u001b[39m)\n\u001b[0;32m----> 5\u001b[0m     train_epoch_loss \u001b[39m=\u001b[39m train(\n\u001b[1;32m      6\u001b[0m         model, trainloader, trainset, device, optimizer, criterion\n\u001b[1;32m      7\u001b[0m     )\n\u001b[1;32m      8\u001b[0m     valid_epoch_loss, recon_images \u001b[39m=\u001b[39m validate(\n\u001b[1;32m      9\u001b[0m         model, testloader, testset, device, criterion\n\u001b[1;32m     10\u001b[0m     )\n\u001b[1;32m     11\u001b[0m     train_loss\u001b[39m.\u001b[39mappend(train_epoch_loss)\n",
      "File \u001b[0;32m~/Documents/AI/Dissertation/repositories/AI_Dissertation/example/engine.py:31\u001b[0m, in \u001b[0;36mtrain\u001b[0;34m(model, dataloader, dataset, device, optimizer, criterion)\u001b[0m\n\u001b[1;32m     29\u001b[0m bce_loss \u001b[39m=\u001b[39m criterion(reconstruction, data)\n\u001b[1;32m     30\u001b[0m loss \u001b[39m=\u001b[39m final_loss(bce_loss, mu, logvar)\n\u001b[0;32m---> 31\u001b[0m loss\u001b[39m.\u001b[39;49mbackward()\n\u001b[1;32m     32\u001b[0m running_loss \u001b[39m+\u001b[39m\u001b[39m=\u001b[39m loss\u001b[39m.\u001b[39mitem()\n\u001b[1;32m     33\u001b[0m optimizer\u001b[39m.\u001b[39mstep()\n",
      "File \u001b[0;32m~/miniforge3/envs/torch-gpu/lib/python3.8/site-packages/torch/_tensor.py:488\u001b[0m, in \u001b[0;36mTensor.backward\u001b[0;34m(self, gradient, retain_graph, create_graph, inputs)\u001b[0m\n\u001b[1;32m    478\u001b[0m \u001b[39mif\u001b[39;00m has_torch_function_unary(\u001b[39mself\u001b[39m):\n\u001b[1;32m    479\u001b[0m     \u001b[39mreturn\u001b[39;00m handle_torch_function(\n\u001b[1;32m    480\u001b[0m         Tensor\u001b[39m.\u001b[39mbackward,\n\u001b[1;32m    481\u001b[0m         (\u001b[39mself\u001b[39m,),\n\u001b[0;32m   (...)\u001b[0m\n\u001b[1;32m    486\u001b[0m         inputs\u001b[39m=\u001b[39minputs,\n\u001b[1;32m    487\u001b[0m     )\n\u001b[0;32m--> 488\u001b[0m torch\u001b[39m.\u001b[39;49mautograd\u001b[39m.\u001b[39;49mbackward(\n\u001b[1;32m    489\u001b[0m     \u001b[39mself\u001b[39;49m, gradient, retain_graph, create_graph, inputs\u001b[39m=\u001b[39;49minputs\n\u001b[1;32m    490\u001b[0m )\n",
      "File \u001b[0;32m~/miniforge3/envs/torch-gpu/lib/python3.8/site-packages/torch/autograd/__init__.py:204\u001b[0m, in \u001b[0;36mbackward\u001b[0;34m(tensors, grad_tensors, retain_graph, create_graph, grad_variables, inputs)\u001b[0m\n\u001b[1;32m    199\u001b[0m     retain_graph \u001b[39m=\u001b[39m create_graph\n\u001b[1;32m    201\u001b[0m \u001b[39m# The reason we repeat the same comment below is that\u001b[39;00m\n\u001b[1;32m    202\u001b[0m \u001b[39m# some Python versions print out the first line of a multi-line function\u001b[39;00m\n\u001b[1;32m    203\u001b[0m \u001b[39m# calls in the traceback and some print out the last line\u001b[39;00m\n\u001b[0;32m--> 204\u001b[0m Variable\u001b[39m.\u001b[39;49m_execution_engine\u001b[39m.\u001b[39;49mrun_backward(  \u001b[39m# Calls into the C++ engine to run the backward pass\u001b[39;49;00m\n\u001b[1;32m    205\u001b[0m     tensors, grad_tensors_, retain_graph, create_graph, inputs,\n\u001b[1;32m    206\u001b[0m     allow_unreachable\u001b[39m=\u001b[39;49m\u001b[39mTrue\u001b[39;49;00m, accumulate_grad\u001b[39m=\u001b[39;49m\u001b[39mTrue\u001b[39;49;00m)\n",
      "\u001b[0;31mKeyboardInterrupt\u001b[0m: "
     ]
    }
   ],
   "source": [
    "train_loss = []\n",
    "valid_loss = []\n",
    "for epoch in range(epochs):\n",
    "    print(f\"Epoch {epoch+1} of {epochs}\")\n",
    "    train_epoch_loss = train(\n",
    "        model, trainloader, trainset, device, optimizer, criterion\n",
    "    )\n",
    "    valid_epoch_loss, recon_images = validate(\n",
    "        model, testloader, testset, device, criterion\n",
    "    )\n",
    "    train_loss.append(train_epoch_loss)\n",
    "    valid_loss.append(valid_epoch_loss)\n",
    "    # save the reconstructed images from the validation loop\n",
    "    save_reconstructed_images(recon_images, epoch+1)\n",
    "    # convert the reconstructed images to PyTorch image grid format\n",
    "    image_grid = make_grid(recon_images.detach().cpu())\n",
    "    grid_images.append(image_grid)\n",
    "    print(f\"Train Loss: {train_epoch_loss:.4f}\")\n",
    "    print(f\"Val Loss: {valid_epoch_loss:.4f}\")"
   ]
  }
 ],
 "metadata": {
  "kernelspec": {
   "display_name": "torch-gpu",
   "language": "python",
   "name": "python3"
  },
  "language_info": {
   "codemirror_mode": {
    "name": "ipython",
    "version": 3
   },
   "file_extension": ".py",
   "mimetype": "text/x-python",
   "name": "python",
   "nbconvert_exporter": "python",
   "pygments_lexer": "ipython3",
   "version": "3.8.16"
  },
  "orig_nbformat": 4
 },
 "nbformat": 4,
 "nbformat_minor": 2
}
