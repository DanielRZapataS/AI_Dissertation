{
 "cells": [
  {
   "cell_type": "code",
   "execution_count": 2,
   "metadata": {},
   "outputs": [],
   "source": [
    "import numpy as np \n",
    "import torch\n",
    "from torchsummary import summary\n",
    "import torch.optim as optim\n",
    "import matplotlib.pyplot as plt\n",
    "import pandas as pd\n",
    "import torch; torch.manual_seed(0)\n",
    "import torch.nn as nn\n",
    "import torch.nn.functional as F\n",
    "import torch.utils\n",
    "import matplotlib.pyplot as plt; plt.rcParams['figure.dpi'] = 200\n",
    "from sklearn.model_selection import train_test_split\n",
    "from sklearn.metrics import mean_squared_error\n",
    "import sys\n",
    "sys.path.append(\"../\")"
   ]
  },
  {
   "cell_type": "code",
   "execution_count": 31,
   "metadata": {},
   "outputs": [],
   "source": [
    "device = 'cpu'\n",
    "gen_dir = '../generated_data/'\n",
    "models_dir = '../models/'"
   ]
  },
  {
   "cell_type": "code",
   "execution_count": 18,
   "metadata": {},
   "outputs": [],
   "source": [
    "embedding_dim = 16\n",
    "num_embeddings = 128"
   ]
  },
  {
   "cell_type": "code",
   "execution_count": 33,
   "metadata": {},
   "outputs": [
    {
     "name": "stdout",
     "output_type": "stream",
     "text": [
      "(34286, 64)\n"
     ]
    },
    {
     "data": {
      "text/html": [
       "<div>\n",
       "<style scoped>\n",
       "    .dataframe tbody tr th:only-of-type {\n",
       "        vertical-align: middle;\n",
       "    }\n",
       "\n",
       "    .dataframe tbody tr th {\n",
       "        vertical-align: top;\n",
       "    }\n",
       "\n",
       "    .dataframe thead th {\n",
       "        text-align: right;\n",
       "    }\n",
       "</style>\n",
       "<table border=\"1\" class=\"dataframe\">\n",
       "  <thead>\n",
       "    <tr style=\"text-align: right;\">\n",
       "      <th></th>\n",
       "      <th>0</th>\n",
       "      <th>1</th>\n",
       "      <th>2</th>\n",
       "      <th>3</th>\n",
       "      <th>4</th>\n",
       "      <th>5</th>\n",
       "      <th>6</th>\n",
       "      <th>7</th>\n",
       "      <th>8</th>\n",
       "      <th>9</th>\n",
       "      <th>...</th>\n",
       "      <th>54</th>\n",
       "      <th>55</th>\n",
       "      <th>56</th>\n",
       "      <th>57</th>\n",
       "      <th>58</th>\n",
       "      <th>59</th>\n",
       "      <th>60</th>\n",
       "      <th>61</th>\n",
       "      <th>62</th>\n",
       "      <th>63</th>\n",
       "    </tr>\n",
       "  </thead>\n",
       "  <tbody>\n",
       "    <tr>\n",
       "      <th>0</th>\n",
       "      <td>88</td>\n",
       "      <td>56</td>\n",
       "      <td>15</td>\n",
       "      <td>81</td>\n",
       "      <td>15</td>\n",
       "      <td>1</td>\n",
       "      <td>1</td>\n",
       "      <td>75</td>\n",
       "      <td>26</td>\n",
       "      <td>116</td>\n",
       "      <td>...</td>\n",
       "      <td>2</td>\n",
       "      <td>29</td>\n",
       "      <td>12</td>\n",
       "      <td>28</td>\n",
       "      <td>88</td>\n",
       "      <td>15</td>\n",
       "      <td>92</td>\n",
       "      <td>120</td>\n",
       "      <td>47</td>\n",
       "      <td>24</td>\n",
       "    </tr>\n",
       "    <tr>\n",
       "      <th>1</th>\n",
       "      <td>7</td>\n",
       "      <td>51</td>\n",
       "      <td>60</td>\n",
       "      <td>108</td>\n",
       "      <td>70</td>\n",
       "      <td>70</td>\n",
       "      <td>114</td>\n",
       "      <td>102</td>\n",
       "      <td>22</td>\n",
       "      <td>90</td>\n",
       "      <td>...</td>\n",
       "      <td>45</td>\n",
       "      <td>69</td>\n",
       "      <td>8</td>\n",
       "      <td>90</td>\n",
       "      <td>123</td>\n",
       "      <td>55</td>\n",
       "      <td>90</td>\n",
       "      <td>7</td>\n",
       "      <td>36</td>\n",
       "      <td>76</td>\n",
       "    </tr>\n",
       "    <tr>\n",
       "      <th>2</th>\n",
       "      <td>76</td>\n",
       "      <td>8</td>\n",
       "      <td>116</td>\n",
       "      <td>88</td>\n",
       "      <td>20</td>\n",
       "      <td>51</td>\n",
       "      <td>102</td>\n",
       "      <td>20</td>\n",
       "      <td>20</td>\n",
       "      <td>104</td>\n",
       "      <td>...</td>\n",
       "      <td>67</td>\n",
       "      <td>36</td>\n",
       "      <td>81</td>\n",
       "      <td>90</td>\n",
       "      <td>82</td>\n",
       "      <td>115</td>\n",
       "      <td>23</td>\n",
       "      <td>113</td>\n",
       "      <td>101</td>\n",
       "      <td>70</td>\n",
       "    </tr>\n",
       "    <tr>\n",
       "      <th>3</th>\n",
       "      <td>53</td>\n",
       "      <td>8</td>\n",
       "      <td>32</td>\n",
       "      <td>34</td>\n",
       "      <td>96</td>\n",
       "      <td>62</td>\n",
       "      <td>20</td>\n",
       "      <td>69</td>\n",
       "      <td>51</td>\n",
       "      <td>35</td>\n",
       "      <td>...</td>\n",
       "      <td>115</td>\n",
       "      <td>34</td>\n",
       "      <td>18</td>\n",
       "      <td>35</td>\n",
       "      <td>82</td>\n",
       "      <td>115</td>\n",
       "      <td>70</td>\n",
       "      <td>95</td>\n",
       "      <td>64</td>\n",
       "      <td>70</td>\n",
       "    </tr>\n",
       "    <tr>\n",
       "      <th>4</th>\n",
       "      <td>46</td>\n",
       "      <td>53</td>\n",
       "      <td>116</td>\n",
       "      <td>60</td>\n",
       "      <td>77</td>\n",
       "      <td>35</td>\n",
       "      <td>62</td>\n",
       "      <td>20</td>\n",
       "      <td>13</td>\n",
       "      <td>87</td>\n",
       "      <td>...</td>\n",
       "      <td>30</td>\n",
       "      <td>7</td>\n",
       "      <td>18</td>\n",
       "      <td>23</td>\n",
       "      <td>82</td>\n",
       "      <td>55</td>\n",
       "      <td>18</td>\n",
       "      <td>64</td>\n",
       "      <td>36</td>\n",
       "      <td>62</td>\n",
       "    </tr>\n",
       "  </tbody>\n",
       "</table>\n",
       "<p>5 rows × 64 columns</p>\n",
       "</div>"
      ],
      "text/plain": [
       "    0   1    2    3   4   5    6    7   8    9  ...   54  55  56  57   58   \n",
       "0  88  56   15   81  15   1    1   75  26  116  ...    2  29  12  28   88  \\\n",
       "1   7  51   60  108  70  70  114  102  22   90  ...   45  69   8  90  123   \n",
       "2  76   8  116   88  20  51  102   20  20  104  ...   67  36  81  90   82   \n",
       "3  53   8   32   34  96  62   20   69  51   35  ...  115  34  18  35   82   \n",
       "4  46  53  116   60  77  35   62   20  13   87  ...   30   7  18  23   82   \n",
       "\n",
       "    59  60   61   62  63  \n",
       "0   15  92  120   47  24  \n",
       "1   55  90    7   36  76  \n",
       "2  115  23  113  101  70  \n",
       "3  115  70   95   64  70  \n",
       "4   55  18   64   36  62  \n",
       "\n",
       "[5 rows x 64 columns]"
      ]
     },
     "execution_count": 33,
     "metadata": {},
     "output_type": "execute_result"
    }
   ],
   "source": [
    "lstm_data_df = pd.read_csv(gen_dir+'encoding_indices_data.csv')\n",
    "print(lstm_data_df.shape)\n",
    "lstm_data_df.head()"
   ]
  },
  {
   "cell_type": "code",
   "execution_count": 20,
   "metadata": {},
   "outputs": [
    {
     "data": {
      "text/plain": [
       "array([[ 88,  56,  15, ..., 120,  47,  24],\n",
       "       [  7,  51,  60, ...,   7,  36,  76],\n",
       "       [ 76,   8, 116, ..., 113, 101,  70],\n",
       "       ...,\n",
       "       [ 35, 126, 115, ...,  70,  35, 118],\n",
       "       [ 36,  23, 114, ...,  24, 108,  20],\n",
       "       [ 47,  79,  15, ..., 124,  84,   8]])"
      ]
     },
     "execution_count": 20,
     "metadata": {},
     "output_type": "execute_result"
    }
   ],
   "source": [
    "lstm_data = lstm_data_df.to_numpy()\n",
    "lstm_data"
   ]
  },
  {
   "cell_type": "markdown",
   "metadata": {},
   "source": [
    "# LSTM model"
   ]
  },
  {
   "cell_type": "code",
   "execution_count": 21,
   "metadata": {},
   "outputs": [
    {
     "name": "stdout",
     "output_type": "stream",
     "text": [
      "Total Patterns:  1097152\n"
     ]
    }
   ],
   "source": [
    "seq_length = int(lstm_data.shape[1]/2)\n",
    "dataX = []\n",
    "dataY = []\n",
    "for j in lstm_data:\n",
    "    for i in range(0, lstm_data.shape[1] - seq_length, 1):\n",
    "        seq_in = j[i:i + seq_length]\n",
    "        seq_out = j[i + seq_length]\n",
    "        dataX.append( seq_in)\n",
    "        dataY.append(seq_out)\n",
    "n_patterns = len(dataX)\n",
    "print(\"Total Patterns: \", n_patterns)"
   ]
  },
  {
   "cell_type": "code",
   "execution_count": 22,
   "metadata": {},
   "outputs": [
    {
     "name": "stdout",
     "output_type": "stream",
     "text": [
      "torch.Size([1097152, 32, 1]) torch.Size([1097152])\n"
     ]
    }
   ],
   "source": [
    "X = torch.tensor(dataX, dtype=torch.float32).reshape(n_patterns, seq_length, 1)\n",
    "# X = X / float(num_embeddings)\n",
    "y = torch.tensor(dataY)\n",
    "print(X.shape, y.shape)"
   ]
  },
  {
   "cell_type": "code",
   "execution_count": 23,
   "metadata": {},
   "outputs": [],
   "source": [
    "X = X / float(num_embeddings)\n",
    "X_train, X_test, y_train, y_test  = train_test_split(X,y, test_size=0.2, random_state=42)"
   ]
  },
  {
   "cell_type": "code",
   "execution_count": 24,
   "metadata": {},
   "outputs": [],
   "source": [
    "\n",
    "import torch.nn as nn\n",
    "import torch.optim as optim\n",
    "import torch.utils.data as datatools\n",
    "\n",
    "class LSTM_Model(nn.Module):\n",
    "    def __init__(self):\n",
    "        super().__init__()\n",
    "        self.lstm = nn.LSTM(input_size=1, hidden_size=256, num_layers=2, batch_first=True)\n",
    "        self.dropout = nn.Dropout(0.2)\n",
    "        self.linear = nn.Linear(256, num_embeddings)\n",
    "    def forward(self, x):\n",
    "        x, _ = self.lstm(x)\n",
    "        # take only the last output\n",
    "        x = x[:, -1, :]\n",
    "        # produce output\n",
    "        x = self.linear(self.dropout(x))\n",
    "        return x"
   ]
  },
  {
   "cell_type": "code",
   "execution_count": 25,
   "metadata": {},
   "outputs": [],
   "source": [
    "device = 'mps'\n",
    "n_epochs = 40\n",
    "batch_size = 128\n",
    "lstm_model = LSTM_Model().to(device)\n",
    "\n",
    "optimizer = optim.Adam(lstm_model.parameters())\n",
    "loss_fn = nn.CrossEntropyLoss(reduction=\"sum\")\n",
    "loader_train = datatools.DataLoader(datatools.TensorDataset(X_train, y_train), shuffle=True, batch_size=batch_size)\n",
    "loader_test = datatools.DataLoader(datatools.TensorDataset(X_test, y_test), shuffle=False, batch_size=batch_size)"
   ]
  },
  {
   "cell_type": "code",
   "execution_count": 28,
   "metadata": {},
   "outputs": [
    {
     "name": "stdout",
     "output_type": "stream",
     "text": [
      "Epoch 1/40: Train Cross-entropy: 548.814961\n",
      "Epoch 1/40: Test Cross-entropy: 548.322754\n",
      "Epoch 2/40: Train Cross-entropy: 548.113298\n",
      "Epoch 2/40: Test Cross-entropy: 548.007996\n",
      "Epoch 3/40: Train Cross-entropy: 547.932816\n",
      "Epoch 3/40: Test Cross-entropy: 548.006531\n",
      "Epoch 4/40: Train Cross-entropy: 547.825970\n",
      "Epoch 4/40: Test Cross-entropy: 547.938721\n",
      "Epoch 5/40: Train Cross-entropy: 547.640274\n",
      "Epoch 5/40: Test Cross-entropy: 547.524353\n",
      "Epoch 6/40: Train Cross-entropy: 547.235856\n",
      "Epoch 6/40: Test Cross-entropy: 547.524353\n",
      "Epoch 7/40: Train Cross-entropy: 547.065653\n",
      "Epoch 7/40: Test Cross-entropy: 546.739441\n",
      "Epoch 8/40: Train Cross-entropy: 546.608851\n",
      "Epoch 8/40: Test Cross-entropy: 546.602478\n",
      "Epoch 9/40: Train Cross-entropy: 546.147383\n",
      "Epoch 9/40: Test Cross-entropy: 544.148987\n",
      "Epoch 10/40: Train Cross-entropy: 544.601742\n",
      "Epoch 10/40: Test Cross-entropy: 542.609558\n",
      "Epoch 11/40: Train Cross-entropy: 541.204287\n",
      "Epoch 11/40: Test Cross-entropy: 540.131409\n",
      "Epoch 12/40: Train Cross-entropy: 539.029090\n",
      "Epoch 12/40: Test Cross-entropy: 539.024109\n",
      "Epoch 13/40: Train Cross-entropy: 537.219707\n",
      "Epoch 13/40: Test Cross-entropy: 536.961426\n",
      "Epoch 14/40: Train Cross-entropy: 535.740923\n",
      "Epoch 14/40: Test Cross-entropy: 535.419312\n",
      "Epoch 15/40: Train Cross-entropy: 534.629411\n",
      "Epoch 15/40: Test Cross-entropy: 534.298279\n",
      "Epoch 16/40: Train Cross-entropy: 533.569335\n",
      "Epoch 16/40: Test Cross-entropy: 533.181824\n",
      "Epoch 17/40: Train Cross-entropy: 532.283866\n",
      "Epoch 17/40: Test Cross-entropy: 532.611877\n",
      "Epoch 18/40: Train Cross-entropy: 530.765055\n",
      "Epoch 18/40: Test Cross-entropy: 530.416626\n",
      "Epoch 19/40: Train Cross-entropy: 529.114793\n",
      "Epoch 19/40: Test Cross-entropy: 530.089478\n",
      "Epoch 20/40: Train Cross-entropy: 527.497485\n",
      "Epoch 20/40: Test Cross-entropy: 527.745728\n",
      "Epoch 21/40: Train Cross-entropy: 525.995188\n",
      "Epoch 21/40: Test Cross-entropy: 527.597656\n",
      "Epoch 22/40: Train Cross-entropy: 524.543672\n",
      "Epoch 22/40: Test Cross-entropy: 525.467041\n",
      "Epoch 23/40: Train Cross-entropy: 523.195939\n",
      "Epoch 23/40: Test Cross-entropy: 525.060303\n",
      "Epoch 24/40: Train Cross-entropy: 521.819043\n",
      "Epoch 24/40: Test Cross-entropy: 524.288086\n",
      "Epoch 25/40: Train Cross-entropy: 520.653798\n",
      "Epoch 25/40: Test Cross-entropy: 523.801392\n",
      "Epoch 26/40: Train Cross-entropy: 519.505104\n",
      "Epoch 26/40: Test Cross-entropy: 523.234497\n",
      "Epoch 27/40: Train Cross-entropy: 518.195174\n",
      "Epoch 27/40: Test Cross-entropy: 521.817444\n",
      "Epoch 28/40: Train Cross-entropy: 517.019503\n",
      "Epoch 28/40: Test Cross-entropy: 522.130371\n",
      "Epoch 29/40: Train Cross-entropy: 515.981117\n",
      "Epoch 29/40: Test Cross-entropy: 521.228943\n",
      "Epoch 30/40: Train Cross-entropy: 514.681977\n",
      "Epoch 30/40: Test Cross-entropy: 520.585266\n",
      "Epoch 31/40: Train Cross-entropy: 513.475321\n",
      "Epoch 31/40: Test Cross-entropy: 520.072266\n",
      "Epoch 32/40: Train Cross-entropy: 512.601451\n",
      "Epoch 32/40: Test Cross-entropy: 519.319946\n",
      "Epoch 33/40: Train Cross-entropy: 511.335849\n",
      "Epoch 33/40: Test Cross-entropy: 518.923584\n",
      "Epoch 34/40: Train Cross-entropy: 510.441200\n",
      "Epoch 34/40: Test Cross-entropy: 518.452820\n",
      "Epoch 35/40: Train Cross-entropy: 509.449985\n",
      "Epoch 35/40: Test Cross-entropy: 518.417725\n",
      "Epoch 36/40: Train Cross-entropy: 508.599738\n",
      "Epoch 36/40: Test Cross-entropy: 518.035706\n",
      "Epoch 37/40: Train Cross-entropy: 507.690143\n",
      "Epoch 37/40: Test Cross-entropy: 518.045044\n",
      "Epoch 38/40: Train Cross-entropy: 506.678259\n",
      "Epoch 38/40: Test Cross-entropy: 517.477722\n",
      "Epoch 39/40: Train Cross-entropy: 505.943424\n",
      "Epoch 39/40: Test Cross-entropy: 516.986328\n",
      "Epoch 40/40: Train Cross-entropy: 504.862715\n",
      "Epoch 40/40: Test Cross-entropy: 516.896667\n"
     ]
    }
   ],
   "source": [
    "best_model = None\n",
    "best_loss = np.inf\n",
    "loss_train = []\n",
    "loss_test = []\n",
    "for epoch in range(n_epochs):\n",
    "    lstm_model.train()\n",
    "    loss_tr =0\n",
    "    for X_batch, y_batch in loader_train:\n",
    "        X_batch = X_batch.to(device)\n",
    "        y_batch = y_batch.to(device)\n",
    "        y_pred = lstm_model(X_batch)\n",
    "        loss = loss_fn(y_pred, y_batch)\n",
    "        optimizer.zero_grad()\n",
    "        loss.backward()\n",
    "        optimizer.step()\n",
    "        loss_tr += loss\n",
    "    loss_train.append(loss_tr)\n",
    "    print('Epoch %s/%s: Train Cross-entropy: %.6f' % (epoch+1,n_epochs, loss_tr.item()/len(loader_train)))\n",
    "        \n",
    "    # Validation\n",
    "    lstm_model.eval()\n",
    "    loss= 0\n",
    "    with torch.no_grad():\n",
    "        for X_batch_test, y_batch_test in loader_test:\n",
    "            X_batch_test = X_batch_test.to(device)\n",
    "            y_batch_test = y_batch_test.to(device)\n",
    "            y_pred_test = lstm_model(X_batch_test)\n",
    "            loss += loss_fn(y_pred_test, y_batch_test)\n",
    "            # print( loss)\n",
    "            # loss_te += loss\n",
    "        loss_test.append(loss)\n",
    "        if loss < best_loss:\n",
    "            best_loss = loss\n",
    "            best_model = lstm_model.state_dict()\n",
    "        \n",
    "        print(\"Epoch %s/%s: Test Cross-entropy: %.6f\" % (epoch+1,n_epochs, loss/len(loader_test)))\n",
    "\n"
   ]
  },
  {
   "cell_type": "code",
   "execution_count": 32,
   "metadata": {},
   "outputs": [],
   "source": [
    "torch.save(best_model, models_dir+\"best_sampler_lstm.pth\")"
   ]
  },
  {
   "cell_type": "code",
   "execution_count": null,
   "metadata": {},
   "outputs": [],
   "source": [
    "loss_train_to_plot = []\n",
    "for i in loss_train:\n",
    "    loss_train_to_plot.append(i.item())\n",
    "loss_test_to_plot = []\n",
    "for i in loss_test:\n",
    "    loss_test_to_plot.append(i.item())\n",
    "losses = {'Training Loss': loss_train_to_plot, 'Validation Loss': loss_test_to_plot}\n",
    "plot_training(losses)"
   ]
  },
  {
   "cell_type": "code",
   "execution_count": null,
   "metadata": {},
   "outputs": [],
   "source": [
    "device = 'mps'\n",
    "lstm_best = LSTM_Model().to(device) \n",
    "lstm_best.load_state_dict(best_model)\n",
    "\n",
    "batch_idx = np.random.randint(0, train_batches, )\n",
    "series_idx = np.random.randint(0, stocks, )\n",
    "batch= data[batch_idx]\n",
    "batch= np.transpose(batch)\n",
    "x = torch.from_numpy(batch)\n",
    "vq_vae_conv2.eval()\n",
    "x = x.view( x.size(0), 1, x.size(1))\n",
    "# print(x.shape)\n",
    "x_recon, loss, perplexity, encodings, encoding_indices, quantized  = vq_vae_conv2(x)\n",
    "x_recon_sample = x_recon[series_idx].detach().numpy()\n",
    "x_original = x[series_idx].detach().numpy()\n",
    "encoding_indices_sample = encoding_indices[series_idx].detach().numpy()"
   ]
  },
  {
   "cell_type": "code",
   "execution_count": null,
   "metadata": {},
   "outputs": [],
   "source": [
    "lstm_best.eval()\n",
    "series = encoding_indices_sample[0:seq_length]\n",
    "out_sample = encoding_indices_sample[seq_length:]\n",
    "print(series.shape)\n",
    "print(out_sample.shape)"
   ]
  },
  {
   "cell_type": "code",
   "execution_count": null,
   "metadata": {},
   "outputs": [],
   "source": [
    "encodings_pred_indices = []\n",
    "with torch.no_grad():\n",
    "    for i in range(lstm_data.shape[1]):\n",
    "        x_sample = series / float(num_embeddings)\n",
    "        x_sample = torch.tensor(x_sample, dtype=torch.float32).reshape(1, seq_length, 1)\n",
    "        x_sample = x_sample.to(device)\n",
    "        prediction = lstm_best(x_sample)\n",
    "        encoding_index = prediction.argmax()\n",
    "        series = np.append(series, encoding_index.cpu().numpy())\n",
    "        encodings_pred_indices.append(encoding_index.cpu().numpy())\n",
    "        series = series[1:]\n",
    "print()\n",
    "print(\"Done.\")"
   ]
  },
  {
   "cell_type": "code",
   "execution_count": null,
   "metadata": {},
   "outputs": [],
   "source": [
    "encodings_pred_indices = np.array(encodings_pred_indices)\n",
    "encodings_pred_indices\n",
    "\n",
    "out_sample\n",
    "len(out_sample)\n",
    "num_embeddings\n",
    "# print(mean_squared_error(encodings_pred_indices[:seq_length], out_sample))\n",
    "# encodings_pred =np.expand_dims(encodings_pred, 1)\n",
    "encodings_pred_indices= torch.from_numpy(encodings_pred_indices)\n",
    "encodings_pred_indices = encodings_pred_indices.view(-1,1)\n",
    "\n",
    "\n",
    "encodings_pred_indices.shape\n"
   ]
  },
  {
   "cell_type": "code",
   "execution_count": null,
   "metadata": {},
   "outputs": [
    {
     "data": {
      "text/plain": [
       "(434, 256)"
      ]
     },
     "metadata": {},
     "output_type": "display_data"
    }
   ],
   "source": [
    "\n",
    "encodings_pred = torch.zeros(encodings_pred_indices.shape[0], num_embeddings, device='cpu').double()\n",
    "print(encodings_pred.shape)\n",
    "\n",
    "\n",
    "encodings_pred.scatter_(1,encodings_pred_indices, 1)\n",
    "print(encodings_pred.shape)\n",
    "embeddings =vq_vae_conv2._vq_vae._embedding \n",
    "# embeddings = embeddings.weight.detach().cpu().numpy()\n",
    "print('embeddigs',embeddings.weight.detach().cpu().numpy().shape)\n",
    "print('encode shape',z.shape)\n",
    "quantized_pred = torch.matmul(encodings_pred, embeddings.weight).view(z.shape)\n",
    "print('Quantized shape: ', quantized_pred.shape)\n",
    "x_gen = vq_vae_conv2.decoder(quantized_pred)\n",
    "x_gen.shape"
   ]
  },
  {
   "cell_type": "code",
   "execution_count": null,
   "metadata": {},
   "outputs": [],
   "source": [
    "x_gen = x_gen.detach().numpy()\n",
    "x_gen = x_gen.reshape(-1)\n",
    "print(x_gen.shape)\n",
    "plt.plot(x_gen)\n",
    "plt.show() "
   ]
  }
 ],
 "metadata": {
  "kernelspec": {
   "display_name": "torch-gpu",
   "language": "python",
   "name": "python3"
  },
  "language_info": {
   "codemirror_mode": {
    "name": "ipython",
    "version": 3
   },
   "file_extension": ".py",
   "mimetype": "text/x-python",
   "name": "python",
   "nbconvert_exporter": "python",
   "pygments_lexer": "ipython3",
   "version": "3.8.16"
  },
  "orig_nbformat": 4
 },
 "nbformat": 4,
 "nbformat_minor": 2
}
