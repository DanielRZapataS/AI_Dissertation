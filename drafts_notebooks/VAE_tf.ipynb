{
 "cells": [
  {
   "cell_type": "markdown",
   "metadata": {},
   "source": [
    "# Varational AutoEncoder Benchmarks "
   ]
  },
  {
   "cell_type": "code",
   "execution_count": 1,
   "metadata": {},
   "outputs": [],
   "source": [
    "import numpy as np\n",
    "import matplotlib.pyplot as plt\n",
    "\n",
    "from tensorflow import keras\n",
    "from tensorflow.keras import layers\n",
    "import tensorflow_probability as tfp\n",
    "import tensorflow as tf\n",
    "import CustomGenerator\n",
    "# from CustomGenerator import ReturnsDataGen, CodeBookDataGen"
   ]
  },
  {
   "cell_type": "code",
   "execution_count": 2,
   "metadata": {},
   "outputs": [],
   "source": [
    "import importlib\n",
    "importlib.reload(CustomGenerator)\n",
    "from CustomGenerator import ReturnsDataGen, CodeBookDataGen"
   ]
  },
  {
   "cell_type": "code",
   "execution_count": 3,
   "metadata": {},
   "outputs": [
    {
     "name": "stdout",
     "output_type": "stream",
     "text": [
      "Number of training batches:  189\n",
      "Length of each batch:  250\n",
      "Number of stocks:  363\n"
     ]
    },
    {
     "data": {
      "text/plain": [
       "(189, 250, 363)"
      ]
     },
     "execution_count": 3,
     "metadata": {},
     "output_type": "execute_result"
    }
   ],
   "source": [
    "# Load data\n",
    "data = np.load('master_data/data.npy')\n",
    "train_batches = data.shape[0] # N hereafter. Number of training images in database.\n",
    "length = data.shape[1] \n",
    "stocks = data.shape[2]\n",
    "data_gen = ReturnsDataGen(data)\n",
    "data.shape"
   ]
  },
  {
   "cell_type": "markdown",
   "metadata": {},
   "source": [
    "## VAE - Dense layers"
   ]
  },
  {
   "cell_type": "code",
   "execution_count": 4,
   "metadata": {},
   "outputs": [],
   "source": [
    "\n",
    "class Sampling(layers.Layer):\n",
    "    \"\"\"Uses (z_mean, z_log_var) to sample z, the vector encoding a digit.\"\"\"\n",
    "\n",
    "    def call(self, inputs):\n",
    "        z_mean, z_log_var = inputs\n",
    "        batch = tf.shape(z_mean)[0]\n",
    "        dim = tf.shape(z_mean)[1]\n",
    "        epsilon = tf.random.normal(shape=(batch, dim))\n",
    "        return z_mean + tf.exp(0.5 * z_log_var) * epsilon\n",
    "\n",
    "def encoder_dense(laten_dim=10, input_dim=250):\n",
    "    inputs = keras.Input(shape=(input_dim,), name='encoder_input')\n",
    "    x = layers.Dense(80, activation=\"relu\", name='dense_1')(inputs)\n",
    "    x = layers.Dense(40, activation=\"relu\", name='dense_2')(x)\n",
    "    x = layers.Dense(20, activation=\"relu\", name='dense_3')(x)\n",
    "    z_mean = layers.Dense(laten_dim, activation=\"relu\", name='z_mean')(x)\n",
    "    z_log_var = layers.Dense(laten_dim, activation=\"relu\", name='z_std')(x)\n",
    "    print(z_mean.shape)\n",
    "    print(z_log_var.shape)\n",
    "    z = Sampling()([z_mean, z_log_var])\n",
    "    return keras.Model(inputs=inputs, outputs=[z_mean, z_log_var, z], name=\"encoder\") \n",
    "\n",
    "def decoder_dense(laten_dim=10, input_dim=250):\n",
    "    latent_inputs = keras.Input(shape=(laten_dim,), name='decoder_input')\n",
    "    x = layers.Dense(20, activation=\"relu\", name='dense_5')(latent_inputs)\n",
    "    x = layers.Dense(40, activation=\"relu\", name='dense_6')(x)\n",
    "    x = layers.Dense(80, activation=\"relu\", name='dense_7')(x)\n",
    "    outputs = layers.Dense(input_dim, activation=\"relu\", name='dense_8')(x)\n",
    "    return keras.Model(inputs=latent_inputs, outputs=outputs, name=\"decoder\") \n",
    "\n",
    "def encoder_conv(laten_dim=100, input_dim=250):\n",
    "    inputs = keras.Input(shape=(input_dim, 1), name='encoder_input')\n",
    "    x = layers.Conv1D(1, 3, activation=\"relu\", strides=2, padding=\"valid\")(inputs)\n",
    "    x = layers.Conv1D(12, 3, activation=\"relu\", strides=2, padding=\"valid\")(x)\n",
    "    x = layers.Conv1D(24, 3, activation=\"relu\", strides=2, padding=\"valid\")(x)\n",
    "    x = layers.Conv1D(48, 3, activation=\"relu\", strides=2, padding=\"valid\")(x)\n",
    "    x = layers.Conv1D(96, 3, activation=\"relu\", strides=2, padding=\"valid\")(x)\n",
    "    # x = layers.Conv1D(1, 3, activation=\"relu\", strides=2, padding=\"valid\")(x)\n",
    "    x = layers.Flatten()(x)\n",
    "    z_mean = layers.Dense(laten_dim, activation=\"relu\", name='z_mean')(x)\n",
    "    z_log_var = layers.Dense(laten_dim, activation=\"relu\", name='z_std')(x)\n",
    "    print(z_mean.shape)\n",
    "    print(z_log_var.shape)\n",
    "    z = Sampling()([z_mean, z_log_var])\n",
    "    return keras.Model(inputs=inputs, outputs=[z_mean, z_log_var, z], name=\"encoder\") \n",
    "\n",
    "def decoder_conv(laten_dim=100, input_dim=250):\n",
    "    latent_inputs = keras.Input(shape=(laten_dim,), name='decoder_input')\n",
    "    x = layers.Dense(6*96, activation=\"relu\", name='dense_5')(latent_inputs) \n",
    "    x = layers.Reshape((6, 96))(x)\n",
    "    # x = layers.Conv1DTranspose(96, 3, activation=\"relu\", strides=2, padding=\"valid\")(x)\n",
    "    x = layers.Conv1DTranspose(48, 3, activation=\"relu\", strides=2, padding=\"valid\", output_padding =1)(x)\n",
    "    x = layers.Conv1DTranspose(24, 3, activation=\"relu\", strides=2, padding=\"valid\", output_padding =1)(x)\n",
    "    x = layers.Conv1DTranspose(12, 3, activation=\"relu\", strides=2, padding=\"valid\", output_padding =1)(x)\n",
    "    x = layers.Conv1DTranspose(1, 3, activation=\"relu\", strides=2, padding=\"same\")(x)\n",
    "    outputs = layers.Conv1DTranspose(1, 3, activation=\"relu\", strides=2, padding=\"valid\", output_padding =1)(x)\n",
    "    return keras.Model(inputs=latent_inputs, outputs=outputs, name=\"decoder\")"
   ]
  },
  {
   "cell_type": "code",
   "execution_count": 5,
   "metadata": {},
   "outputs": [
    {
     "name": "stderr",
     "output_type": "stream",
     "text": [
      "2023-08-01 15:55:16.762029: I metal_plugin/src/device/metal_device.cc:1154] Metal device set to: Apple M1 Pro\n",
      "2023-08-01 15:55:16.762071: I metal_plugin/src/device/metal_device.cc:296] systemMemory: 16.00 GB\n",
      "2023-08-01 15:55:16.762084: I metal_plugin/src/device/metal_device.cc:313] maxCacheSize: 5.33 GB\n",
      "2023-08-01 15:55:16.762133: I tensorflow/core/common_runtime/pluggable_device/pluggable_device_factory.cc:303] Could not identify NUMA node of platform GPU ID 0, defaulting to 0. Your kernel may not have been built with NUMA support.\n",
      "2023-08-01 15:55:16.762153: I tensorflow/core/common_runtime/pluggable_device/pluggable_device_factory.cc:269] Created TensorFlow device (/job:localhost/replica:0/task:0/device:GPU:0 with 0 MB memory) -> physical PluggableDevice (device: 0, name: METAL, pci bus id: <undefined>)\n"
     ]
    },
    {
     "name": "stdout",
     "output_type": "stream",
     "text": [
      "(None, 100)\n",
      "(None, 100)\n",
      "Model: \"encoder\"\n",
      "__________________________________________________________________________________________________\n",
      " Layer (type)                Output Shape                 Param #   Connected to                  \n",
      "==================================================================================================\n",
      " encoder_input (InputLayer)  [(None, 250, 1)]             0         []                            \n",
      "                                                                                                  \n",
      " conv1d (Conv1D)             (None, 124, 1)               4         ['encoder_input[0][0]']       \n",
      "                                                                                                  \n",
      " conv1d_1 (Conv1D)           (None, 61, 12)               48        ['conv1d[0][0]']              \n",
      "                                                                                                  \n",
      " conv1d_2 (Conv1D)           (None, 30, 24)               888       ['conv1d_1[0][0]']            \n",
      "                                                                                                  \n",
      " conv1d_3 (Conv1D)           (None, 14, 48)               3504      ['conv1d_2[0][0]']            \n",
      "                                                                                                  \n",
      " conv1d_4 (Conv1D)           (None, 6, 96)                13920     ['conv1d_3[0][0]']            \n",
      "                                                                                                  \n",
      " flatten (Flatten)           (None, 576)                  0         ['conv1d_4[0][0]']            \n",
      "                                                                                                  \n",
      " z_mean (Dense)              (None, 100)                  57700     ['flatten[0][0]']             \n",
      "                                                                                                  \n",
      " z_std (Dense)               (None, 100)                  57700     ['flatten[0][0]']             \n",
      "                                                                                                  \n",
      " sampling (Sampling)         (None, 100)                  0         ['z_mean[0][0]',              \n",
      "                                                                     'z_std[0][0]']               \n",
      "                                                                                                  \n",
      "==================================================================================================\n",
      "Total params: 133764 (522.52 KB)\n",
      "Trainable params: 133764 (522.52 KB)\n",
      "Non-trainable params: 0 (0.00 Byte)\n",
      "__________________________________________________________________________________________________\n"
     ]
    }
   ],
   "source": [
    "encoder_fc = encoder_conv()\n",
    "encoder_fc.summary()"
   ]
  },
  {
   "cell_type": "code",
   "execution_count": 6,
   "metadata": {},
   "outputs": [
    {
     "name": "stdout",
     "output_type": "stream",
     "text": [
      "Model: \"decoder\"\n",
      "_________________________________________________________________\n",
      " Layer (type)                Output Shape              Param #   \n",
      "=================================================================\n",
      " decoder_input (InputLayer)  [(None, 100)]             0         \n",
      "                                                                 \n",
      " dense_5 (Dense)             (None, 576)               58176     \n",
      "                                                                 \n",
      " reshape (Reshape)           (None, 6, 96)             0         \n",
      "                                                                 \n",
      " conv1d_transpose (Conv1DTr  (None, 14, 48)            13872     \n",
      " anspose)                                                        \n",
      "                                                                 \n",
      " conv1d_transpose_1 (Conv1D  (None, 30, 24)            3480      \n",
      " Transpose)                                                      \n",
      "                                                                 \n",
      " conv1d_transpose_2 (Conv1D  (None, 62, 12)            876       \n",
      " Transpose)                                                      \n",
      "                                                                 \n",
      " conv1d_transpose_3 (Conv1D  (None, 124, 1)            37        \n",
      " Transpose)                                                      \n",
      "                                                                 \n",
      " conv1d_transpose_4 (Conv1D  (None, 250, 1)            4         \n",
      " Transpose)                                                      \n",
      "                                                                 \n",
      "=================================================================\n",
      "Total params: 76445 (298.61 KB)\n",
      "Trainable params: 76445 (298.61 KB)\n",
      "Non-trainable params: 0 (0.00 Byte)\n",
      "_________________________________________________________________\n"
     ]
    }
   ],
   "source": [
    "decoder_fc = decoder_conv()\n",
    "decoder_fc.summary()\n"
   ]
  },
  {
   "cell_type": "code",
   "execution_count": 7,
   "metadata": {},
   "outputs": [
    {
     "name": "stdout",
     "output_type": "stream",
     "text": [
      "(None, 10)\n",
      "(None, 10)\n",
      "Model: \"encoder\"\n",
      "__________________________________________________________________________________________________\n",
      " Layer (type)                Output Shape                 Param #   Connected to                  \n",
      "==================================================================================================\n",
      " encoder_input (InputLayer)  [(None, 250)]                0         []                            \n",
      "                                                                                                  \n",
      " dense_1 (Dense)             (None, 80)                   20080     ['encoder_input[0][0]']       \n",
      "                                                                                                  \n",
      " dense_2 (Dense)             (None, 40)                   3240      ['dense_1[0][0]']             \n",
      "                                                                                                  \n",
      " dense_3 (Dense)             (None, 20)                   820       ['dense_2[0][0]']             \n",
      "                                                                                                  \n",
      " z_mean (Dense)              (None, 10)                   210       ['dense_3[0][0]']             \n",
      "                                                                                                  \n",
      " z_std (Dense)               (None, 10)                   210       ['dense_3[0][0]']             \n",
      "                                                                                                  \n",
      " sampling_1 (Sampling)       (None, 10)                   0         ['z_mean[0][0]',              \n",
      "                                                                     'z_std[0][0]']               \n",
      "                                                                                                  \n",
      "==================================================================================================\n",
      "Total params: 24560 (95.94 KB)\n",
      "Trainable params: 24560 (95.94 KB)\n",
      "Non-trainable params: 0 (0.00 Byte)\n",
      "__________________________________________________________________________________________________\n",
      "None\n"
     ]
    }
   ],
   "source": [
    "encoder = encoder_dense()\n",
    "decoder = decoder_dense()\n",
    "\n",
    "print(encoder.summary())\n"
   ]
  },
  {
   "cell_type": "code",
   "execution_count": 8,
   "metadata": {},
   "outputs": [
    {
     "name": "stdout",
     "output_type": "stream",
     "text": [
      "Model: \"decoder\"\n",
      "_________________________________________________________________\n",
      " Layer (type)                Output Shape              Param #   \n",
      "=================================================================\n",
      " decoder_input (InputLayer)  [(None, 10)]              0         \n",
      "                                                                 \n",
      " dense_5 (Dense)             (None, 20)                220       \n",
      "                                                                 \n",
      " dense_6 (Dense)             (None, 40)                840       \n",
      "                                                                 \n",
      " dense_7 (Dense)             (None, 80)                3280      \n",
      "                                                                 \n",
      " dense_8 (Dense)             (None, 250)               20250     \n",
      "                                                                 \n",
      "=================================================================\n",
      "Total params: 24590 (96.05 KB)\n",
      "Trainable params: 24590 (96.05 KB)\n",
      "Non-trainable params: 0 (0.00 Byte)\n",
      "_________________________________________________________________\n",
      "None\n"
     ]
    }
   ],
   "source": [
    "\n",
    "print(decoder.summary())"
   ]
  },
  {
   "cell_type": "code",
   "execution_count": 9,
   "metadata": {},
   "outputs": [],
   "source": [
    "\n",
    "class VAE(keras.Model):\n",
    "    def __init__(self, encoder, decoder, **kwargs):\n",
    "        super().__init__(**kwargs)\n",
    "        self.encoder = encoder\n",
    "        self.decoder = decoder\n",
    "        self.total_loss_tracker = keras.metrics.Mean(name=\"total_loss\")\n",
    "        self.reconstruction_loss_tracker = keras.metrics.Mean(\n",
    "            name=\"reconstruction_loss\"\n",
    "        )\n",
    "        self.kl_loss_tracker = keras.metrics.Mean(name=\"kl_loss\")\n",
    "\n",
    "    @property\n",
    "    def metrics(self):\n",
    "        return [\n",
    "            self.total_loss_tracker,\n",
    "            self.reconstruction_loss_tracker,\n",
    "            self.kl_loss_tracker,\n",
    "        ]\n",
    "\n",
    "    def train_step(self, data):\n",
    "        with tf.GradientTape() as tape:\n",
    "            z_mean, z_log_var, z = self.encoder(data)\n",
    "            reconstruction = self.decoder(z)\n",
    "            # print(reconstruction.shape)\n",
    "            # print(data.shape)\n",
    "            reconstruction_loss = tf.metrics.mean_squared_error(data, reconstruction)\n",
    "            # reconstruction_loss = tf.reduce_mean(\n",
    "            #     tf.reduce_sum(\n",
    "            #         keras.losses.binary_crossentropy(data, reconstruction), axis=(1, 2)\n",
    "            #     )\n",
    "            # )\n",
    "\n",
    "\n",
    "\n",
    "            kl_loss = -0.5 * (1 + z_log_var - tf.square(z_mean) - tf.exp(z_log_var))\n",
    "            kl_loss = tf.reduce_mean(tf.reduce_sum(kl_loss, axis=1))\n",
    "            total_loss = reconstruction_loss + kl_loss\n",
    "        grads = tape.gradient(total_loss, self.trainable_weights)\n",
    "        self.optimizer.apply_gradients(zip(grads, self.trainable_weights))\n",
    "        self.total_loss_tracker.update_state(total_loss)\n",
    "        self.reconstruction_loss_tracker.update_state(reconstruction_loss)\n",
    "        self.kl_loss_tracker.update_state(kl_loss)\n",
    "        return {\n",
    "            \"loss\": self.total_loss_tracker.result(),\n",
    "            \"reconstruction_loss\": self.reconstruction_loss_tracker.result(),\n",
    "            \"kl_loss\": self.kl_loss_tracker.result(),\n",
    "        }\n"
   ]
  },
  {
   "cell_type": "markdown",
   "metadata": {},
   "source": [
    "## VAE - Dense layers"
   ]
  },
  {
   "cell_type": "code",
   "execution_count": 10,
   "metadata": {},
   "outputs": [
    {
     "name": "stderr",
     "output_type": "stream",
     "text": [
      "WARNING:absl:At this time, the v2.11+ optimizer `tf.keras.optimizers.Adam` runs slowly on M1/M2 Macs, please use the legacy Keras optimizer instead, located at `tf.keras.optimizers.legacy.Adam`.\n",
      "WARNING:absl:There is a known slowdown when using v2.11+ Keras optimizers on M1/M2 Macs. Falling back to the legacy Keras optimizer, i.e., `tf.keras.optimizers.legacy.Adam`.\n"
     ]
    },
    {
     "name": "stdout",
     "output_type": "stream",
     "text": [
      "Epoch 1/30\n"
     ]
    },
    {
     "name": "stderr",
     "output_type": "stream",
     "text": [
      "2023-08-01 15:55:24.561882: I tensorflow/core/grappler/optimizers/custom_graph_optimizer_registry.cc:114] Plugin optimizer for device_type GPU is enabled.\n"
     ]
    },
    {
     "name": "stdout",
     "output_type": "stream",
     "text": [
      "189/189 [==============================] - 3s 11ms/step - loss: 0.0877 - reconstruction_loss: 0.0089 - kl_loss: 0.1030\n",
      "New batch index:  179\n",
      "Epoch 2/30\n",
      "189/189 [==============================] - 2s 11ms/step - loss: 0.1684 - reconstruction_loss: 0.0045 - kl_loss: 0.1772\n",
      "New batch index:  92\n",
      "Epoch 3/30\n",
      "189/189 [==============================] - 2s 11ms/step - loss: 0.2319 - reconstruction_loss: 0.0048 - kl_loss: 0.2400\n",
      "New batch index:  14\n",
      "Epoch 4/30\n",
      "189/189 [==============================] - 2s 12ms/step - loss: 0.6380 - reconstruction_loss: 0.0058 - kl_loss: 0.8198\n",
      "New batch index:  106\n",
      "Epoch 5/30\n",
      "189/189 [==============================] - 2s 11ms/step - loss: 0.9323 - reconstruction_loss: 0.0053 - kl_loss: 0.9292\n",
      "New batch index:  71\n",
      "Epoch 6/30\n",
      "189/189 [==============================] - 2s 11ms/step - loss: 1.3672 - reconstruction_loss: 0.0075 - kl_loss: 1.6095\n",
      "New batch index:  188\n",
      "Epoch 7/30\n",
      "189/189 [==============================] - 2s 11ms/step - loss: 1.7508 - reconstruction_loss: 0.0061 - kl_loss: 1.7438\n",
      "New batch index:  20\n",
      "Epoch 8/30\n",
      "189/189 [==============================] - 2s 12ms/step - loss: 1.8136 - reconstruction_loss: 0.0067 - kl_loss: 1.8269\n",
      "New batch index:  102\n",
      "Epoch 9/30\n",
      "189/189 [==============================] - 2s 11ms/step - loss: 1.8119 - reconstruction_loss: 0.0061 - kl_loss: 1.8014\n",
      "New batch index:  121\n",
      "Epoch 10/30\n",
      "189/189 [==============================] - 2s 11ms/step - loss: 1.8235 - reconstruction_loss: 0.0060 - kl_loss: 1.8268\n",
      "New batch index:  74\n",
      "Epoch 11/30\n",
      "189/189 [==============================] - 2s 11ms/step - loss: 1.8662 - reconstruction_loss: 0.0075 - kl_loss: 1.8593\n",
      "New batch index:  87\n",
      "Epoch 12/30\n",
      "189/189 [==============================] - 2s 11ms/step - loss: 1.9157 - reconstruction_loss: 0.0063 - kl_loss: 1.9050\n",
      "New batch index:  116\n",
      "Epoch 13/30\n",
      "189/189 [==============================] - 2s 13ms/step - loss: 1.9664 - reconstruction_loss: 0.0062 - kl_loss: 1.9621\n",
      "New batch index:  99\n",
      "Epoch 14/30\n",
      "189/189 [==============================] - 2s 11ms/step - loss: 1.9444 - reconstruction_loss: 0.0063 - kl_loss: 1.9392\n",
      "New batch index:  103\n",
      "Epoch 15/30\n",
      "189/189 [==============================] - 2s 11ms/step - loss: 1.9538 - reconstruction_loss: 0.0062 - kl_loss: 1.9492\n",
      "New batch index:  151\n",
      "Epoch 16/30\n",
      "189/189 [==============================] - 2s 11ms/step - loss: 2.0605 - reconstruction_loss: 0.0062 - kl_loss: 2.0528\n",
      "New batch index:  130\n",
      "Epoch 17/30\n",
      "189/189 [==============================] - 2s 11ms/step - loss: 1.9931 - reconstruction_loss: 0.0063 - kl_loss: 1.9955\n",
      "New batch index:  149\n",
      "Epoch 18/30\n",
      "189/189 [==============================] - 2s 11ms/step - loss: 1.9824 - reconstruction_loss: 0.0062 - kl_loss: 1.9712\n",
      "New batch index:  52\n",
      "Epoch 19/30\n",
      "189/189 [==============================] - 2s 11ms/step - loss: 1.9714 - reconstruction_loss: 0.0062 - kl_loss: 1.9649\n",
      "New batch index:  1\n",
      "Epoch 20/30\n",
      "189/189 [==============================] - 2s 11ms/step - loss: 1.9890 - reconstruction_loss: 0.0093 - kl_loss: 1.9791\n",
      "New batch index:  87\n",
      "Epoch 21/30\n",
      "189/189 [==============================] - 2s 11ms/step - loss: 1.9380 - reconstruction_loss: 0.0092 - kl_loss: 1.9248\n",
      "New batch index:  157\n",
      "Epoch 22/30\n",
      "189/189 [==============================] - 2s 11ms/step - loss: 2.0256 - reconstruction_loss: 0.0092 - kl_loss: 2.0144\n",
      "New batch index:  37\n",
      "Epoch 23/30\n",
      "189/189 [==============================] - 2s 11ms/step - loss: 1.9714 - reconstruction_loss: 0.0092 - kl_loss: 1.9594\n",
      "New batch index:  129\n",
      "Epoch 24/30\n",
      "189/189 [==============================] - 2s 11ms/step - loss: 2.0316 - reconstruction_loss: 0.0092 - kl_loss: 2.0187\n",
      "New batch index:  187\n",
      "Epoch 25/30\n",
      "189/189 [==============================] - 2s 11ms/step - loss: 2.0631 - reconstruction_loss: 0.0093 - kl_loss: 2.0547\n",
      "New batch index:  20\n",
      "Epoch 26/30\n",
      "189/189 [==============================] - 2s 10ms/step - loss: 2.2090 - reconstruction_loss: 0.0102 - kl_loss: 2.2848\n",
      "New batch index:  160\n",
      "Epoch 27/30\n",
      "189/189 [==============================] - 2s 11ms/step - loss: 2.2469 - reconstruction_loss: 0.0097 - kl_loss: 2.2406\n",
      "New batch index:  57\n",
      "Epoch 28/30\n",
      "189/189 [==============================] - 2s 11ms/step - loss: 2.2668 - reconstruction_loss: 0.0097 - kl_loss: 2.2620\n",
      "New batch index:  21\n",
      "Epoch 29/30\n",
      "189/189 [==============================] - 2s 11ms/step - loss: 2.3218 - reconstruction_loss: 0.0106 - kl_loss: 2.3903\n",
      "New batch index:  88\n",
      "Epoch 30/30\n",
      "189/189 [==============================] - 2s 11ms/step - loss: 2.4576 - reconstruction_loss: 0.0101 - kl_loss: 2.4623\n",
      "New batch index:  48\n"
     ]
    },
    {
     "data": {
      "text/plain": [
       "<keras.src.callbacks.History at 0x296fca200>"
      ]
     },
     "execution_count": 10,
     "metadata": {},
     "output_type": "execute_result"
    }
   ],
   "source": [
    "vae = VAE(encoder, decoder)\n",
    "vae.compile(optimizer=keras.optimizers.legacy.Adam())\n",
    "vae.fit(data_gen, epochs=30, )"
   ]
  },
  {
   "cell_type": "code",
   "execution_count": 12,
   "metadata": {},
   "outputs": [],
   "source": [
    "loss = vae.history.history['loss']\n",
    "reconstruction_loss= vae.history.history['reconstruction_loss']\n",
    "kl_loss = vae.history.history['kl_loss']\n"
   ]
  },
  {
   "cell_type": "code",
   "execution_count": 13,
   "metadata": {},
   "outputs": [
    {
     "data": {
      "image/png": "[encoded data removed]",
      "text/plain": [
       "<Figure size 640x480 with 3 Axes>"
      ]
     },
     "metadata": {},
     "output_type": "display_data"
    }
   ],
   "source": [
    "fig, axes = plt.subplots(1, 3, sharex=False, sharey=False)\n",
    "\n",
    "x_points = np.arange(0, len(loss), 1)\n",
    "axes[0].set_title(\"Total loss\", fontsize=10, y=1.022)\n",
    "axes[0].plot(x_points, loss, color=\"black\", label=\"Total\", linewidth=5)\n",
    "axes[0].yaxis.grid(True, zorder=0)\n",
    "axes[0].set_xlabel('Iteration', fontsize=10)\n",
    "axes[0].legend(loc='upper right')\n",
    "\n",
    "axes[1].set_title(\"Reconstruction\", fontsize=10, y=1.022)\n",
    "axes[1].plot(x_points, reconstruction_loss, color=\"blue\", label=\"Recon\", linewidth=5)\n",
    "axes[1].yaxis.grid(True, zorder=0)\n",
    "axes[1].set_xlabel('Iteration', fontsize=10)\n",
    "axes[1].legend(loc='lower right')\n",
    "\n",
    "axes[2].set_title(\"KL loss\", fontsize=10, y=1.022)\n",
    "axes[2].plot(x_points, kl_loss, color=\"blue\", label=\"Regul\", linewidth=5)\n",
    "axes[2].yaxis.grid(True, zorder=0)\n",
    "axes[2].set_xlabel('Iteration', fontsize=10)\n",
    "axes[2].legend(loc='lower right')\n",
    "\n",
    "plt.show()      "
   ]
  },
  {
   "cell_type": "markdown",
   "metadata": {},
   "source": [
    "### Reconstruction "
   ]
  },
  {
   "cell_type": "code",
   "execution_count": 14,
   "metadata": {},
   "outputs": [],
   "source": [
    "def plot_rec_series(x_hat_series, x_series):\n",
    "    fig, axes = plt.subplots(3,1, figsize=(30,20), dpi= 50)\n",
    "    axes[0].plot(x_series, label='original')\n",
    "    axes[0].plot(x_hat_series, label='reconstructed')\n",
    "    axes[0].legend()\n",
    "    axes[1].plot(x_hat_series, label='reconstructed', color='darkorange')\n",
    "    axes[1].legend()\n",
    "    axes[2].plot(x_series, label='original')\n",
    "    axes[2].legend()\n",
    "    plt.show()"
   ]
  },
  {
   "cell_type": "code",
   "execution_count": 18,
   "metadata": {},
   "outputs": [
    {
     "name": "stdout",
     "output_type": "stream",
     "text": [
      "(250, 363)\n",
      "(363, 250)\n",
      "(363, 250)\n"
     ]
    },
    {
     "ename": "NotImplementedError",
     "evalue": "in user code:\n\n    File \"/Users/danielrzapatas/miniforge3/envs/tf-gpu/lib/python3.10/site-packages/keras/src/engine/training.py\", line 2341, in predict_function  *\n        return step_function(self, iterator)\n    File \"/Users/danielrzapatas/miniforge3/envs/tf-gpu/lib/python3.10/site-packages/keras/src/engine/training.py\", line 2327, in step_function  **\n        outputs = model.distribute_strategy.run(run_step, args=(data,))\n    File \"/Users/danielrzapatas/miniforge3/envs/tf-gpu/lib/python3.10/site-packages/keras/src/engine/training.py\", line 2315, in run_step  **\n        outputs = model.predict_step(data)\n    File \"/Users/danielrzapatas/miniforge3/envs/tf-gpu/lib/python3.10/site-packages/keras/src/engine/training.py\", line 2283, in predict_step\n        return self(x, training=False)\n    File \"/Users/danielrzapatas/miniforge3/envs/tf-gpu/lib/python3.10/site-packages/keras/src/utils/traceback_utils.py\", line 70, in error_handler\n        raise e.with_traceback(filtered_tb) from None\n    File \"/Users/danielrzapatas/miniforge3/envs/tf-gpu/lib/python3.10/site-packages/keras/src/engine/training.py\", line 596, in call\n        raise NotImplementedError(\n\n    NotImplementedError: Exception encountered when calling layer 'vae' (type VAE).\n    \n    Unimplemented `tf.keras.Model.call()`: if you intend to create a `Model` with the Functional API, please provide `inputs` and `outputs` arguments. Otherwise, subclass `Model` with an overridden `call()` method.\n    \n    Call arguments received by layer 'vae' (type VAE):\n      • inputs=tf.Tensor(shape=(None, 250), dtype=float32)\n      • training=False\n      • mask=None\n",
     "output_type": "error",
     "traceback": [
      "\u001b[0;31m---------------------------------------------------------------------------\u001b[0m",
      "\u001b[0;31mNotImplementedError\u001b[0m                       Traceback (most recent call last)",
      "Cell \u001b[0;32mIn[18], line 10\u001b[0m\n\u001b[1;32m      7\u001b[0m \u001b[39m# batch= np.expand_dims(batch, axis=2)\u001b[39;00m\n\u001b[1;32m      8\u001b[0m \u001b[39mprint\u001b[39m(batch\u001b[39m.\u001b[39mshape)\n\u001b[0;32m---> 10\u001b[0m x_hat \u001b[39m=\u001b[39m vae\u001b[39m.\u001b[39;49mpredict(batch)\n\u001b[1;32m     11\u001b[0m \u001b[39mprint\u001b[39m(x_hat\u001b[39m.\u001b[39mshape)\n\u001b[1;32m     13\u001b[0m x_hat_series \u001b[39m=\u001b[39m x_hat[series_idx,:]\n",
      "File \u001b[0;32m~/miniforge3/envs/tf-gpu/lib/python3.10/site-packages/keras/src/utils/traceback_utils.py:70\u001b[0m, in \u001b[0;36mfilter_traceback.<locals>.error_handler\u001b[0;34m(*args, **kwargs)\u001b[0m\n\u001b[1;32m     67\u001b[0m     filtered_tb \u001b[39m=\u001b[39m _process_traceback_frames(e\u001b[39m.\u001b[39m__traceback__)\n\u001b[1;32m     68\u001b[0m     \u001b[39m# To get the full stack trace, call:\u001b[39;00m\n\u001b[1;32m     69\u001b[0m     \u001b[39m# `tf.debugging.disable_traceback_filtering()`\u001b[39;00m\n\u001b[0;32m---> 70\u001b[0m     \u001b[39mraise\u001b[39;00m e\u001b[39m.\u001b[39mwith_traceback(filtered_tb) \u001b[39mfrom\u001b[39;00m \u001b[39mNone\u001b[39;00m\n\u001b[1;32m     71\u001b[0m \u001b[39mfinally\u001b[39;00m:\n\u001b[1;32m     72\u001b[0m     \u001b[39mdel\u001b[39;00m filtered_tb\n",
      "File \u001b[0;32m/var/folders/4t/55hr34s50pb0bz56v_nxv0j00000gn/T/__autograph_generated_filewx2b2n_h.py:15\u001b[0m, in \u001b[0;36mouter_factory.<locals>.inner_factory.<locals>.tf__predict_function\u001b[0;34m(iterator)\u001b[0m\n\u001b[1;32m     13\u001b[0m \u001b[39mtry\u001b[39;00m:\n\u001b[1;32m     14\u001b[0m     do_return \u001b[39m=\u001b[39m \u001b[39mTrue\u001b[39;00m\n\u001b[0;32m---> 15\u001b[0m     retval_ \u001b[39m=\u001b[39m ag__\u001b[39m.\u001b[39mconverted_call(ag__\u001b[39m.\u001b[39mld(step_function), (ag__\u001b[39m.\u001b[39mld(\u001b[39mself\u001b[39m), ag__\u001b[39m.\u001b[39mld(iterator)), \u001b[39mNone\u001b[39;00m, fscope)\n\u001b[1;32m     16\u001b[0m \u001b[39mexcept\u001b[39;00m:\n\u001b[1;32m     17\u001b[0m     do_return \u001b[39m=\u001b[39m \u001b[39mFalse\u001b[39;00m\n",
      "\u001b[0;31mNotImplementedError\u001b[0m: in user code:\n\n    File \"/Users/danielrzapatas/miniforge3/envs/tf-gpu/lib/python3.10/site-packages/keras/src/engine/training.py\", line 2341, in predict_function  *\n        return step_function(self, iterator)\n    File \"/Users/danielrzapatas/miniforge3/envs/tf-gpu/lib/python3.10/site-packages/keras/src/engine/training.py\", line 2327, in step_function  **\n        outputs = model.distribute_strategy.run(run_step, args=(data,))\n    File \"/Users/danielrzapatas/miniforge3/envs/tf-gpu/lib/python3.10/site-packages/keras/src/engine/training.py\", line 2315, in run_step  **\n        outputs = model.predict_step(data)\n    File \"/Users/danielrzapatas/miniforge3/envs/tf-gpu/lib/python3.10/site-packages/keras/src/engine/training.py\", line 2283, in predict_step\n        return self(x, training=False)\n    File \"/Users/danielrzapatas/miniforge3/envs/tf-gpu/lib/python3.10/site-packages/keras/src/utils/traceback_utils.py\", line 70, in error_handler\n        raise e.with_traceback(filtered_tb) from None\n    File \"/Users/danielrzapatas/miniforge3/envs/tf-gpu/lib/python3.10/site-packages/keras/src/engine/training.py\", line 596, in call\n        raise NotImplementedError(\n\n    NotImplementedError: Exception encountered when calling layer 'vae' (type VAE).\n    \n    Unimplemented `tf.keras.Model.call()`: if you intend to create a `Model` with the Functional API, please provide `inputs` and `outputs` arguments. Otherwise, subclass `Model` with an overridden `call()` method.\n    \n    Call arguments received by layer 'vae' (type VAE):\n      • inputs=tf.Tensor(shape=(None, 250), dtype=float32)\n      • training=False\n      • mask=None\n"
     ]
    }
   ],
   "source": [
    "series_idx = 0 \n",
    "batch_idx = 0\n",
    "batch= data[batch_idx]\n",
    "print(batch.shape)\n",
    "batch= np.transpose(batch)\n",
    "print(batch.shape)\n",
    "# batch= np.expand_dims(batch, axis=2)\n",
    "print(batch.shape)\n",
    "\n",
    "x_hat = vae.predict(batch)\n",
    "print(x_hat.shape)\n",
    "\n",
    "x_hat_series = x_hat[series_idx,:]\n",
    "x_series = batch[series_idx,:]\n",
    "\n",
    "plot_rec_series(x_hat_series, x_series)"
   ]
  }
 ],
 "metadata": {
  "kernelspec": {
   "display_name": "tf-gpu",
   "language": "python",
   "name": "python3"
  },
  "language_info": {
   "codemirror_mode": {
    "name": "ipython",
    "version": 3
   },
   "file_extension": ".py",
   "mimetype": "text/x-python",
   "name": "python",
   "nbconvert_exporter": "python",
   "pygments_lexer": "ipython3",
   "version": "3.10.12"
  },
  "orig_nbformat": 4
 },
 "nbformat": 4,
 "nbformat_minor": 2
}
