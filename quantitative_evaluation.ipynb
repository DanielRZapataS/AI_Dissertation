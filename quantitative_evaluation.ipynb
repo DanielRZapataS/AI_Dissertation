{
 "cells": [
  {
   "cell_type": "code",
   "execution_count": 226,
   "metadata": {},
   "outputs": [],
   "source": [
    "from scipy.special import kl_div, rel_entr\n",
    "import numpy as np\n",
    "import pandas as pd\n",
    "from scipy.spatial.distance import jensenshannon \n",
    "from scipy.stats import kstest \n",
    "from scipy.stats import wasserstein_distance\n",
    "from scipy.stats import rv_histogram \n",
    "import scipy\n",
    "import matplotlib.pyplot as plt\n",
    "import seaborn as sns\n",
    "\n",
    "import collections\n",
    "import scipy.stats as stat\n",
    "from scipy.stats import iqr \n",
    "\n",
    "from sklearn.neighbors import KernelDensity\n",
    "\n",
    "from IPython.display import display"
   ]
  },
  {
   "cell_type": "code",
   "execution_count": 672,
   "metadata": {},
   "outputs": [],
   "source": [
    "device = 'cpu'\n",
    "gen_dir = 'generated_data/'\n",
    "models_dir = 'models/' \n",
    "results_dir = 'results/'"
   ]
  },
  {
   "cell_type": "code",
   "execution_count": 3,
   "metadata": {},
   "outputs": [
    {
     "name": "stdout",
     "output_type": "stream",
     "text": [
      "Number of training batches:  79\n",
      "Length of each batch:  256\n",
      "Number of stocks:  434\n"
     ]
    }
   ],
   "source": [
    "# Load data\n",
    "data = np.load('master_data/data.npy')\n",
    "train_batches = data.shape[0] # N hereafter. Number of training images in database.\n",
    "length = data.shape[1] \n",
    "stocks = data.shape[2]\n",
    "print('Number of training batches: ', train_batches)\n",
    "print('Length of each batch: ', length)\n",
    "print('Number of stocks: ', stocks)"
   ]
  },
  {
   "cell_type": "code",
   "execution_count": 4,
   "metadata": {},
   "outputs": [],
   "source": [
    "vaeconv1 = np.load(gen_dir + 'vaeconv1.npy')\n",
    "vaeconv3 = np.load(gen_dir + 'vaeconv3.npy')\n",
    "vaefd1 = np.load(gen_dir + 'vaefd1.npy')\n",
    "vaefd2 = np.load(gen_dir + 'vaefd2.npy')\n",
    "vqvaeconv2 = np.load(gen_dir + 'vqvaeconv2.npy')\n",
    "vqvaefd1 = np.load(gen_dir + 'vqvaefd1.npy')\n"
   ]
  },
  {
   "cell_type": "code",
   "execution_count": 29,
   "metadata": {},
   "outputs": [],
   "source": [
    "generated = {\n",
    "            'VQ VAE CONV2':vqvaeconv2,\n",
    "            'VAE CONV1 ':vaeconv1,\n",
    "             'VAE CONV3':vaeconv3,\n",
    "             'VAE FD1':vaefd1,\n",
    "             'VAE FD2':vaefd2,\n",
    "             'VQ VAE FD1':vqvaefd1\n",
    "             }"
   ]
  },
  {
   "cell_type": "code",
   "execution_count": 6,
   "metadata": {},
   "outputs": [],
   "source": [
    "# Random batches\n",
    "index = np.random.randint(0, train_batches, 4)\n",
    "index = [38, 25, 56, 24]"
   ]
  },
  {
   "cell_type": "code",
   "execution_count": 28,
   "metadata": {},
   "outputs": [
    {
     "data": {
      "text/plain": [
       "(4, 434, 256)"
      ]
     },
     "execution_count": 28,
     "metadata": {},
     "output_type": "execute_result"
    }
   ],
   "source": [
    "data_eval = np.zeros((len(index), data.shape[2], data.shape[1]))\n",
    "# print(data_eval.shape)\n",
    "for i in range(len(index)):\n",
    "    # print(i)\n",
    "    batch = data[index[i], :, :].copy()\n",
    "    batch = np.transpose(batch)\n",
    "    data_eval[i] = batch\n",
    "data_eval.shape"
   ]
  },
  {
   "cell_type": "code",
   "execution_count": 8,
   "metadata": {},
   "outputs": [],
   "source": [
    "def plot_density(real, synth):\n",
    "    real = pd.DataFrame(real)\n",
    "    real['label'] = 'Real distribution'\n",
    "    real.columns = ['value', 'label']\n",
    "    synth =synth.flatten()\n",
    "    synth = pd.DataFrame(synth)\n",
    "    synth['label'] = 'Synthetic distribution'\n",
    "    synth.columns = ['value', 'label']\n",
    "    df = pd.concat([real, synth])\n",
    "    g =sns.histplot(df,\n",
    "    bins='auto',\n",
    "    kde=True,\n",
    "    x = 'value',\n",
    "    hue='label',\n",
    "    stat=\"density\",\n",
    "    # facet_kws={'legend_out': False}, \n",
    "    alpha=0.3,\n",
    "    common_bins=False,\n",
    "    # ax=axes[i//2, i%2]\n",
    "            )\n",
    "    g.set(xlabel= None, ylabel= None )\n",
    "    g.legend_.set_title(None)\n",
    "    plt.show()"
   ]
  },
  {
   "cell_type": "code",
   "execution_count": 40,
   "metadata": {},
   "outputs": [
    {
     "data": {
      "image/png": "[encoded data removed]",
      "text/plain": [
       "<Figure size 640x480 with 1 Axes>"
      ]
     },
     "metadata": {},
     "output_type": "display_data"
    }
   ],
   "source": [
    "i = 0\n",
    "real = data_eval[i].flatten()\n",
    "synth =vqvaeconv2.flatten()\n",
    "plot_density(real, synth)"
   ]
  },
  {
   "cell_type": "code",
   "execution_count": 33,
   "metadata": {},
   "outputs": [],
   "source": [
    "\n",
    "def reject_outliers(data, m = 2., verbose = False):\n",
    "    \"\"\"\n",
    "    Reject outliers based on median absolute deviation\n",
    "    \"\"\"\n",
    "    d = np.abs(data - np.median(data))\n",
    "    mdev = np.median(d)\n",
    "    s = d/mdev if mdev else np.zeros(len(d))\n",
    "    data_clean = data[s<m]\n",
    "    if verbose:\n",
    "        print('Reject outliers: %.2f%%' % ((data.shape[0]- data_clean.shape[0])/data.shape[0]*100))\n",
    "        print('Max before: %.2f, Max now: %.2f' % (np.max(data), np.max(data_clean)))\n",
    "        print('Min before: %.2f, Min now: %.2f' % (np.min(data), np.min(data_clean)))\n",
    "    return data_clean"
   ]
  },
  {
   "cell_type": "code",
   "execution_count": 663,
   "metadata": {},
   "outputs": [],
   "source": [
    "def histogram_pdf(array,sample=1000, w=None, bins='auto', density=True):\n",
    "    #Get histogram\n",
    "    hist, bin_edges =  np.histogram(array, bins=bins, density=density)\n",
    "    if w:\n",
    "        print('Adding prior correction to histogram')\n",
    "        histogram_dist = rv_histogram((\n",
    "            np.histogram(array, bins=bins, density=density)[0] + w * np.ones(len(hist)),\n",
    "            bin_edges)\n",
    "            ,density=density)\n",
    "    else:\n",
    "        histogram_dist = rv_histogram((hist, bin_edges),density=density)\n",
    "\n",
    "    #Generate arrays of pdf evaluations\n",
    "    X = np.linspace(np.min(array), np.max(array), sample)\n",
    "    rvs_array = [histogram_dist.pdf(x) for x in X]\n",
    "    pdf = rvs_array/sum(rvs_array)\n",
    "    return pdf\n",
    "\n",
    "def kernel_pdf(array, sample):\n",
    "    #Get kernel density\n",
    "    bandwidth = 1.06 * array.std() * array.size ** (-1 / 5.)\n",
    "    kde = KernelDensity(kernel='gaussian', bandwidth=bandwidth).fit(array.reshape(-1, 1))\n",
    "    #Generate arrays of pdf evaluations\n",
    "    X = np.linspace(np.min(array), np.max(array), sample)\n",
    "    probabilities = np.exp(kernel.score_samples(X.reshape(-1, 1)))\n",
    "    pdf = probabilities / np.sum(probabilities)\n",
    "    return pdf\n",
    "\n",
    "def get_pdf(array, sample, by_hist=True,w=None, bins='auto', density=True, outlier_rejection=False, m=2):\n",
    "\n",
    "    if outlier_rejection:\n",
    "        array = reject_outliers(array, m=m)\n",
    "    if by_hist:\n",
    "        pdf = histogram_pdf(array=array,sample=sample, w=w, bins=bins, density=density)\n",
    "    else:\n",
    "        pdf = kernel_pdf(array=array, sample=sample)\n",
    "    return pdf\n",
    "\n",
    "def calculate_jensen_shannon_divergence(p, q, ignore_zeros=True):\n",
    "    \"\"\"\n",
    "    Implementation of pairwise `jensen_shannon divergence` between two 1-D arrays.\n",
    "    \"\"\"\n",
    "    # convert the vectors into numpy arrays in case that they aren't\n",
    "    p = np.array(p)\n",
    "    q = np.array(q)\n",
    "    if ignore_zeros:\n",
    "        cond = p!=0\n",
    "        p = p[cond]\n",
    "        q = q[cond]\n",
    "    # calculate m\n",
    "    m = (p + q) / 2\n",
    "    # compute Jensen Shannon divergence\n",
    "    divergence = (scipy.stats.entropy(p, m) + scipy.stats.entropy(q, m)) / 2\n",
    "    # divergence = (np.sum(kl_div(p, m)) + np.sum(kl_div(q, m))) / 2\n",
    "    # compute the Jensen Shannon distance\n",
    "    distance = np.sqrt(divergence)\n",
    "    return distance\n",
    "\n",
    "\n",
    "\n",
    "def get_divergences(synth, real, sample,  by_hist= False,w=None, correct_for_bias=True,bins='auto', density=True, outlier_rejection=False, m=2, ignore_zeros_js=True):\n",
    "    synth_pdf = get_pdf(synth, sample=sample, by_hist=by_hist, w=w, bins=bins, density=density, outlier_rejection=outlier_rejection, m=m)\n",
    "    real_pdf = get_pdf(real, sample=sample, by_hist= by_hist, w=w, bins=bins, density=density, outlier_rejection=outlier_rejection, m=m)\n",
    "    # js = calculate_jensen_shannon_divergence(synth_pdf, real_pdf, ignore_zeros=ignore_zeros_js)\n",
    "    js =jensenshannon(p = synth_pdf, q=real_pdf)\n",
    "    if correct_for_bias:\n",
    "        return np.sum(kl_div(synth_pdf, real_pdf)), js\n",
    "    else:\n",
    "        entropy = rel_entr(synth_pdf, real_pdf)\n",
    "        return np.sum(entropy), js"
   ]
  },
  {
   "cell_type": "markdown",
   "metadata": {},
   "source": [
    "# Ploting distributions with outliers correction\n"
   ]
  },
  {
   "cell_type": "code",
   "execution_count": 488,
   "metadata": {},
   "outputs": [
    {
     "name": "stdout",
     "output_type": "stream",
     "text": [
      "Real:  111104\n",
      "Reject outliers: 0.28%\n",
      "Max before: 0.34, Max now: 0.07\n",
      "Min before: -0.34, Min now: -0.07\n",
      "Real clean:  110790\n",
      "Model:  VQ-VAE-CONV2\n",
      "Synth:  (111104,)\n",
      "Reject outliers: 0.29%\n",
      "Max before: 0.17, Max now: 0.07\n",
      "Min before: -0.18, Min now: -0.07\n",
      "Synth clean:  110782\n"
     ]
    },
    {
     "data": {
      "image/png": "[encoded data removed]",
      "text/plain": [
       "<Figure size 640x480 with 1 Axes>"
      ]
     },
     "metadata": {},
     "output_type": "display_data"
    },
    {
     "name": "stdout",
     "output_type": "stream",
     "text": [
      "Model:  VAE-CONV1\n",
      "Synth:  (111104,)\n",
      "Reject outliers: 0.00%\n",
      "Max before: 0.04, Max now: 0.04\n",
      "Min before: -0.04, Min now: -0.04\n",
      "Synth clean:  111104\n"
     ]
    },
    {
     "data": {
      "image/png": "[encoded data removed]",
      "text/plain": [
       "<Figure size 640x480 with 1 Axes>"
      ]
     },
     "metadata": {},
     "output_type": "display_data"
    },
    {
     "name": "stdout",
     "output_type": "stream",
     "text": [
      "Model:  VAE-CONV3\n",
      "Synth:  (111104,)\n",
      "Reject outliers: 0.00%\n",
      "Max before: 0.15, Max now: 0.15\n",
      "Min before: -0.13, Min now: -0.13\n",
      "Synth clean:  111104\n"
     ]
    },
    {
     "data": {
      "image/png": "[encoded data removed]",
      "text/plain": [
       "<Figure size 640x480 with 1 Axes>"
      ]
     },
     "metadata": {},
     "output_type": "display_data"
    },
    {
     "name": "stdout",
     "output_type": "stream",
     "text": [
      "Model:  VAE-FD1\n",
      "Synth:  (111104,)\n",
      "Reject outliers: 0.01%\n",
      "Max before: 0.11, Max now: 0.08\n",
      "Min before: -0.09, Min now: -0.08\n",
      "Synth clean:  111098\n"
     ]
    },
    {
     "data": {
      "image/png": "[encoded data removed]",
      "text/plain": [
       "<Figure size 640x480 with 1 Axes>"
      ]
     },
     "metadata": {},
     "output_type": "display_data"
    },
    {
     "name": "stdout",
     "output_type": "stream",
     "text": [
      "Model:  VAE-FD2\n",
      "Synth:  (111104,)\n",
      "Reject outliers: 0.01%\n",
      "Max before: 0.04, Max now: 0.03\n",
      "Min before: -0.04, Min now: -0.03\n",
      "Synth clean:  111091\n"
     ]
    },
    {
     "data": {
      "image/png": "[encoded data removed]",
      "text/plain": [
       "<Figure size 640x480 with 1 Axes>"
      ]
     },
     "metadata": {},
     "output_type": "display_data"
    },
    {
     "name": "stdout",
     "output_type": "stream",
     "text": [
      "Model:  VQ-VAE-FD1\n",
      "Synth:  (111104,)\n",
      "Reject outliers: 0.00%\n",
      "Max before: 0.06, Max now: 0.06\n",
      "Min before: -0.04, Min now: -0.04\n",
      "Synth clean:  111104\n"
     ]
    },
    {
     "data": {
      "image/png": "[encoded data removed]",
      "text/plain": [
       "<Figure size 640x480 with 1 Axes>"
      ]
     },
     "metadata": {},
     "output_type": "display_data"
    }
   ],
   "source": [
    "\n",
    "m=10\n",
    "print(\"Real: \", real.shape[0])\n",
    "real_clean = reject_outliers(real, m=m, verbose =True)\n",
    "print(\"Real clean: \", real_clean.shape[0])\n",
    "for model_name, synth in generated.items():\n",
    "        model = model_name.strip()\n",
    "        model = model.replace(' ', '-')\n",
    "        synth_ft = synth.flatten()\n",
    "        print('Model: ', model)       \n",
    "        print(\"Synth: \", synth_ft.shape)\n",
    "        synth_clean = reject_outliers(synth_ft, m=m, verbose =True)\n",
    "        print(\"Synth clean: \", synth_clean.shape[0])\n",
    "        plot_density(real_clean, synth_clean)\n",
    "        "
   ]
  },
  {
   "cell_type": "markdown",
   "metadata": {},
   "source": [
    "# Metrics "
   ]
  },
  {
   "cell_type": "code",
   "execution_count": 664,
   "metadata": {},
   "outputs": [],
   "source": [
    "def get_metrics(generated:dict, data_eval, sample,by_hist= False, w=None, correct_for_bias=True,bins='auto', density=True, outlier_rejection=True, m=10):\n",
    "    results ={}\n",
    "    for model_name, synth in generated.items():\n",
    "        model = model_name.strip()\n",
    "        model = model.replace(' ', '-')\n",
    "        results[model] = {}\n",
    "        print('Model: ', model)\n",
    "        for i in range(4):\n",
    "            results[model]['data'+str(i)] = {}\n",
    "            real = data_eval[i].flatten()\n",
    "            synth_flat =synth.flatten()\n",
    "            kl, js = get_divergences(synth_flat, real, sample,by_hist= by_hist,w=w,correct_for_bias=correct_for_bias,bins=bins, density=density, outlier_rejection=outlier_rejection, m=m)\n",
    "            ks = kstest(synth_flat, real, N=sample)\n",
    "            wa = wasserstein_distance(synth_flat, real)\n",
    "            results[model]['data'+str(i)]['Kullback-Leibler'] = kl\n",
    "            results[model]['data'+str(i)]['Jensen-Shannon'] = js\n",
    "            results[model]['data'+str(i)]['Kolmogorov-Smirnov'] = ks[0]\n",
    "            results[model]['data'+str(i)]['KS-pvalue'] = True if ks[1] > 0.05 else False\n",
    "            results[model]['data'+str(i)]['Wasserstein'] = wa \n",
    "    return pd.concat({k: pd.DataFrame(v) for k, v in results.items()}, axis=0)"
   ]
  },
  {
   "cell_type": "markdown",
   "metadata": {},
   "source": [
    "sample =380 # sample calculator\n",
    "outlier_rejection=True\n",
    "m=10\n",
    "bins='auto'\n",
    "density=True\n",
    "w=None\n",
    "by_hist=False\n",
    "correct_for_bias=False\n",
    "metrics = get_metrics(generated.copy(), data_eval.copy(), sample,by_hist, w, correct_for_bias,bins, density, outlier_rejection, m)\n",
    "display(metrics)"
   ]
  },
  {
   "cell_type": "code",
   "execution_count": 670,
   "metadata": {},
   "outputs": [
    {
     "name": "stdout",
     "output_type": "stream",
     "text": [
      "Model:  VQ-VAE-CONV2\n",
      "Model:  VAE-CONV1\n",
      "Model:  VAE-CONV3\n",
      "Model:  VAE-FD1\n",
      "Model:  VAE-FD2\n",
      "Model:  VQ-VAE-FD1\n"
     ]
    },
    {
     "data": {
      "text/html": [
       "<div>\n",
       "<style scoped>\n",
       "    .dataframe tbody tr th:only-of-type {\n",
       "        vertical-align: middle;\n",
       "    }\n",
       "\n",
       "    .dataframe tbody tr th {\n",
       "        vertical-align: top;\n",
       "    }\n",
       "\n",
       "    .dataframe thead th {\n",
       "        text-align: right;\n",
       "    }\n",
       "</style>\n",
       "<table border=\"1\" class=\"dataframe\">\n",
       "  <thead>\n",
       "    <tr style=\"text-align: right;\">\n",
       "      <th></th>\n",
       "      <th></th>\n",
       "      <th>data0</th>\n",
       "      <th>data1</th>\n",
       "      <th>data2</th>\n",
       "      <th>data3</th>\n",
       "    </tr>\n",
       "  </thead>\n",
       "  <tbody>\n",
       "    <tr>\n",
       "      <th rowspan=\"5\" valign=\"top\">VQ-VAE-CONV2</th>\n",
       "      <th>Kullback-Leibler</th>\n",
       "      <td>0.000715</td>\n",
       "      <td>0.002128</td>\n",
       "      <td>0.000821</td>\n",
       "      <td>0.002395</td>\n",
       "    </tr>\n",
       "    <tr>\n",
       "      <th>Jensen-Shannon</th>\n",
       "      <td>0.013431</td>\n",
       "      <td>0.022881</td>\n",
       "      <td>0.014396</td>\n",
       "      <td>0.024266</td>\n",
       "    </tr>\n",
       "    <tr>\n",
       "      <th>Kolmogorov-Smirnov</th>\n",
       "      <td>0.029954</td>\n",
       "      <td>0.040899</td>\n",
       "      <td>0.033185</td>\n",
       "      <td>0.043905</td>\n",
       "    </tr>\n",
       "    <tr>\n",
       "      <th>KS-pvalue</th>\n",
       "      <td>False</td>\n",
       "      <td>False</td>\n",
       "      <td>False</td>\n",
       "      <td>False</td>\n",
       "    </tr>\n",
       "    <tr>\n",
       "      <th>Wasserstein</th>\n",
       "      <td>0.000745</td>\n",
       "      <td>0.000913</td>\n",
       "      <td>0.000545</td>\n",
       "      <td>0.000924</td>\n",
       "    </tr>\n",
       "    <tr>\n",
       "      <th rowspan=\"5\" valign=\"top\">VAE-CONV1</th>\n",
       "      <th>Kullback-Leibler</th>\n",
       "      <td>0.210182</td>\n",
       "      <td>0.288442</td>\n",
       "      <td>0.212277</td>\n",
       "      <td>0.291791</td>\n",
       "    </tr>\n",
       "    <tr>\n",
       "      <th>Jensen-Shannon</th>\n",
       "      <td>0.21026</td>\n",
       "      <td>0.242111</td>\n",
       "      <td>0.211231</td>\n",
       "      <td>0.243363</td>\n",
       "    </tr>\n",
       "    <tr>\n",
       "      <th>Kolmogorov-Smirnov</th>\n",
       "      <td>0.096009</td>\n",
       "      <td>0.123083</td>\n",
       "      <td>0.106144</td>\n",
       "      <td>0.125531</td>\n",
       "    </tr>\n",
       "    <tr>\n",
       "      <th>KS-pvalue</th>\n",
       "      <td>False</td>\n",
       "      <td>False</td>\n",
       "      <td>False</td>\n",
       "      <td>False</td>\n",
       "    </tr>\n",
       "    <tr>\n",
       "      <th>Wasserstein</th>\n",
       "      <td>0.00399</td>\n",
       "      <td>0.00495</td>\n",
       "      <td>0.004402</td>\n",
       "      <td>0.005109</td>\n",
       "    </tr>\n",
       "    <tr>\n",
       "      <th rowspan=\"5\" valign=\"top\">VAE-CONV3</th>\n",
       "      <th>Kullback-Leibler</th>\n",
       "      <td>0.344035</td>\n",
       "      <td>0.306284</td>\n",
       "      <td>0.332731</td>\n",
       "      <td>0.298565</td>\n",
       "    </tr>\n",
       "    <tr>\n",
       "      <th>Jensen-Shannon</th>\n",
       "      <td>0.303345</td>\n",
       "      <td>0.285616</td>\n",
       "      <td>0.298525</td>\n",
       "      <td>0.282087</td>\n",
       "    </tr>\n",
       "    <tr>\n",
       "      <th>Kolmogorov-Smirnov</th>\n",
       "      <td>0.194403</td>\n",
       "      <td>0.186942</td>\n",
       "      <td>0.200344</td>\n",
       "      <td>0.187203</td>\n",
       "    </tr>\n",
       "    <tr>\n",
       "      <th>KS-pvalue</th>\n",
       "      <td>False</td>\n",
       "      <td>False</td>\n",
       "      <td>False</td>\n",
       "      <td>False</td>\n",
       "    </tr>\n",
       "    <tr>\n",
       "      <th>Wasserstein</th>\n",
       "      <td>0.012387</td>\n",
       "      <td>0.01153</td>\n",
       "      <td>0.012067</td>\n",
       "      <td>0.011397</td>\n",
       "    </tr>\n",
       "    <tr>\n",
       "      <th rowspan=\"5\" valign=\"top\">VAE-FD1</th>\n",
       "      <th>Kullback-Leibler</th>\n",
       "      <td>0.03114</td>\n",
       "      <td>0.021489</td>\n",
       "      <td>0.027384</td>\n",
       "      <td>0.019136</td>\n",
       "    </tr>\n",
       "    <tr>\n",
       "      <th>Jensen-Shannon</th>\n",
       "      <td>0.089597</td>\n",
       "      <td>0.073688</td>\n",
       "      <td>0.084033</td>\n",
       "      <td>0.069528</td>\n",
       "    </tr>\n",
       "    <tr>\n",
       "      <th>Kolmogorov-Smirnov</th>\n",
       "      <td>0.046263</td>\n",
       "      <td>0.032456</td>\n",
       "      <td>0.055885</td>\n",
       "      <td>0.035246</td>\n",
       "    </tr>\n",
       "    <tr>\n",
       "      <th>KS-pvalue</th>\n",
       "      <td>False</td>\n",
       "      <td>False</td>\n",
       "      <td>False</td>\n",
       "      <td>False</td>\n",
       "    </tr>\n",
       "    <tr>\n",
       "      <th>Wasserstein</th>\n",
       "      <td>0.001369</td>\n",
       "      <td>0.001016</td>\n",
       "      <td>0.00158</td>\n",
       "      <td>0.001173</td>\n",
       "    </tr>\n",
       "    <tr>\n",
       "      <th rowspan=\"5\" valign=\"top\">VAE-FD2</th>\n",
       "      <th>Kullback-Leibler</th>\n",
       "      <td>0.423989</td>\n",
       "      <td>0.533584</td>\n",
       "      <td>0.423124</td>\n",
       "      <td>0.535958</td>\n",
       "    </tr>\n",
       "    <tr>\n",
       "      <th>Jensen-Shannon</th>\n",
       "      <td>0.286884</td>\n",
       "      <td>0.316051</td>\n",
       "      <td>0.286603</td>\n",
       "      <td>0.316621</td>\n",
       "    </tr>\n",
       "    <tr>\n",
       "      <th>Kolmogorov-Smirnov</th>\n",
       "      <td>0.193764</td>\n",
       "      <td>0.217544</td>\n",
       "      <td>0.200803</td>\n",
       "      <td>0.219974</td>\n",
       "    </tr>\n",
       "    <tr>\n",
       "      <th>KS-pvalue</th>\n",
       "      <td>False</td>\n",
       "      <td>False</td>\n",
       "      <td>False</td>\n",
       "      <td>False</td>\n",
       "    </tr>\n",
       "    <tr>\n",
       "      <th>Wasserstein</th>\n",
       "      <td>0.006108</td>\n",
       "      <td>0.007069</td>\n",
       "      <td>0.006519</td>\n",
       "      <td>0.007227</td>\n",
       "    </tr>\n",
       "    <tr>\n",
       "      <th rowspan=\"5\" valign=\"top\">VQ-VAE-FD1</th>\n",
       "      <th>Kullback-Leibler</th>\n",
       "      <td>0.364588</td>\n",
       "      <td>0.434172</td>\n",
       "      <td>0.352233</td>\n",
       "      <td>0.42882</td>\n",
       "    </tr>\n",
       "    <tr>\n",
       "      <th>Jensen-Shannon</th>\n",
       "      <td>0.280843</td>\n",
       "      <td>0.300896</td>\n",
       "      <td>0.276304</td>\n",
       "      <td>0.299067</td>\n",
       "    </tr>\n",
       "    <tr>\n",
       "      <th>Kolmogorov-Smirnov</th>\n",
       "      <td>0.066532</td>\n",
       "      <td>0.092067</td>\n",
       "      <td>0.076109</td>\n",
       "      <td>0.094731</td>\n",
       "    </tr>\n",
       "    <tr>\n",
       "      <th>KS-pvalue</th>\n",
       "      <td>False</td>\n",
       "      <td>False</td>\n",
       "      <td>False</td>\n",
       "      <td>False</td>\n",
       "    </tr>\n",
       "    <tr>\n",
       "      <th>Wasserstein</th>\n",
       "      <td>0.00308</td>\n",
       "      <td>0.004028</td>\n",
       "      <td>0.00353</td>\n",
       "      <td>0.004195</td>\n",
       "    </tr>\n",
       "  </tbody>\n",
       "</table>\n",
       "</div>"
      ],
      "text/plain": [
       "                                    data0     data1     data2     data3\n",
       "VQ-VAE-CONV2 Kullback-Leibler    0.000715  0.002128  0.000821  0.002395\n",
       "             Jensen-Shannon      0.013431  0.022881  0.014396  0.024266\n",
       "             Kolmogorov-Smirnov  0.029954  0.040899  0.033185  0.043905\n",
       "             KS-pvalue              False     False     False     False\n",
       "             Wasserstein         0.000745  0.000913  0.000545  0.000924\n",
       "VAE-CONV1    Kullback-Leibler    0.210182  0.288442  0.212277  0.291791\n",
       "             Jensen-Shannon       0.21026  0.242111  0.211231  0.243363\n",
       "             Kolmogorov-Smirnov  0.096009  0.123083  0.106144  0.125531\n",
       "             KS-pvalue              False     False     False     False\n",
       "             Wasserstein          0.00399   0.00495  0.004402  0.005109\n",
       "VAE-CONV3    Kullback-Leibler    0.344035  0.306284  0.332731  0.298565\n",
       "             Jensen-Shannon      0.303345  0.285616  0.298525  0.282087\n",
       "             Kolmogorov-Smirnov  0.194403  0.186942  0.200344  0.187203\n",
       "             KS-pvalue              False     False     False     False\n",
       "             Wasserstein         0.012387   0.01153  0.012067  0.011397\n",
       "VAE-FD1      Kullback-Leibler     0.03114  0.021489  0.027384  0.019136\n",
       "             Jensen-Shannon      0.089597  0.073688  0.084033  0.069528\n",
       "             Kolmogorov-Smirnov  0.046263  0.032456  0.055885  0.035246\n",
       "             KS-pvalue              False     False     False     False\n",
       "             Wasserstein         0.001369  0.001016   0.00158  0.001173\n",
       "VAE-FD2      Kullback-Leibler    0.423989  0.533584  0.423124  0.535958\n",
       "             Jensen-Shannon      0.286884  0.316051  0.286603  0.316621\n",
       "             Kolmogorov-Smirnov  0.193764  0.217544  0.200803  0.219974\n",
       "             KS-pvalue              False     False     False     False\n",
       "             Wasserstein         0.006108  0.007069  0.006519  0.007227\n",
       "VQ-VAE-FD1   Kullback-Leibler    0.364588  0.434172  0.352233   0.42882\n",
       "             Jensen-Shannon      0.280843  0.300896  0.276304  0.299067\n",
       "             Kolmogorov-Smirnov  0.066532  0.092067  0.076109  0.094731\n",
       "             KS-pvalue              False     False     False     False\n",
       "             Wasserstein          0.00308  0.004028   0.00353  0.004195"
      ]
     },
     "metadata": {},
     "output_type": "display_data"
    }
   ],
   "source": [
    "sample =380 # sample calculator\n",
    "outlier_rejection=True\n",
    "by_hist=False\n",
    "correct_for_bias=False\n",
    "metrics = get_metrics(generated.copy(), data_eval.copy(), \n",
    "                    sample,\n",
    "                    by_hist= by_hist, \n",
    "                    correct_for_bias = correct_for_bias , \n",
    "                    outlier_rejection=outlier_rejection)\n",
    "display(metrics)"
   ]
  },
  {
   "cell_type": "code",
   "execution_count": 673,
   "metadata": {},
   "outputs": [],
   "source": [
    "metrics.to_csv(results_dir +'metrics.csv', index=False)"
   ]
  },
  {
   "cell_type": "code",
   "execution_count": 674,
   "metadata": {},
   "outputs": [
    {
     "name": "stdout",
     "output_type": "stream",
     "text": [
      "Model:  VQ-VAE-CONV2\n",
      "Model:  VAE-CONV1\n",
      "Model:  VAE-CONV3\n",
      "Model:  VAE-FD1\n",
      "Model:  VAE-FD2\n",
      "Model:  VQ-VAE-FD1\n"
     ]
    },
    {
     "data": {
      "text/html": [
       "<div>\n",
       "<style scoped>\n",
       "    .dataframe tbody tr th:only-of-type {\n",
       "        vertical-align: middle;\n",
       "    }\n",
       "\n",
       "    .dataframe tbody tr th {\n",
       "        vertical-align: top;\n",
       "    }\n",
       "\n",
       "    .dataframe thead th {\n",
       "        text-align: right;\n",
       "    }\n",
       "</style>\n",
       "<table border=\"1\" class=\"dataframe\">\n",
       "  <thead>\n",
       "    <tr style=\"text-align: right;\">\n",
       "      <th></th>\n",
       "      <th></th>\n",
       "      <th>data0</th>\n",
       "      <th>data1</th>\n",
       "      <th>data2</th>\n",
       "      <th>data3</th>\n",
       "    </tr>\n",
       "  </thead>\n",
       "  <tbody>\n",
       "    <tr>\n",
       "      <th rowspan=\"5\" valign=\"top\">VQ-VAE-CONV2</th>\n",
       "      <th>Kullback-Leibler</th>\n",
       "      <td>0.000715</td>\n",
       "      <td>0.002127</td>\n",
       "      <td>0.000821</td>\n",
       "      <td>0.002394</td>\n",
       "    </tr>\n",
       "    <tr>\n",
       "      <th>Jensen-Shannon</th>\n",
       "      <td>0.013429</td>\n",
       "      <td>0.022878</td>\n",
       "      <td>0.014395</td>\n",
       "      <td>0.024264</td>\n",
       "    </tr>\n",
       "    <tr>\n",
       "      <th>Kolmogorov-Smirnov</th>\n",
       "      <td>0.029954</td>\n",
       "      <td>0.040899</td>\n",
       "      <td>0.033185</td>\n",
       "      <td>0.043905</td>\n",
       "    </tr>\n",
       "    <tr>\n",
       "      <th>KS-pvalue</th>\n",
       "      <td>False</td>\n",
       "      <td>False</td>\n",
       "      <td>False</td>\n",
       "      <td>False</td>\n",
       "    </tr>\n",
       "    <tr>\n",
       "      <th>Wasserstein</th>\n",
       "      <td>0.000745</td>\n",
       "      <td>0.000913</td>\n",
       "      <td>0.000545</td>\n",
       "      <td>0.000924</td>\n",
       "    </tr>\n",
       "    <tr>\n",
       "      <th rowspan=\"5\" valign=\"top\">VAE-CONV1</th>\n",
       "      <th>Kullback-Leibler</th>\n",
       "      <td>0.210103</td>\n",
       "      <td>0.288349</td>\n",
       "      <td>0.212197</td>\n",
       "      <td>0.291698</td>\n",
       "    </tr>\n",
       "    <tr>\n",
       "      <th>Jensen-Shannon</th>\n",
       "      <td>0.210226</td>\n",
       "      <td>0.242077</td>\n",
       "      <td>0.211196</td>\n",
       "      <td>0.243329</td>\n",
       "    </tr>\n",
       "    <tr>\n",
       "      <th>Kolmogorov-Smirnov</th>\n",
       "      <td>0.096009</td>\n",
       "      <td>0.123083</td>\n",
       "      <td>0.106144</td>\n",
       "      <td>0.125531</td>\n",
       "    </tr>\n",
       "    <tr>\n",
       "      <th>KS-pvalue</th>\n",
       "      <td>False</td>\n",
       "      <td>False</td>\n",
       "      <td>False</td>\n",
       "      <td>False</td>\n",
       "    </tr>\n",
       "    <tr>\n",
       "      <th>Wasserstein</th>\n",
       "      <td>0.00399</td>\n",
       "      <td>0.00495</td>\n",
       "      <td>0.004402</td>\n",
       "      <td>0.005109</td>\n",
       "    </tr>\n",
       "    <tr>\n",
       "      <th rowspan=\"5\" valign=\"top\">VAE-CONV3</th>\n",
       "      <th>Kullback-Leibler</th>\n",
       "      <td>0.344024</td>\n",
       "      <td>0.306276</td>\n",
       "      <td>0.33272</td>\n",
       "      <td>0.298557</td>\n",
       "    </tr>\n",
       "    <tr>\n",
       "      <th>Jensen-Shannon</th>\n",
       "      <td>0.30334</td>\n",
       "      <td>0.285613</td>\n",
       "      <td>0.298521</td>\n",
       "      <td>0.282083</td>\n",
       "    </tr>\n",
       "    <tr>\n",
       "      <th>Kolmogorov-Smirnov</th>\n",
       "      <td>0.194403</td>\n",
       "      <td>0.186942</td>\n",
       "      <td>0.200344</td>\n",
       "      <td>0.187203</td>\n",
       "    </tr>\n",
       "    <tr>\n",
       "      <th>KS-pvalue</th>\n",
       "      <td>False</td>\n",
       "      <td>False</td>\n",
       "      <td>False</td>\n",
       "      <td>False</td>\n",
       "    </tr>\n",
       "    <tr>\n",
       "      <th>Wasserstein</th>\n",
       "      <td>0.012387</td>\n",
       "      <td>0.01153</td>\n",
       "      <td>0.012067</td>\n",
       "      <td>0.011397</td>\n",
       "    </tr>\n",
       "    <tr>\n",
       "      <th rowspan=\"5\" valign=\"top\">VAE-FD1</th>\n",
       "      <th>Kullback-Leibler</th>\n",
       "      <td>0.031139</td>\n",
       "      <td>0.021489</td>\n",
       "      <td>0.027383</td>\n",
       "      <td>0.019136</td>\n",
       "    </tr>\n",
       "    <tr>\n",
       "      <th>Jensen-Shannon</th>\n",
       "      <td>0.089595</td>\n",
       "      <td>0.073688</td>\n",
       "      <td>0.084032</td>\n",
       "      <td>0.069528</td>\n",
       "    </tr>\n",
       "    <tr>\n",
       "      <th>Kolmogorov-Smirnov</th>\n",
       "      <td>0.046263</td>\n",
       "      <td>0.032456</td>\n",
       "      <td>0.055885</td>\n",
       "      <td>0.035246</td>\n",
       "    </tr>\n",
       "    <tr>\n",
       "      <th>KS-pvalue</th>\n",
       "      <td>False</td>\n",
       "      <td>False</td>\n",
       "      <td>False</td>\n",
       "      <td>False</td>\n",
       "    </tr>\n",
       "    <tr>\n",
       "      <th>Wasserstein</th>\n",
       "      <td>0.001369</td>\n",
       "      <td>0.001016</td>\n",
       "      <td>0.00158</td>\n",
       "      <td>0.001173</td>\n",
       "    </tr>\n",
       "    <tr>\n",
       "      <th rowspan=\"5\" valign=\"top\">VAE-FD2</th>\n",
       "      <th>Kullback-Leibler</th>\n",
       "      <td>0.423688</td>\n",
       "      <td>0.533249</td>\n",
       "      <td>0.422819</td>\n",
       "      <td>0.535623</td>\n",
       "    </tr>\n",
       "    <tr>\n",
       "      <th>Jensen-Shannon</th>\n",
       "      <td>0.286803</td>\n",
       "      <td>0.315974</td>\n",
       "      <td>0.286522</td>\n",
       "      <td>0.316544</td>\n",
       "    </tr>\n",
       "    <tr>\n",
       "      <th>Kolmogorov-Smirnov</th>\n",
       "      <td>0.193764</td>\n",
       "      <td>0.217544</td>\n",
       "      <td>0.200803</td>\n",
       "      <td>0.219974</td>\n",
       "    </tr>\n",
       "    <tr>\n",
       "      <th>KS-pvalue</th>\n",
       "      <td>False</td>\n",
       "      <td>False</td>\n",
       "      <td>False</td>\n",
       "      <td>False</td>\n",
       "    </tr>\n",
       "    <tr>\n",
       "      <th>Wasserstein</th>\n",
       "      <td>0.006108</td>\n",
       "      <td>0.007069</td>\n",
       "      <td>0.006519</td>\n",
       "      <td>0.007227</td>\n",
       "    </tr>\n",
       "    <tr>\n",
       "      <th rowspan=\"5\" valign=\"top\">VQ-VAE-FD1</th>\n",
       "      <th>Kullback-Leibler</th>\n",
       "      <td>0.364549</td>\n",
       "      <td>0.434117</td>\n",
       "      <td>0.352191</td>\n",
       "      <td>0.428764</td>\n",
       "    </tr>\n",
       "    <tr>\n",
       "      <th>Jensen-Shannon</th>\n",
       "      <td>0.28083</td>\n",
       "      <td>0.30088</td>\n",
       "      <td>0.27629</td>\n",
       "      <td>0.299051</td>\n",
       "    </tr>\n",
       "    <tr>\n",
       "      <th>Kolmogorov-Smirnov</th>\n",
       "      <td>0.066532</td>\n",
       "      <td>0.092067</td>\n",
       "      <td>0.076109</td>\n",
       "      <td>0.094731</td>\n",
       "    </tr>\n",
       "    <tr>\n",
       "      <th>KS-pvalue</th>\n",
       "      <td>False</td>\n",
       "      <td>False</td>\n",
       "      <td>False</td>\n",
       "      <td>False</td>\n",
       "    </tr>\n",
       "    <tr>\n",
       "      <th>Wasserstein</th>\n",
       "      <td>0.00308</td>\n",
       "      <td>0.004028</td>\n",
       "      <td>0.00353</td>\n",
       "      <td>0.004195</td>\n",
       "    </tr>\n",
       "  </tbody>\n",
       "</table>\n",
       "</div>"
      ],
      "text/plain": [
       "                                    data0     data1     data2     data3\n",
       "VQ-VAE-CONV2 Kullback-Leibler    0.000715  0.002127  0.000821  0.002394\n",
       "             Jensen-Shannon      0.013429  0.022878  0.014395  0.024264\n",
       "             Kolmogorov-Smirnov  0.029954  0.040899  0.033185  0.043905\n",
       "             KS-pvalue              False     False     False     False\n",
       "             Wasserstein         0.000745  0.000913  0.000545  0.000924\n",
       "VAE-CONV1    Kullback-Leibler    0.210103  0.288349  0.212197  0.291698\n",
       "             Jensen-Shannon      0.210226  0.242077  0.211196  0.243329\n",
       "             Kolmogorov-Smirnov  0.096009  0.123083  0.106144  0.125531\n",
       "             KS-pvalue              False     False     False     False\n",
       "             Wasserstein          0.00399   0.00495  0.004402  0.005109\n",
       "VAE-CONV3    Kullback-Leibler    0.344024  0.306276   0.33272  0.298557\n",
       "             Jensen-Shannon       0.30334  0.285613  0.298521  0.282083\n",
       "             Kolmogorov-Smirnov  0.194403  0.186942  0.200344  0.187203\n",
       "             KS-pvalue              False     False     False     False\n",
       "             Wasserstein         0.012387   0.01153  0.012067  0.011397\n",
       "VAE-FD1      Kullback-Leibler    0.031139  0.021489  0.027383  0.019136\n",
       "             Jensen-Shannon      0.089595  0.073688  0.084032  0.069528\n",
       "             Kolmogorov-Smirnov  0.046263  0.032456  0.055885  0.035246\n",
       "             KS-pvalue              False     False     False     False\n",
       "             Wasserstein         0.001369  0.001016   0.00158  0.001173\n",
       "VAE-FD2      Kullback-Leibler    0.423688  0.533249  0.422819  0.535623\n",
       "             Jensen-Shannon      0.286803  0.315974  0.286522  0.316544\n",
       "             Kolmogorov-Smirnov  0.193764  0.217544  0.200803  0.219974\n",
       "             KS-pvalue              False     False     False     False\n",
       "             Wasserstein         0.006108  0.007069  0.006519  0.007227\n",
       "VQ-VAE-FD1   Kullback-Leibler    0.364549  0.434117  0.352191  0.428764\n",
       "             Jensen-Shannon       0.28083   0.30088   0.27629  0.299051\n",
       "             Kolmogorov-Smirnov  0.066532  0.092067  0.076109  0.094731\n",
       "             KS-pvalue              False     False     False     False\n",
       "             Wasserstein          0.00308  0.004028   0.00353  0.004195"
      ]
     },
     "metadata": {},
     "output_type": "display_data"
    }
   ],
   "source": [
    "sample =1000 # sample calculator\n",
    "outlier_rejection=True\n",
    "by_hist=False\n",
    "correct_for_bias=True\n",
    "metrics = get_metrics(generated.copy(), data_eval.copy(), \n",
    "                    sample,\n",
    "                    by_hist= by_hist, \n",
    "                    correct_for_bias = correct_for_bias , \n",
    "                    outlier_rejection=outlier_rejection)\n",
    "display(metrics)"
   ]
  },
  {
   "cell_type": "markdown",
   "metadata": {},
   "source": [
    "## Fitting Kernel"
   ]
  },
  {
   "cell_type": "code",
   "execution_count": 615,
   "metadata": {},
   "outputs": [],
   "source": [
    "array = real.flatten()\n",
    "m=10\n",
    "array = reject_outliers(array, m=m)\n",
    "bandwidth = 1.06 * array.std() * array.size ** (-1 / 5.)\n",
    "kde = KernelDensity(kernel='gaussian', bandwidth=bandwidth).fit(array.reshape(-1, 1))\n",
    "   \n"
   ]
  },
  {
   "cell_type": "code",
   "execution_count": 618,
   "metadata": {},
   "outputs": [
    {
     "data": {
      "text/plain": [
       "(110790,)"
      ]
     },
     "execution_count": 618,
     "metadata": {},
     "output_type": "execute_result"
    }
   ],
   "source": [
    "array.shape"
   ]
  },
  {
   "cell_type": "code",
   "execution_count": 619,
   "metadata": {},
   "outputs": [],
   "source": [
    "X = np.linspace(np.min(array), np.max(array), sample)\n",
    "probabilities = np.exp(kernel.score_samples(X.reshape(-1, 1)))\n",
    "\n"
   ]
  },
  {
   "cell_type": "code",
   "execution_count": 620,
   "metadata": {},
   "outputs": [
    {
     "data": {
      "text/plain": [
       "2709.2731595281666"
      ]
     },
     "execution_count": 620,
     "metadata": {},
     "output_type": "execute_result"
    }
   ],
   "source": [
    "sum(probabilities)"
   ]
  },
  {
   "cell_type": "code",
   "execution_count": 621,
   "metadata": {},
   "outputs": [
    {
     "data": {
      "image/png": "[encoded data removed]",
      "text/plain": [
       "<Figure size 640x480 with 1 Axes>"
      ]
     },
     "metadata": {},
     "output_type": "display_data"
    }
   ],
   "source": [
    "# plot the histogram and pdf\n",
    "plt.hist(array, bins=50, density=True)\n",
    "plt.plot(X, probabilities)\n",
    "plt.show()"
   ]
  },
  {
   "cell_type": "code",
   "execution_count": 622,
   "metadata": {},
   "outputs": [],
   "source": [
    "pdf = probabilities / np.sum(probabilities)\n",
    "cdf = np.cumsum(pdf)"
   ]
  },
  {
   "cell_type": "code",
   "execution_count": 623,
   "metadata": {},
   "outputs": [
    {
     "name": "stderr",
     "output_type": "stream",
     "text": [
      "/var/folders/4t/55hr34s50pb0bz56v_nxv0j00000gn/T/ipykernel_61264/2912222184.py:8: UserWarning: Matplotlib is currently using module://matplotlib_inline.backend_inline, which is a non-GUI backend, so cannot show the figure.\n",
      "  fig.show()\n"
     ]
    },
    {
     "data": {
      "image/png": "[encoded data removed]",
      "text/plain": [
       "<Figure size 640x480 with 1 Axes>"
      ]
     },
     "metadata": {},
     "output_type": "display_data"
    }
   ],
   "source": [
    "fig, ax = plt.subplots()\n",
    "ax.set_title(\"PDF from Template\")\n",
    "# ax.hist(array, density=True, bins=100)\n",
    "\n",
    "ax.plot(X, pdf, label='PDF')\n",
    "ax.plot(X, cdf, label='CDF')\n",
    "ax.legend()\n",
    "fig.show()"
   ]
  },
  {
   "cell_type": "code",
   "execution_count": 624,
   "metadata": {},
   "outputs": [
    {
     "data": {
      "text/plain": [
       "array([2.64399362e-05, 2.55806081e-05, 2.48536012e-05, 2.43750558e-05,\n",
       "       2.42151548e-05, 2.43980374e-05, 2.49116965e-05, 2.57240320e-05,\n",
       "       2.67992521e-05, 2.81084099e-05, 2.96300630e-05, 3.13414908e-05,\n",
       "       3.32056329e-05, 3.51613555e-05, 3.71233002e-05, 3.89929724e-05,\n",
       "       4.06772480e-05, 4.21069311e-05, 4.32481407e-05, 4.41029220e-05,\n",
       "       4.47005634e-05, 4.50850193e-05, 4.53047702e-05, 4.54092517e-05,\n",
       "       4.54520330e-05, 4.54971851e-05, 4.56233185e-05, 4.59203416e-05,\n",
       "       4.64769273e-05, 4.73610334e-05, 4.85999497e-05, 5.01683076e-05,\n",
       "       5.19908711e-05, 5.39617198e-05, 5.59744554e-05, 5.79524771e-05,\n",
       "       5.98672609e-05, 6.17372641e-05, 6.36089070e-05, 6.55297721e-05,\n",
       "       6.75278364e-05, 6.96067252e-05, 7.17574996e-05, 7.39778862e-05,\n",
       "       7.62859950e-05, 7.87197277e-05, 8.13223743e-05, 8.41232064e-05,\n",
       "       8.71240914e-05, 9.02985612e-05, 9.36021686e-05, 9.69876164e-05,\n",
       "       1.00417952e-04, 1.03874932e-04, 1.07363670e-04, 1.10915663e-04,\n",
       "       1.14590014e-04, 1.18469758e-04, 1.22649730e-04, 1.27215618e-04,\n",
       "       1.32219044e-04, 1.37657584e-04, 1.43468827e-04, 1.49543256e-04,\n",
       "       1.55753582e-04, 1.61991317e-04, 1.68198007e-04, 1.74380320e-04,\n",
       "       1.80604379e-04, 1.86972549e-04, 1.93591974e-04, 2.00545801e-04,\n",
       "       2.07875023e-04, 2.15573030e-04, 2.23589946e-04, 2.31842409e-04,\n",
       "       2.40227208e-04, 2.48641117e-04, 2.57010015e-04, 2.65325480e-04,\n",
       "       2.73678649e-04, 2.82275165e-04, 2.91417254e-04, 3.01450452e-04,\n",
       "       3.12687898e-04, 3.25336308e-04, 3.39448554e-04, 3.54918210e-04,\n",
       "       3.71516446e-04, 3.88957837e-04, 4.06973146e-04, 4.25365363e-04,\n",
       "       4.44029745e-04, 4.62929112e-04, 4.82031084e-04, 5.01231002e-04,\n",
       "       5.20296169e-04, 5.38866541e-04, 5.56530258e-04, 5.72963626e-04,\n",
       "       5.88095430e-04, 6.02238093e-04, 6.16131807e-04, 6.30872183e-04,\n",
       "       6.47728741e-04, 6.67898130e-04, 6.92259787e-04, 7.21204251e-04,\n",
       "       7.54583387e-04, 7.91793426e-04, 8.31959586e-04, 8.74160894e-04,\n",
       "       9.17627172e-04, 9.61858061e-04, 1.00664760e-03, 1.05203244e-03,\n",
       "       1.09820413e-03, 1.14542816e-03, 1.19399692e-03, 1.24421830e-03,\n",
       "       1.29642063e-03, 1.35094722e-03, 1.40812337e-03, 1.46819909e-03,\n",
       "       1.53128928e-03, 1.59734114e-03, 1.66615121e-03, 1.73743575e-03,\n",
       "       1.81093576e-03, 1.88652240e-03, 1.96426644e-03, 2.04444905e-03,\n",
       "       2.12751437e-03, 2.21398638e-03, 2.30438425e-03, 2.39916745e-03,\n",
       "       2.49872943e-03, 2.60344164e-03, 2.71373428e-03, 2.83018391e-03,\n",
       "       2.95356344e-03, 3.08480312e-03, 3.22482564e-03, 3.37426494e-03,\n",
       "       3.53314768e-03, 3.70067468e-03, 3.87524146e-03, 4.05475802e-03,\n",
       "       4.23719182e-03, 4.42113324e-03, 4.60614792e-03, 4.79276698e-03,\n",
       "       4.98213670e-03, 5.17551220e-03, 5.37384474e-03, 5.57764480e-03,\n",
       "       5.78714564e-03, 6.00263334e-03, 6.22473607e-03, 6.45450894e-03,\n",
       "       6.69327533e-03, 6.94231597e-03, 7.20256267e-03, 7.47443115e-03,\n",
       "       7.75784167e-03, 8.05238229e-03, 8.35751224e-03, 8.67270202e-03,\n",
       "       8.99745137e-03, 9.33119076e-03, 9.67312852e-03, 1.00221308e-02,\n",
       "       1.03767053e-02, 1.07351061e-02, 1.10955103e-02, 1.14561714e-02,\n",
       "       1.18154582e-02, 1.21717440e-02, 1.25231863e-02, 1.28674925e-02,\n",
       "       1.32017588e-02, 1.35224103e-02, 1.38252086e-02, 1.41052743e-02,\n",
       "       1.43571308e-02, 1.45748563e-02, 1.47524619e-02, 1.48845466e-02,\n",
       "       1.49671303e-02, 1.49984271e-02, 1.49792846e-02, 1.49131085e-02,\n",
       "       1.48052766e-02, 1.46622070e-02, 1.44903414e-02, 1.42952936e-02,\n",
       "       1.40813437e-02, 1.38513599e-02, 1.36071130e-02, 1.33498441e-02,\n",
       "       1.30808599e-02, 1.28019164e-02, 1.25152294e-02, 1.22231066e-02,\n",
       "       1.19273632e-02, 1.16287934e-02, 1.13269503e-02, 1.10203636e-02,\n",
       "       1.07071380e-02, 1.03857266e-02, 1.00556105e-02, 9.71766377e-03,\n",
       "       9.37411193e-03, 9.02813615e-03, 8.68328606e-03, 8.34290357e-03,\n",
       "       8.00972178e-03, 7.68571080e-03, 7.37213452e-03, 7.06970793e-03,\n",
       "       6.77873518e-03, 6.49916545e-03, 6.23058972e-03, 5.97226025e-03,\n",
       "       5.72320736e-03, 5.48245944e-03, 5.24928919e-03, 5.02337045e-03,\n",
       "       4.80476292e-03, 4.59372872e-03, 4.39047178e-03, 4.19492893e-03,\n",
       "       4.00671191e-03, 3.82522153e-03, 3.64987231e-03, 3.48031742e-03,\n",
       "       3.31656857e-03, 3.15895783e-03, 3.00796161e-03, 2.86396851e-03,\n",
       "       2.72709614e-03, 2.59713712e-03, 2.47365300e-03, 2.35616491e-03,\n",
       "       2.24434522e-03, 2.13811695e-03, 2.03761435e-03, 1.94302652e-03,\n",
       "       1.85439992e-03, 1.77149035e-03, 1.69372677e-03, 1.62029561e-03,\n",
       "       1.55030518e-03, 1.48296582e-03, 1.41772839e-03, 1.35434956e-03,\n",
       "       1.29288085e-03, 1.23359767e-03, 1.17689315e-03, 1.12316159e-03,\n",
       "       1.07269304e-03, 1.02559536e-03, 9.81754054e-04, 9.40835229e-04,\n",
       "       9.02332304e-04, 8.65652643e-04, 8.30232348e-04, 7.95656043e-04,\n",
       "       7.61748280e-04, 7.28602712e-04, 6.96530830e-04, 6.65941161e-04,\n",
       "       6.37189385e-04, 6.10453360e-04, 5.85675717e-04, 5.62585953e-04,\n",
       "       5.40781012e-04, 5.19825586e-04, 4.99337449e-04, 4.79041786e-04,\n",
       "       4.58797093e-04, 4.38602851e-04, 4.18594776e-04, 3.99024726e-04,\n",
       "       3.80218534e-04, 3.62510364e-04, 3.46163631e-04, 3.31299066e-04,\n",
       "       3.17853743e-04, 3.05588324e-04, 2.94145553e-04, 2.83146106e-04,\n",
       "       2.72294230e-04, 2.61460340e-04, 2.50713288e-04, 2.40290237e-04,\n",
       "       2.30511988e-04, 2.21669361e-04, 2.13915844e-04, 2.07200186e-04,\n",
       "       2.01260453e-04, 1.95682060e-04, 1.90002298e-04, 1.83829506e-04,\n",
       "       1.76941704e-04, 1.69338156e-04, 1.61233945e-04, 1.53004475e-04,\n",
       "       1.45097738e-04, 1.37935397e-04, 1.31822389e-04, 1.26882282e-04,\n",
       "       1.23032682e-04, 1.20008846e-04, 1.17432186e-04, 1.14905903e-04,\n",
       "       1.12109202e-04, 1.08861349e-04, 1.05138900e-04, 1.01048198e-04,\n",
       "       9.67714318e-05, 9.25104077e-05, 8.84463852e-05, 8.47216615e-05,\n",
       "       8.14366782e-05, 7.86511660e-05, 7.63806742e-05, 7.45877507e-05,\n",
       "       7.31747805e-05, 7.19884570e-05, 7.08423279e-05, 6.95556467e-05,\n",
       "       6.79980449e-05, 6.61247258e-05, 6.39884818e-05, 6.17224759e-05,\n",
       "       5.94983997e-05, 5.74740289e-05, 5.57484116e-05, 5.43400080e-05,\n",
       "       5.31940013e-05, 5.22133909e-05, 5.12993734e-05, 5.03840441e-05,\n",
       "       4.94437399e-05, 4.84916604e-05, 4.75583285e-05, 4.66726904e-05,\n",
       "       4.58532053e-05, 4.51097954e-05, 4.44498016e-05, 4.38793265e-05,\n",
       "       4.33965218e-05, 4.29814545e-05, 4.25918943e-05, 4.21717635e-05,\n",
       "       4.16705406e-05, 4.10635566e-05, 4.03610514e-05, 3.95999039e-05,\n",
       "       3.88222226e-05, 3.80527211e-05, 3.72871142e-05, 3.64968681e-05,\n",
       "       3.56462122e-05, 3.47110755e-05, 3.36896769e-05, 3.26001406e-05,\n",
       "       3.14681531e-05, 3.03132242e-05, 2.91427592e-05, 2.79585365e-05,\n",
       "       2.67725576e-05, 2.56226226e-05, 2.45763048e-05, 2.37168249e-05,\n",
       "       2.31136047e-05, 2.27892070e-05, 2.26980047e-05, 2.27280844e-05])"
      ]
     },
     "execution_count": 624,
     "metadata": {},
     "output_type": "execute_result"
    }
   ],
   "source": [
    "pdf"
   ]
  },
  {
   "cell_type": "markdown",
   "metadata": {},
   "source": [
    "## Fitting histogram "
   ]
  },
  {
   "cell_type": "code",
   "execution_count": 465,
   "metadata": {},
   "outputs": [
    {
     "data": {
      "text/plain": [
       "(111104,)"
      ]
     },
     "execution_count": 465,
     "metadata": {},
     "output_type": "execute_result"
    }
   ],
   "source": [
    "synth.shape"
   ]
  },
  {
   "cell_type": "code",
   "execution_count": 467,
   "metadata": {},
   "outputs": [],
   "source": [
    "array = synth\n",
    "density = True\n",
    "bins='auto'\n",
    "sample = 300\n",
    "#Get histogram\n",
    "\n",
    "hist, bin_edges =  np.histogram(array, bins=bins, density=density)\n",
    "hist_norm = hist / np.sum(hist)\n",
    "bin_edges_norm = bin_edges / np.sum(hist)\n",
    "# if w:\n",
    "#     print('Adding prior correction to histogram')\n",
    "#     histogram_dist = rv_histogram((\n",
    "#         np.histogram(array, bins=bins, density=density)[0] + w * np.ones(len(hist)),\n",
    "#         bin_edges)\n",
    "#         ,density=density)\n",
    "# else:\n",
    "histogram_dist = rv_histogram((hist, bin_edges),density=density)\n",
    "\n",
    "#Generate arrays of pdf evaluations\n",
    "X = np.linspace(np.min(array), np.max(array), sample)\n",
    "\n",
    "rvs_array = np.array([histogram_dist.pdf(x) for x in X])\n"
   ]
  },
  {
   "cell_type": "code",
   "execution_count": 468,
   "metadata": {},
   "outputs": [
    {
     "data": {
      "text/plain": [
       "3996.1614437598264"
      ]
     },
     "execution_count": 468,
     "metadata": {},
     "output_type": "execute_result"
    }
   ],
   "source": [
    "sum(rvs_array)"
   ]
  },
  {
   "cell_type": "code",
   "execution_count": 472,
   "metadata": {},
   "outputs": [],
   "source": [
    "pdf = rvs_array/sum(rvs_array)"
   ]
  },
  {
   "cell_type": "code",
   "execution_count": 476,
   "metadata": {},
   "outputs": [],
   "source": [
    "cdf = np.cumsum(pdf)"
   ]
  },
  {
   "cell_type": "code",
   "execution_count": 477,
   "metadata": {},
   "outputs": [
    {
     "name": "stderr",
     "output_type": "stream",
     "text": [
      "/var/folders/4t/55hr34s50pb0bz56v_nxv0j00000gn/T/ipykernel_61264/2438387165.py:8: UserWarning: Matplotlib is currently using module://matplotlib_inline.backend_inline, which is a non-GUI backend, so cannot show the figure.\n",
      "  fig.show()\n"
     ]
    },
    {
     "data": {
      "image/png": "[encoded data removed]",
      "text/plain": [
       "<Figure size 640x480 with 1 Axes>"
      ]
     },
     "metadata": {},
     "output_type": "display_data"
    }
   ],
   "source": [
    "\n",
    "fig, ax = plt.subplots()\n",
    "ax.set_title(\"PDF from Template\")\n",
    "# ax.hist(array, density=True, bins=100)\n",
    "\n",
    "ax.plot(X, pdf, label='PDF')\n",
    "ax.plot(X, cdf, label='CDF')\n",
    "ax.legend()\n",
    "fig.show()"
   ]
  },
  {
   "cell_type": "markdown",
   "metadata": {},
   "source": [
    "## Jensen divergence"
   ]
  },
  {
   "cell_type": "code",
   "execution_count": 625,
   "metadata": {},
   "outputs": [
    {
     "data": {
      "text/plain": [
       "(111104,)"
      ]
     },
     "execution_count": 625,
     "metadata": {},
     "output_type": "execute_result"
    }
   ],
   "source": [
    "real.shape"
   ]
  },
  {
   "cell_type": "code",
   "execution_count": 626,
   "metadata": {},
   "outputs": [],
   "source": [
    "synth = vaefd2.flatten()\n",
    "real = data_eval[0].flatten()\n",
    "sample =380 # sample calculator\n",
    "outlier_rejection=True\n",
    "m=10\n",
    "bins='auto'\n",
    "density=True\n",
    "w=None\n",
    "correct_for_bias=True\n",
    "\n",
    "p = get_pdf(synth, sample=sample, by_hist= False,w=w, bins=bins, density=density, outlier_rejection=outlier_rejection, m=m)\n",
    "q = get_pdf(real, sample=sample, by_hist= False, w=w, bins=bins, density=density, outlier_rejection=outlier_rejection, m=m)\n"
   ]
  },
  {
   "cell_type": "code",
   "execution_count": 627,
   "metadata": {},
   "outputs": [
    {
     "data": {
      "text/plain": [
       "array([2.64399362e-05, 2.55806081e-05, 2.48536012e-05, 2.43750558e-05,\n",
       "       2.42151548e-05, 2.43980374e-05, 2.49116965e-05, 2.57240320e-05,\n",
       "       2.67992521e-05, 2.81084099e-05, 2.96300630e-05, 3.13414908e-05,\n",
       "       3.32056329e-05, 3.51613555e-05, 3.71233002e-05, 3.89929724e-05,\n",
       "       4.06772480e-05, 4.21069311e-05, 4.32481407e-05, 4.41029220e-05,\n",
       "       4.47005634e-05, 4.50850193e-05, 4.53047702e-05, 4.54092517e-05,\n",
       "       4.54520330e-05, 4.54971851e-05, 4.56233185e-05, 4.59203416e-05,\n",
       "       4.64769273e-05, 4.73610334e-05, 4.85999497e-05, 5.01683076e-05,\n",
       "       5.19908711e-05, 5.39617198e-05, 5.59744554e-05, 5.79524771e-05,\n",
       "       5.98672609e-05, 6.17372641e-05, 6.36089070e-05, 6.55297721e-05,\n",
       "       6.75278364e-05, 6.96067252e-05, 7.17574996e-05, 7.39778862e-05,\n",
       "       7.62859950e-05, 7.87197277e-05, 8.13223743e-05, 8.41232064e-05,\n",
       "       8.71240914e-05, 9.02985612e-05, 9.36021686e-05, 9.69876164e-05,\n",
       "       1.00417952e-04, 1.03874932e-04, 1.07363670e-04, 1.10915663e-04,\n",
       "       1.14590014e-04, 1.18469758e-04, 1.22649730e-04, 1.27215618e-04,\n",
       "       1.32219044e-04, 1.37657584e-04, 1.43468827e-04, 1.49543256e-04,\n",
       "       1.55753582e-04, 1.61991317e-04, 1.68198007e-04, 1.74380320e-04,\n",
       "       1.80604379e-04, 1.86972549e-04, 1.93591974e-04, 2.00545801e-04,\n",
       "       2.07875023e-04, 2.15573030e-04, 2.23589946e-04, 2.31842409e-04,\n",
       "       2.40227208e-04, 2.48641117e-04, 2.57010015e-04, 2.65325480e-04,\n",
       "       2.73678649e-04, 2.82275165e-04, 2.91417254e-04, 3.01450452e-04,\n",
       "       3.12687898e-04, 3.25336308e-04, 3.39448554e-04, 3.54918210e-04,\n",
       "       3.71516446e-04, 3.88957837e-04, 4.06973146e-04, 4.25365363e-04,\n",
       "       4.44029745e-04, 4.62929112e-04, 4.82031084e-04, 5.01231002e-04,\n",
       "       5.20296169e-04, 5.38866541e-04, 5.56530258e-04, 5.72963626e-04,\n",
       "       5.88095430e-04, 6.02238093e-04, 6.16131807e-04, 6.30872183e-04,\n",
       "       6.47728741e-04, 6.67898130e-04, 6.92259787e-04, 7.21204251e-04,\n",
       "       7.54583387e-04, 7.91793426e-04, 8.31959586e-04, 8.74160894e-04,\n",
       "       9.17627172e-04, 9.61858061e-04, 1.00664760e-03, 1.05203244e-03,\n",
       "       1.09820413e-03, 1.14542816e-03, 1.19399692e-03, 1.24421830e-03,\n",
       "       1.29642063e-03, 1.35094722e-03, 1.40812337e-03, 1.46819909e-03,\n",
       "       1.53128928e-03, 1.59734114e-03, 1.66615121e-03, 1.73743575e-03,\n",
       "       1.81093576e-03, 1.88652240e-03, 1.96426644e-03, 2.04444905e-03,\n",
       "       2.12751437e-03, 2.21398638e-03, 2.30438425e-03, 2.39916745e-03,\n",
       "       2.49872943e-03, 2.60344164e-03, 2.71373428e-03, 2.83018391e-03,\n",
       "       2.95356344e-03, 3.08480312e-03, 3.22482564e-03, 3.37426494e-03,\n",
       "       3.53314768e-03, 3.70067468e-03, 3.87524146e-03, 4.05475802e-03,\n",
       "       4.23719182e-03, 4.42113324e-03, 4.60614792e-03, 4.79276698e-03,\n",
       "       4.98213670e-03, 5.17551220e-03, 5.37384474e-03, 5.57764480e-03,\n",
       "       5.78714564e-03, 6.00263334e-03, 6.22473607e-03, 6.45450894e-03,\n",
       "       6.69327533e-03, 6.94231597e-03, 7.20256267e-03, 7.47443115e-03,\n",
       "       7.75784167e-03, 8.05238229e-03, 8.35751224e-03, 8.67270202e-03,\n",
       "       8.99745137e-03, 9.33119076e-03, 9.67312852e-03, 1.00221308e-02,\n",
       "       1.03767053e-02, 1.07351061e-02, 1.10955103e-02, 1.14561714e-02,\n",
       "       1.18154582e-02, 1.21717440e-02, 1.25231863e-02, 1.28674925e-02,\n",
       "       1.32017588e-02, 1.35224103e-02, 1.38252086e-02, 1.41052743e-02,\n",
       "       1.43571308e-02, 1.45748563e-02, 1.47524619e-02, 1.48845466e-02,\n",
       "       1.49671303e-02, 1.49984271e-02, 1.49792846e-02, 1.49131085e-02,\n",
       "       1.48052766e-02, 1.46622070e-02, 1.44903414e-02, 1.42952936e-02,\n",
       "       1.40813437e-02, 1.38513599e-02, 1.36071130e-02, 1.33498441e-02,\n",
       "       1.30808599e-02, 1.28019164e-02, 1.25152294e-02, 1.22231066e-02,\n",
       "       1.19273632e-02, 1.16287934e-02, 1.13269503e-02, 1.10203636e-02,\n",
       "       1.07071380e-02, 1.03857266e-02, 1.00556105e-02, 9.71766377e-03,\n",
       "       9.37411193e-03, 9.02813615e-03, 8.68328606e-03, 8.34290357e-03,\n",
       "       8.00972178e-03, 7.68571080e-03, 7.37213452e-03, 7.06970793e-03,\n",
       "       6.77873518e-03, 6.49916545e-03, 6.23058972e-03, 5.97226025e-03,\n",
       "       5.72320736e-03, 5.48245944e-03, 5.24928919e-03, 5.02337045e-03,\n",
       "       4.80476292e-03, 4.59372872e-03, 4.39047178e-03, 4.19492893e-03,\n",
       "       4.00671191e-03, 3.82522153e-03, 3.64987231e-03, 3.48031742e-03,\n",
       "       3.31656857e-03, 3.15895783e-03, 3.00796161e-03, 2.86396851e-03,\n",
       "       2.72709614e-03, 2.59713712e-03, 2.47365300e-03, 2.35616491e-03,\n",
       "       2.24434522e-03, 2.13811695e-03, 2.03761435e-03, 1.94302652e-03,\n",
       "       1.85439992e-03, 1.77149035e-03, 1.69372677e-03, 1.62029561e-03,\n",
       "       1.55030518e-03, 1.48296582e-03, 1.41772839e-03, 1.35434956e-03,\n",
       "       1.29288085e-03, 1.23359767e-03, 1.17689315e-03, 1.12316159e-03,\n",
       "       1.07269304e-03, 1.02559536e-03, 9.81754054e-04, 9.40835229e-04,\n",
       "       9.02332304e-04, 8.65652643e-04, 8.30232348e-04, 7.95656043e-04,\n",
       "       7.61748280e-04, 7.28602712e-04, 6.96530830e-04, 6.65941161e-04,\n",
       "       6.37189385e-04, 6.10453360e-04, 5.85675717e-04, 5.62585953e-04,\n",
       "       5.40781012e-04, 5.19825586e-04, 4.99337449e-04, 4.79041786e-04,\n",
       "       4.58797093e-04, 4.38602851e-04, 4.18594776e-04, 3.99024726e-04,\n",
       "       3.80218534e-04, 3.62510364e-04, 3.46163631e-04, 3.31299066e-04,\n",
       "       3.17853743e-04, 3.05588324e-04, 2.94145553e-04, 2.83146106e-04,\n",
       "       2.72294230e-04, 2.61460340e-04, 2.50713288e-04, 2.40290237e-04,\n",
       "       2.30511988e-04, 2.21669361e-04, 2.13915844e-04, 2.07200186e-04,\n",
       "       2.01260453e-04, 1.95682060e-04, 1.90002298e-04, 1.83829506e-04,\n",
       "       1.76941704e-04, 1.69338156e-04, 1.61233945e-04, 1.53004475e-04,\n",
       "       1.45097738e-04, 1.37935397e-04, 1.31822389e-04, 1.26882282e-04,\n",
       "       1.23032682e-04, 1.20008846e-04, 1.17432186e-04, 1.14905903e-04,\n",
       "       1.12109202e-04, 1.08861349e-04, 1.05138900e-04, 1.01048198e-04,\n",
       "       9.67714318e-05, 9.25104077e-05, 8.84463852e-05, 8.47216615e-05,\n",
       "       8.14366782e-05, 7.86511660e-05, 7.63806742e-05, 7.45877507e-05,\n",
       "       7.31747805e-05, 7.19884570e-05, 7.08423279e-05, 6.95556467e-05,\n",
       "       6.79980449e-05, 6.61247258e-05, 6.39884818e-05, 6.17224759e-05,\n",
       "       5.94983997e-05, 5.74740289e-05, 5.57484116e-05, 5.43400080e-05,\n",
       "       5.31940013e-05, 5.22133909e-05, 5.12993734e-05, 5.03840441e-05,\n",
       "       4.94437399e-05, 4.84916604e-05, 4.75583285e-05, 4.66726904e-05,\n",
       "       4.58532053e-05, 4.51097954e-05, 4.44498016e-05, 4.38793265e-05,\n",
       "       4.33965218e-05, 4.29814545e-05, 4.25918943e-05, 4.21717635e-05,\n",
       "       4.16705406e-05, 4.10635566e-05, 4.03610514e-05, 3.95999039e-05,\n",
       "       3.88222226e-05, 3.80527211e-05, 3.72871142e-05, 3.64968681e-05,\n",
       "       3.56462122e-05, 3.47110755e-05, 3.36896769e-05, 3.26001406e-05,\n",
       "       3.14681531e-05, 3.03132242e-05, 2.91427592e-05, 2.79585365e-05,\n",
       "       2.67725576e-05, 2.56226226e-05, 2.45763048e-05, 2.37168249e-05,\n",
       "       2.31136047e-05, 2.27892070e-05, 2.26980047e-05, 2.27280844e-05])"
      ]
     },
     "execution_count": 627,
     "metadata": {},
     "output_type": "execute_result"
    }
   ],
   "source": [
    "q"
   ]
  },
  {
   "cell_type": "code",
   "execution_count": 596,
   "metadata": {},
   "outputs": [
    {
     "data": {
      "text/plain": [
       "array([4.20668589e-06, 4.70711947e-06, 4.95551620e-06, 4.95667262e-06,\n",
       "       4.76393045e-06, 4.45162454e-06, 4.08949070e-06, 3.73063601e-06,\n",
       "       3.41126744e-06, 3.15256064e-06, 2.95901093e-06, 2.81738047e-06,\n",
       "       2.70479141e-06, 2.60867022e-06, 2.55043775e-06, 2.59860277e-06,\n",
       "       2.86034138e-06, 3.45118207e-06, 4.45325470e-06, 5.87792518e-06,\n",
       "       7.64672282e-06, 9.59716847e-06, 1.15111739e-05, 1.31568591e-05,\n",
       "       1.43323063e-05, 1.49019151e-05, 1.48201264e-05, 1.41401038e-05,\n",
       "       1.30055572e-05, 1.16247146e-05, 1.02295259e-05, 9.02995514e-06,\n",
       "       8.17780958e-06, 7.75195756e-06, 7.76673230e-06, 8.19330335e-06,\n",
       "       8.97786788e-06, 1.00460368e-05, 1.12976140e-05, 1.26092413e-05,\n",
       "       1.38609630e-05, 1.49834863e-05, 1.59995268e-05, 1.70265597e-05,\n",
       "       1.82286359e-05, 1.97378531e-05, 2.15863112e-05, 2.36826284e-05,\n",
       "       2.58408463e-05, 2.78437773e-05, 2.95124776e-05, 3.07590014e-05,\n",
       "       3.16106466e-05, 3.22007864e-05, 3.27244023e-05, 3.33649010e-05,\n",
       "       3.42176341e-05, 3.52521219e-05, 3.63455398e-05, 3.73770077e-05,\n",
       "       3.83236144e-05, 3.92898122e-05, 4.04481242e-05, 4.19357430e-05,\n",
       "       4.37823950e-05, 4.59168329e-05, 4.82414459e-05, 5.07237878e-05,\n",
       "       5.34518015e-05, 5.66242637e-05, 6.04787087e-05, 6.51857576e-05,\n",
       "       7.07577400e-05, 7.70217261e-05, 8.36811766e-05, 9.04396542e-05,\n",
       "       9.71129056e-05, 1.03652062e-04, 1.10058149e-04, 1.16254965e-04,\n",
       "       1.22035134e-04, 1.27151295e-04, 1.31510249e-04, 1.35330745e-04,\n",
       "       1.39132736e-04, 1.43543003e-04, 1.49040439e-04, 1.55813241e-04,\n",
       "       1.63820027e-04, 1.72998387e-04, 1.83456336e-04, 1.95489573e-04,\n",
       "       2.09384550e-04, 2.25118030e-04, 2.42149584e-04, 2.59464301e-04,\n",
       "       2.75878872e-04, 2.90470105e-04, 3.02924173e-04, 3.13667808e-04,\n",
       "       3.23764390e-04, 3.34645303e-04, 3.47766136e-04, 3.64267685e-04,\n",
       "       3.84727856e-04, 4.09099844e-04, 4.36892720e-04, 4.67545244e-04,\n",
       "       5.00826301e-04, 5.37052745e-04, 5.76993254e-04, 6.21490260e-04,\n",
       "       6.70988077e-04, 7.25213286e-04, 7.83181755e-04, 8.43548136e-04,\n",
       "       9.05151095e-04, 9.67510870e-04, 1.03103913e-03, 1.09683215e-03,\n",
       "       1.16611749e-03, 1.23963183e-03, 1.31728627e-03, 1.39832448e-03,\n",
       "       1.48186890e-03, 1.56751338e-03, 1.65564848e-03, 1.74744819e-03,\n",
       "       1.84465020e-03, 1.94924639e-03, 2.06305839e-03, 2.18714692e-03,\n",
       "       2.32119092e-03, 2.46319427e-03, 2.60986377e-03, 2.75767833e-03,\n",
       "       2.90424482e-03, 3.04932084e-03, 3.19503394e-03, 3.34523354e-03,\n",
       "       3.50430847e-03, 3.67597213e-03, 3.86242444e-03, 4.06407355e-03,\n",
       "       4.27978206e-03, 4.50745174e-03, 4.74468091e-03, 4.98924464e-03,\n",
       "       5.23929058e-03, 5.49335488e-03, 5.75042040e-03, 6.01013693e-03,\n",
       "       6.27306124e-03, 6.54059852e-03, 6.81444863e-03, 7.09574386e-03,\n",
       "       7.38440174e-03, 7.67917160e-03, 7.97838688e-03, 8.28089352e-03,\n",
       "       8.58646950e-03, 8.89543599e-03, 9.20777186e-03, 9.52237878e-03,\n",
       "       9.83697166e-03, 1.01485952e-02, 1.04543853e-02, 1.07521260e-02,\n",
       "       1.10403430e-02, 1.13179573e-02, 1.15837783e-02, 1.18362360e-02,\n",
       "       1.20736400e-02, 1.22948649e-02, 1.24999518e-02, 1.26900409e-02,\n",
       "       1.28664876e-02, 1.30296678e-02, 1.31782931e-02, 1.33097639e-02,\n",
       "       1.34214264e-02, 1.35120811e-02, 1.35830061e-02, 1.36379985e-02,\n",
       "       1.36822902e-02, 1.37206029e-02, 1.37550659e-02, 1.37839929e-02,\n",
       "       1.38022347e-02, 1.38029697e-02, 1.37799351e-02, 1.37289724e-02,\n",
       "       1.36484244e-02, 1.35387253e-02, 1.34017616e-02, 1.32402577e-02,\n",
       "       1.30571390e-02, 1.28549055e-02, 1.26353002e-02, 1.23995302e-02,\n",
       "       1.21489524e-02, 1.18858156e-02, 1.16136473e-02, 1.13370990e-02,\n",
       "       1.10612804e-02, 1.07907112e-02, 1.05281214e-02, 1.02735003e-02,\n",
       "       1.00238879e-02, 9.77420651e-03, 9.51892268e-03, 9.25381224e-03,\n",
       "       8.97700483e-03, 8.68896045e-03, 8.39175148e-03, 8.08841058e-03,\n",
       "       7.78282592e-03, 7.47996058e-03, 7.18567557e-03, 6.90562497e-03,\n",
       "       6.64346185e-03, 6.39932473e-03, 6.16964486e-03, 5.94861089e-03,\n",
       "       5.73063089e-03, 5.51253288e-03, 5.29442589e-03, 5.07894284e-03,\n",
       "       4.86946378e-03, 4.66835091e-03, 4.47602796e-03, 4.29112458e-03,\n",
       "       4.11131909e-03, 3.93428813e-03, 3.75834101e-03, 3.58264547e-03,\n",
       "       3.40718628e-03, 3.23264526e-03, 3.06031067e-03, 2.89200099e-03,\n",
       "       2.72989364e-03, 2.57615197e-03, 2.43237949e-03, 2.29911689e-03,\n",
       "       2.17566460e-03, 2.06036558e-03, 1.95122032e-03, 1.84653256e-03,\n",
       "       1.74530564e-03, 1.64726570e-03, 1.55256310e-03, 1.46133598e-03,\n",
       "       1.37338859e-03, 1.28819552e-03, 1.20526012e-03, 1.12460579e-03,\n",
       "       1.04704203e-03, 9.73960511e-04, 9.06723492e-04, 8.45985756e-04,\n",
       "       7.91338189e-04, 7.41458105e-04, 6.94661333e-04, 6.49563449e-04,\n",
       "       6.05550584e-04, 5.62886616e-04, 5.22452129e-04, 4.85255229e-04,\n",
       "       4.51937726e-04, 4.22492671e-04, 3.96300624e-04, 3.72426143e-04,\n",
       "       3.49989777e-04, 3.28426858e-04, 3.07554731e-04, 2.87496841e-04,\n",
       "       2.68557399e-04, 2.51097642e-04, 2.35411870e-04, 2.21606360e-04,\n",
       "       2.09529063e-04, 1.98808992e-04, 1.89004859e-04, 1.79779654e-04,\n",
       "       1.70991575e-04, 1.62650948e-04, 1.54788889e-04, 1.47339819e-04,\n",
       "       1.40118374e-04, 1.32896284e-04, 1.25515692e-04, 1.17959276e-04,\n",
       "       1.10339071e-04, 1.02829019e-04, 9.56026291e-05, 8.88212684e-05,\n",
       "       8.26658743e-05, 7.73600631e-05, 7.31337977e-05, 7.01240047e-05,\n",
       "       6.82638206e-05, 6.72320988e-05, 6.65056389e-05, 6.55006854e-05,\n",
       "       6.37439852e-05, 6.10011829e-05, 5.73135602e-05, 5.29384381e-05,\n",
       "       4.82319690e-05, 4.35344418e-05, 3.91065823e-05, 3.51279661e-05,\n",
       "       3.17295745e-05, 2.90170705e-05, 2.70576408e-05, 2.58368383e-05,\n",
       "       2.52183958e-05, 2.49432007e-05, 2.46837533e-05, 2.41401657e-05,\n",
       "       2.31393121e-05, 2.16928292e-05, 1.99866139e-05, 1.83067914e-05,\n",
       "       1.69371806e-05, 1.60730509e-05, 1.57804876e-05, 1.60029416e-05,\n",
       "       1.65968246e-05, 1.73763547e-05, 1.81568359e-05, 1.87911393e-05,\n",
       "       1.91918572e-05, 1.93300021e-05, 1.92095082e-05, 1.88323053e-05,\n",
       "       1.81779091e-05, 1.72138814e-05, 1.59325445e-05, 1.43896611e-05,\n",
       "       1.27165030e-05, 1.10913212e-05, 9.68094049e-06, 8.58280510e-06,\n",
       "       7.79941456e-06, 7.25829514e-06, 6.86278375e-06, 6.54103222e-06,\n",
       "       6.26588305e-06, 6.04222812e-06, 5.88154492e-06, 5.78709495e-06,\n",
       "       5.75677440e-06, 5.79081383e-06, 5.88735521e-06, 6.02372960e-06,\n",
       "       6.14007074e-06, 6.14582251e-06, 5.95371259e-06, 5.52340771e-06,\n",
       "       4.88765222e-06, 4.14461954e-06, 3.42151090e-06, 2.82961940e-06,\n",
       "       2.43168869e-06, 2.23218091e-06, 2.18900441e-06, 2.23751223e-06,\n",
       "       2.31556202e-06, 2.38094415e-06, 2.41752530e-06, 2.43155161e-06,\n",
       "       2.44239933e-06, 2.47181744e-06, 2.53377320e-06, 2.62602871e-06,\n",
       "       2.72588408e-06, 2.79415282e-06, 2.78947225e-06, 2.68834838e-06])"
      ]
     },
     "execution_count": 596,
     "metadata": {},
     "output_type": "execute_result"
    }
   ],
   "source": [
    "p"
   ]
  },
  {
   "cell_type": "code",
   "execution_count": 628,
   "metadata": {},
   "outputs": [
    {
     "name": "stdout",
     "output_type": "stream",
     "text": [
      "0 0\n",
      "(380,) (380,)\n"
     ]
    }
   ],
   "source": [
    "print(sum(p>1), sum(q>1))\n",
    "print(p.shape, q.shape)"
   ]
  },
  {
   "cell_type": "code",
   "execution_count": 629,
   "metadata": {},
   "outputs": [
    {
     "data": {
      "text/plain": [
       "0.000395    1\n",
       "0.003646    1\n",
       "0.003133    1\n",
       "0.003187    1\n",
       "0.003242    1\n",
       "           ..\n",
       "0.003188    1\n",
       "0.003140    1\n",
       "0.003093    1\n",
       "0.003047    1\n",
       "0.000336    1\n",
       "Name: count, Length: 380, dtype: int64"
      ]
     },
     "execution_count": 629,
     "metadata": {},
     "output_type": "execute_result"
    }
   ],
   "source": [
    "ps = pd.Series(p)\n",
    "ps.value_counts()"
   ]
  },
  {
   "cell_type": "code",
   "execution_count": 630,
   "metadata": {},
   "outputs": [
    {
     "data": {
      "text/plain": [
       "(380,)"
      ]
     },
     "execution_count": 630,
     "metadata": {},
     "output_type": "execute_result"
    }
   ],
   "source": [
    "p = np.array(p)\n",
    "q = np.array(q)\n",
    "# calculate m\n",
    "m = (p + q) / 2\n",
    "m.shape\n"
   ]
  },
  {
   "cell_type": "code",
   "execution_count": 631,
   "metadata": {},
   "outputs": [
    {
     "data": {
      "text/plain": [
       "0.42398862392916703"
      ]
     },
     "execution_count": 631,
     "metadata": {},
     "output_type": "execute_result"
    }
   ],
   "source": [
    "scipy.stats.entropy(p, q)"
   ]
  },
  {
   "cell_type": "code",
   "execution_count": 632,
   "metadata": {},
   "outputs": [
    {
     "data": {
      "text/plain": [
       "0.07160083742482898"
      ]
     },
     "execution_count": 632,
     "metadata": {},
     "output_type": "execute_result"
    }
   ],
   "source": [
    "scipy.stats.entropy(p, m)"
   ]
  },
  {
   "cell_type": "code",
   "execution_count": 633,
   "metadata": {},
   "outputs": [
    {
     "data": {
      "text/plain": [
       "0.09300394195727545"
      ]
     },
     "execution_count": 633,
     "metadata": {},
     "output_type": "execute_result"
    }
   ],
   "source": [
    "scipy.stats.entropy(q, m)"
   ]
  },
  {
   "cell_type": "code",
   "execution_count": 634,
   "metadata": {},
   "outputs": [
    {
     "data": {
      "text/plain": [
       "0.42398862392916703"
      ]
     },
     "execution_count": 634,
     "metadata": {},
     "output_type": "execute_result"
    }
   ],
   "source": [
    "np.sum(kl_div(p,q))"
   ]
  },
  {
   "cell_type": "code",
   "execution_count": 635,
   "metadata": {},
   "outputs": [
    {
     "data": {
      "text/plain": [
       "0.07160083742482903"
      ]
     },
     "execution_count": 635,
     "metadata": {},
     "output_type": "execute_result"
    }
   ],
   "source": [
    "np.sum(kl_div(p,m))"
   ]
  },
  {
   "cell_type": "code",
   "execution_count": 636,
   "metadata": {},
   "outputs": [
    {
     "data": {
      "text/plain": [
       "0.0930039419572754"
      ]
     },
     "execution_count": 636,
     "metadata": {},
     "output_type": "execute_result"
    }
   ],
   "source": [
    "np.sum(kl_div(q,m))"
   ]
  },
  {
   "cell_type": "code",
   "execution_count": 637,
   "metadata": {},
   "outputs": [
    {
     "data": {
      "text/plain": [
       "0.42398862392916703"
      ]
     },
     "execution_count": 637,
     "metadata": {},
     "output_type": "execute_result"
    }
   ],
   "source": [
    "np.sum(rel_entr(p,q))"
   ]
  },
  {
   "cell_type": "code",
   "execution_count": 638,
   "metadata": {},
   "outputs": [
    {
     "data": {
      "text/plain": [
       "0.07160083742482898"
      ]
     },
     "execution_count": 638,
     "metadata": {},
     "output_type": "execute_result"
    }
   ],
   "source": [
    "np.sum(rel_entr(p,m))"
   ]
  },
  {
   "cell_type": "code",
   "execution_count": 639,
   "metadata": {},
   "outputs": [
    {
     "data": {
      "text/plain": [
       "0.09300394195727545"
      ]
     },
     "execution_count": 639,
     "metadata": {},
     "output_type": "execute_result"
    }
   ],
   "source": [
    "np.sum(rel_entr(q,m))"
   ]
  },
  {
   "cell_type": "code",
   "execution_count": 640,
   "metadata": {},
   "outputs": [
    {
     "name": "stdout",
     "output_type": "stream",
     "text": [
      "0.28688393069506735\n"
     ]
    }
   ],
   "source": [
    "divergence = (np.sum(kl_div(p, m)) + np.sum(kl_div(q, m))) / 2\n",
    "# compute the Jensen Shannon distance\n",
    "distance = np.sqrt(divergence)\n",
    "print(distance)"
   ]
  },
  {
   "cell_type": "code",
   "execution_count": 641,
   "metadata": {},
   "outputs": [
    {
     "data": {
      "text/plain": [
       "0.28688393069506735"
      ]
     },
     "execution_count": 641,
     "metadata": {},
     "output_type": "execute_result"
    }
   ],
   "source": [
    "jensenshannon(p,q)"
   ]
  },
  {
   "cell_type": "code",
   "execution_count": 642,
   "metadata": {},
   "outputs": [
    {
     "ename": "SyntaxError",
     "evalue": "'return' outside function (572813585.py, line 2)",
     "output_type": "error",
     "traceback": [
      "\u001b[0;36m  Cell \u001b[0;32mIn[642], line 2\u001b[0;36m\u001b[0m\n\u001b[0;31m    return np.sum(kl_div(synth_pdf, real_pdf)), js\u001b[0m\n\u001b[0m    ^\u001b[0m\n\u001b[0;31mSyntaxError\u001b[0m\u001b[0;31m:\u001b[0m 'return' outside function\n"
     ]
    }
   ],
   "source": [
    "    if correct_for_bias:\n",
    "        return np.sum(kl_div(synth_pdf, real_pdf)), js\n",
    "    else:\n",
    "        entropy = rel_entr(synth_pdf, real_pdf)\n",
    "        return np.sum(entropy), js"
   ]
  },
  {
   "cell_type": "code",
   "execution_count": 643,
   "metadata": {},
   "outputs": [],
   "source": [
    "# compute Jensen Shannon divergence\n",
    "divergence = (scipy.stats.entropy(p, m) + scipy.stats.entropy(q, m)) / 2\n",
    "# compute the Jensen Shannon distance\n",
    "distance = np.sqrt(divergence)"
   ]
  },
  {
   "cell_type": "code",
   "execution_count": 644,
   "metadata": {},
   "outputs": [
    {
     "name": "stdout",
     "output_type": "stream",
     "text": [
      "p shape:  (380,)\n",
      "q shape:  (380,)\n"
     ]
    }
   ],
   "source": [
    "print('p shape: ', p.shape)\n",
    "print('q shape: ', q.shape)"
   ]
  },
  {
   "cell_type": "code",
   "execution_count": 645,
   "metadata": {},
   "outputs": [
    {
     "data": {
      "text/plain": [
       "False"
      ]
     },
     "execution_count": 645,
     "metadata": {},
     "output_type": "execute_result"
    }
   ],
   "source": [
    "p[2]==0"
   ]
  },
  {
   "cell_type": "code",
   "execution_count": 646,
   "metadata": {},
   "outputs": [
    {
     "data": {
      "text/plain": [
       "(380,)"
      ]
     },
     "execution_count": 646,
     "metadata": {},
     "output_type": "execute_result"
    }
   ],
   "source": [
    "p[p!=0].shape"
   ]
  },
  {
   "cell_type": "code",
   "execution_count": 647,
   "metadata": {},
   "outputs": [
    {
     "name": "stdout",
     "output_type": "stream",
     "text": [
      "p shape:  (380,)\n",
      "q shape:  (380,)\n",
      "m shape:  (380,)\n"
     ]
    }
   ],
   "source": [
    "cond = p!=0\n",
    "p = p[cond]\n",
    "q = q[cond]\n",
    "# calculate m\n",
    "m = (p + q) / 2\n",
    "print('p shape: ', p.shape)\n",
    "print('q shape: ', q.shape)\n",
    "print('m shape: ', m.shape)"
   ]
  },
  {
   "cell_type": "code",
   "execution_count": 648,
   "metadata": {},
   "outputs": [
    {
     "data": {
      "text/plain": [
       "380"
      ]
     },
     "execution_count": 648,
     "metadata": {},
     "output_type": "execute_result"
    }
   ],
   "source": [
    "sum(cond)"
   ]
  },
  {
   "cell_type": "code",
   "execution_count": 649,
   "metadata": {},
   "outputs": [
    {
     "data": {
      "text/plain": [
       "0.423988623929167"
      ]
     },
     "execution_count": 649,
     "metadata": {},
     "output_type": "execute_result"
    }
   ],
   "source": [
    "kl_divergence( p, q)"
   ]
  },
  {
   "cell_type": "code",
   "execution_count": 650,
   "metadata": {},
   "outputs": [
    {
     "data": {
      "text/plain": [
       "0.07160083742482899"
      ]
     },
     "execution_count": 650,
     "metadata": {},
     "output_type": "execute_result"
    }
   ],
   "source": [
    "kl_divergence( p, m)"
   ]
  },
  {
   "cell_type": "code",
   "execution_count": 651,
   "metadata": {},
   "outputs": [
    {
     "data": {
      "text/plain": [
       "0.09300394195727549"
      ]
     },
     "execution_count": 651,
     "metadata": {},
     "output_type": "execute_result"
    }
   ],
   "source": [
    "kl_divergence( q, m)"
   ]
  },
  {
   "cell_type": "code",
   "execution_count": 652,
   "metadata": {},
   "outputs": [
    {
     "data": {
      "text/plain": [
       "0.0"
      ]
     },
     "execution_count": 652,
     "metadata": {},
     "output_type": "execute_result"
    }
   ],
   "source": [
    "kl_divergence( p, p)"
   ]
  },
  {
   "cell_type": "code",
   "execution_count": 653,
   "metadata": {},
   "outputs": [
    {
     "data": {
      "text/plain": [
       "array([2.64399362e-05, 2.55806081e-05, 2.48536012e-05, 2.43750558e-05,\n",
       "       2.42151548e-05, 2.43980374e-05, 2.49116965e-05, 2.57240320e-05,\n",
       "       2.67992521e-05, 2.81084099e-05, 2.96300630e-05, 3.13414908e-05,\n",
       "       3.32056329e-05, 3.51613555e-05, 3.71233002e-05, 3.89929724e-05,\n",
       "       4.06772480e-05, 4.21069311e-05, 4.32481407e-05, 4.41029220e-05,\n",
       "       4.47005634e-05, 4.50850193e-05, 4.53047702e-05, 4.54092517e-05,\n",
       "       4.54520330e-05, 4.54971851e-05, 4.56233185e-05, 4.59203416e-05,\n",
       "       4.64769273e-05, 4.73610334e-05, 4.85999497e-05, 5.01683076e-05,\n",
       "       5.19908711e-05, 5.39617198e-05, 5.59744554e-05, 5.79524771e-05,\n",
       "       5.98672609e-05, 6.17372641e-05, 6.36089070e-05, 6.55297721e-05,\n",
       "       6.75278364e-05, 6.96067252e-05, 7.17574996e-05, 7.39778862e-05,\n",
       "       7.62859950e-05, 7.87197277e-05, 8.13223743e-05, 8.41232064e-05,\n",
       "       8.71240914e-05, 9.02985612e-05, 9.36021686e-05, 9.69876164e-05,\n",
       "       1.00417952e-04, 1.03874932e-04, 1.07363670e-04, 1.10915663e-04,\n",
       "       1.14590014e-04, 1.18469758e-04, 1.22649730e-04, 1.27215618e-04,\n",
       "       1.32219044e-04, 1.37657584e-04, 1.43468827e-04, 1.49543256e-04,\n",
       "       1.55753582e-04, 1.61991317e-04, 1.68198007e-04, 1.74380320e-04,\n",
       "       1.80604379e-04, 1.86972549e-04, 1.93591974e-04, 2.00545801e-04,\n",
       "       2.07875023e-04, 2.15573030e-04, 2.23589946e-04, 2.31842409e-04,\n",
       "       2.40227208e-04, 2.48641117e-04, 2.57010015e-04, 2.65325480e-04,\n",
       "       2.73678649e-04, 2.82275165e-04, 2.91417254e-04, 3.01450452e-04,\n",
       "       3.12687898e-04, 3.25336308e-04, 3.39448554e-04, 3.54918210e-04,\n",
       "       3.71516446e-04, 3.88957837e-04, 4.06973146e-04, 4.25365363e-04,\n",
       "       4.44029745e-04, 4.62929112e-04, 4.82031084e-04, 5.01231002e-04,\n",
       "       5.20296169e-04, 5.38866541e-04, 5.56530258e-04, 5.72963626e-04,\n",
       "       5.88095430e-04, 6.02238093e-04, 6.16131807e-04, 6.30872183e-04,\n",
       "       6.47728741e-04, 6.67898130e-04, 6.92259787e-04, 7.21204251e-04,\n",
       "       7.54583387e-04, 7.91793426e-04, 8.31959586e-04, 8.74160894e-04,\n",
       "       9.17627172e-04, 9.61858061e-04, 1.00664760e-03, 1.05203244e-03,\n",
       "       1.09820413e-03, 1.14542816e-03, 1.19399692e-03, 1.24421830e-03,\n",
       "       1.29642063e-03, 1.35094722e-03, 1.40812337e-03, 1.46819909e-03,\n",
       "       1.53128928e-03, 1.59734114e-03, 1.66615121e-03, 1.73743575e-03,\n",
       "       1.81093576e-03, 1.88652240e-03, 1.96426644e-03, 2.04444905e-03,\n",
       "       2.12751437e-03, 2.21398638e-03, 2.30438425e-03, 2.39916745e-03,\n",
       "       2.49872943e-03, 2.60344164e-03, 2.71373428e-03, 2.83018391e-03,\n",
       "       2.95356344e-03, 3.08480312e-03, 3.22482564e-03, 3.37426494e-03,\n",
       "       3.53314768e-03, 3.70067468e-03, 3.87524146e-03, 4.05475802e-03,\n",
       "       4.23719182e-03, 4.42113324e-03, 4.60614792e-03, 4.79276698e-03,\n",
       "       4.98213670e-03, 5.17551220e-03, 5.37384474e-03, 5.57764480e-03,\n",
       "       5.78714564e-03, 6.00263334e-03, 6.22473607e-03, 6.45450894e-03,\n",
       "       6.69327533e-03, 6.94231597e-03, 7.20256267e-03, 7.47443115e-03,\n",
       "       7.75784167e-03, 8.05238229e-03, 8.35751224e-03, 8.67270202e-03,\n",
       "       8.99745137e-03, 9.33119076e-03, 9.67312852e-03, 1.00221308e-02,\n",
       "       1.03767053e-02, 1.07351061e-02, 1.10955103e-02, 1.14561714e-02,\n",
       "       1.18154582e-02, 1.21717440e-02, 1.25231863e-02, 1.28674925e-02,\n",
       "       1.32017588e-02, 1.35224103e-02, 1.38252086e-02, 1.41052743e-02,\n",
       "       1.43571308e-02, 1.45748563e-02, 1.47524619e-02, 1.48845466e-02,\n",
       "       1.49671303e-02, 1.49984271e-02, 1.49792846e-02, 1.49131085e-02,\n",
       "       1.48052766e-02, 1.46622070e-02, 1.44903414e-02, 1.42952936e-02,\n",
       "       1.40813437e-02, 1.38513599e-02, 1.36071130e-02, 1.33498441e-02,\n",
       "       1.30808599e-02, 1.28019164e-02, 1.25152294e-02, 1.22231066e-02,\n",
       "       1.19273632e-02, 1.16287934e-02, 1.13269503e-02, 1.10203636e-02,\n",
       "       1.07071380e-02, 1.03857266e-02, 1.00556105e-02, 9.71766377e-03,\n",
       "       9.37411193e-03, 9.02813615e-03, 8.68328606e-03, 8.34290357e-03,\n",
       "       8.00972178e-03, 7.68571080e-03, 7.37213452e-03, 7.06970793e-03,\n",
       "       6.77873518e-03, 6.49916545e-03, 6.23058972e-03, 5.97226025e-03,\n",
       "       5.72320736e-03, 5.48245944e-03, 5.24928919e-03, 5.02337045e-03,\n",
       "       4.80476292e-03, 4.59372872e-03, 4.39047178e-03, 4.19492893e-03,\n",
       "       4.00671191e-03, 3.82522153e-03, 3.64987231e-03, 3.48031742e-03,\n",
       "       3.31656857e-03, 3.15895783e-03, 3.00796161e-03, 2.86396851e-03,\n",
       "       2.72709614e-03, 2.59713712e-03, 2.47365300e-03, 2.35616491e-03,\n",
       "       2.24434522e-03, 2.13811695e-03, 2.03761435e-03, 1.94302652e-03,\n",
       "       1.85439992e-03, 1.77149035e-03, 1.69372677e-03, 1.62029561e-03,\n",
       "       1.55030518e-03, 1.48296582e-03, 1.41772839e-03, 1.35434956e-03,\n",
       "       1.29288085e-03, 1.23359767e-03, 1.17689315e-03, 1.12316159e-03,\n",
       "       1.07269304e-03, 1.02559536e-03, 9.81754054e-04, 9.40835229e-04,\n",
       "       9.02332304e-04, 8.65652643e-04, 8.30232348e-04, 7.95656043e-04,\n",
       "       7.61748280e-04, 7.28602712e-04, 6.96530830e-04, 6.65941161e-04,\n",
       "       6.37189385e-04, 6.10453360e-04, 5.85675717e-04, 5.62585953e-04,\n",
       "       5.40781012e-04, 5.19825586e-04, 4.99337449e-04, 4.79041786e-04,\n",
       "       4.58797093e-04, 4.38602851e-04, 4.18594776e-04, 3.99024726e-04,\n",
       "       3.80218534e-04, 3.62510364e-04, 3.46163631e-04, 3.31299066e-04,\n",
       "       3.17853743e-04, 3.05588324e-04, 2.94145553e-04, 2.83146106e-04,\n",
       "       2.72294230e-04, 2.61460340e-04, 2.50713288e-04, 2.40290237e-04,\n",
       "       2.30511988e-04, 2.21669361e-04, 2.13915844e-04, 2.07200186e-04,\n",
       "       2.01260453e-04, 1.95682060e-04, 1.90002298e-04, 1.83829506e-04,\n",
       "       1.76941704e-04, 1.69338156e-04, 1.61233945e-04, 1.53004475e-04,\n",
       "       1.45097738e-04, 1.37935397e-04, 1.31822389e-04, 1.26882282e-04,\n",
       "       1.23032682e-04, 1.20008846e-04, 1.17432186e-04, 1.14905903e-04,\n",
       "       1.12109202e-04, 1.08861349e-04, 1.05138900e-04, 1.01048198e-04,\n",
       "       9.67714318e-05, 9.25104077e-05, 8.84463852e-05, 8.47216615e-05,\n",
       "       8.14366782e-05, 7.86511660e-05, 7.63806742e-05, 7.45877507e-05,\n",
       "       7.31747805e-05, 7.19884570e-05, 7.08423279e-05, 6.95556467e-05,\n",
       "       6.79980449e-05, 6.61247258e-05, 6.39884818e-05, 6.17224759e-05,\n",
       "       5.94983997e-05, 5.74740289e-05, 5.57484116e-05, 5.43400080e-05,\n",
       "       5.31940013e-05, 5.22133909e-05, 5.12993734e-05, 5.03840441e-05,\n",
       "       4.94437399e-05, 4.84916604e-05, 4.75583285e-05, 4.66726904e-05,\n",
       "       4.58532053e-05, 4.51097954e-05, 4.44498016e-05, 4.38793265e-05,\n",
       "       4.33965218e-05, 4.29814545e-05, 4.25918943e-05, 4.21717635e-05,\n",
       "       4.16705406e-05, 4.10635566e-05, 4.03610514e-05, 3.95999039e-05,\n",
       "       3.88222226e-05, 3.80527211e-05, 3.72871142e-05, 3.64968681e-05,\n",
       "       3.56462122e-05, 3.47110755e-05, 3.36896769e-05, 3.26001406e-05,\n",
       "       3.14681531e-05, 3.03132242e-05, 2.91427592e-05, 2.79585365e-05,\n",
       "       2.67725576e-05, 2.56226226e-05, 2.45763048e-05, 2.37168249e-05,\n",
       "       2.31136047e-05, 2.27892070e-05, 2.26980047e-05, 2.27280844e-05])"
      ]
     },
     "execution_count": 653,
     "metadata": {},
     "output_type": "execute_result"
    }
   ],
   "source": [
    "q"
   ]
  },
  {
   "cell_type": "code",
   "execution_count": 654,
   "metadata": {},
   "outputs": [
    {
     "data": {
      "text/plain": [
       "array([0.00021054, 0.00021398, 0.00021751, 0.00022119, 0.00022504,\n",
       "       0.00022908, 0.00023331, 0.00023771, 0.00024227, 0.00024698,\n",
       "       0.00025184, 0.00025682, 0.00026193, 0.00026713, 0.00027239,\n",
       "       0.00027766, 0.0002829 , 0.00028807, 0.00029318, 0.00029822,\n",
       "       0.00030321, 0.00030818, 0.00031316, 0.00031818, 0.00032327,\n",
       "       0.00032847, 0.00033381, 0.00033935, 0.00034512, 0.00035117,\n",
       "       0.0003575 , 0.0003641 , 0.00037093, 0.00037793, 0.00038505,\n",
       "       0.00039223, 0.00039947, 0.00040677, 0.00041415, 0.00042162,\n",
       "       0.00042921, 0.00043692, 0.00044473, 0.00045266, 0.00046072,\n",
       "       0.00046893, 0.00047732, 0.00048591, 0.00049471, 0.00050371,\n",
       "       0.00051291, 0.00052228, 0.00053181, 0.0005415 , 0.00055137,\n",
       "       0.00056142, 0.00057171, 0.00058227, 0.00059315, 0.00060442,\n",
       "       0.00061609, 0.00062817, 0.00064064, 0.00065345, 0.00066655,\n",
       "       0.00067989, 0.00069345, 0.00070726, 0.00072135, 0.0007358 ,\n",
       "       0.00075066, 0.000766  , 0.00078185, 0.00079822, 0.00081509,\n",
       "       0.00083241, 0.00085015, 0.00086824, 0.00088664, 0.00090532,\n",
       "       0.00092431, 0.00094368, 0.00096356, 0.00098409, 0.0010054 ,\n",
       "       0.00102755, 0.00105054, 0.00107429, 0.00109867, 0.00112352,\n",
       "       0.00114869, 0.00117409, 0.00119966, 0.0012254 , 0.00125131,\n",
       "       0.00127734, 0.0013034 , 0.00132934, 0.00135496, 0.00138012,\n",
       "       0.00140479, 0.00142916, 0.00145358, 0.00147863, 0.00150494,\n",
       "       0.0015331 , 0.00156357, 0.00159653, 0.00163193, 0.00166946,\n",
       "       0.0017087 , 0.0017492 , 0.00179059, 0.00183263, 0.00187525,\n",
       "       0.00191847, 0.00196242, 0.00200726, 0.00205313, 0.00210022,\n",
       "       0.0021487 , 0.00219875, 0.00225054, 0.0023042 , 0.00235979,\n",
       "       0.00241727, 0.00247655, 0.00253747, 0.00259989, 0.00266375,\n",
       "       0.00272907, 0.00279598, 0.0028647 , 0.00293549, 0.00300858,\n",
       "       0.00308422, 0.00316258, 0.00324384, 0.00332821, 0.00341597,\n",
       "       0.00350749, 0.00360321, 0.00370359, 0.00380892, 0.0039192 ,\n",
       "       0.00403399, 0.00415247, 0.00427357, 0.00439625, 0.00451977,\n",
       "       0.00464389, 0.00476885, 0.0048952 , 0.00502354, 0.00515432,\n",
       "       0.00528778, 0.005424  , 0.00556311, 0.0057054 , 0.00585136,\n",
       "       0.00600162, 0.00615681, 0.00631733, 0.00648337, 0.00665483,\n",
       "       0.00683147, 0.00701296, 0.00719898, 0.00738921, 0.00758332,\n",
       "       0.00778083, 0.0079811 , 0.00818332, 0.00838653, 0.00858974,\n",
       "       0.00879199, 0.00899236, 0.00918998, 0.00938381, 0.00957263,\n",
       "       0.00975489, 0.00992874, 0.01009199, 0.01024212, 0.01037636,\n",
       "       0.01049171, 0.01058515, 0.01065398, 0.01069622, 0.010711  ,\n",
       "       0.01069879, 0.01066137, 0.01060147, 0.0105224 , 0.01042747,\n",
       "       0.01031958, 0.01020096, 0.01007315, 0.00993713, 0.0097936 ,\n",
       "       0.00964332, 0.00948723, 0.00932651, 0.00916238, 0.00899579,\n",
       "       0.00882719, 0.00865638, 0.00848266, 0.0083051 , 0.00812295,\n",
       "       0.00793597, 0.00774461, 0.00755   , 0.00735376, 0.00715767,\n",
       "       0.00696344, 0.00677247, 0.00658576, 0.006404  , 0.00622756,\n",
       "       0.00605664, 0.00589125, 0.0057312 , 0.00557615, 0.00542563,\n",
       "       0.00527916, 0.00513639, 0.00499713, 0.00486141, 0.00472934,\n",
       "       0.004601  , 0.00447632, 0.00435508, 0.00423696, 0.00412163,\n",
       "       0.00400891, 0.00389878, 0.00379141, 0.00368702, 0.00358584,\n",
       "       0.00348793, 0.00339321, 0.00330152, 0.00321264, 0.00312646,\n",
       "       0.003043  , 0.00296237, 0.00288473, 0.00281014, 0.00273853,\n",
       "       0.00266967, 0.00260319, 0.00253869, 0.0024758 , 0.00241427,\n",
       "       0.00235402, 0.00229507, 0.0022376 , 0.0021818 , 0.00212789,\n",
       "       0.00207602, 0.00202624, 0.0019785 , 0.00193263, 0.00188839,\n",
       "       0.00184546, 0.00180357, 0.0017625 , 0.00172214, 0.00168254,\n",
       "       0.00164383, 0.00160621, 0.00156984, 0.00153479, 0.00150102,\n",
       "       0.00146838, 0.00143666, 0.00140563, 0.0013751 , 0.00134493,\n",
       "       0.00131504, 0.00128544, 0.00125619, 0.00122743, 0.00119933,\n",
       "       0.00117205, 0.00114573, 0.00112044, 0.00109613, 0.00107269,\n",
       "       0.00104994, 0.00102767, 0.00100574, 0.00098406, 0.00096266,\n",
       "       0.00094166, 0.0009212 , 0.00090142, 0.0008824 , 0.0008641 ,\n",
       "       0.00084639, 0.00082908, 0.00081192, 0.00079474, 0.00077742,\n",
       "       0.00075997, 0.00074252, 0.00072524, 0.00070838, 0.00069215,\n",
       "       0.0006767 , 0.00066209, 0.00064828, 0.00063513, 0.00062245,\n",
       "       0.00061004, 0.00059772, 0.0005854 , 0.00057305, 0.00056073,\n",
       "       0.00054853, 0.00053653, 0.00052483, 0.0005135 , 0.0005026 ,\n",
       "       0.00049215, 0.00048216, 0.00047262, 0.00046349, 0.00045468,\n",
       "       0.00044611, 0.00043769, 0.00042933, 0.00042103, 0.00041279,\n",
       "       0.00040467, 0.00039676, 0.0003891 , 0.00038175, 0.00037469,\n",
       "       0.00036789, 0.00036128, 0.00035481, 0.00034842, 0.0003421 ,\n",
       "       0.00033586, 0.00032969, 0.00032361, 0.00031763, 0.00031175,\n",
       "       0.00030599, 0.00030034, 0.00029482, 0.0002894 , 0.00028409,\n",
       "       0.00027886, 0.00027369, 0.00026858, 0.00026352, 0.00025855,\n",
       "       0.0002537 , 0.00024897, 0.00024436, 0.00023986, 0.00023545,\n",
       "       0.00023111, 0.00022684, 0.00022265, 0.00021852, 0.00021448,\n",
       "       0.00021051, 0.00020661, 0.00020277, 0.000199  , 0.00019534,\n",
       "       0.0001918 , 0.00018843, 0.00018522, 0.00018215, 0.00017917])"
      ]
     },
     "execution_count": 654,
     "metadata": {},
     "output_type": "execute_result"
    }
   ],
   "source": [
    "m"
   ]
  },
  {
   "cell_type": "code",
   "execution_count": 655,
   "metadata": {},
   "outputs": [
    {
     "data": {
      "text/plain": [
       "array([-2.0748151 , -2.12406598, -2.16925403, -2.20544044, -2.22928378,\n",
       "       -2.23956385, -2.23702401, -2.22363303, -2.20169577, -2.17325828,\n",
       "       -2.13999388, -2.10344941, -2.06536371, -2.02779866, -1.99299042,\n",
       "       -1.96301039, -1.93941081, -1.92300242, -1.91382535, -1.91129254,\n",
       "       -1.9144322 , -1.92213339, -1.93330637, -1.94690711, -1.96183636,\n",
       "       -1.97678665, -1.99015188, -2.00011121, -2.00493768, -2.00346377,\n",
       "       -1.99551042, -1.98204507, -1.96494352, -1.94643504, -1.92846605,\n",
       "       -1.91223029, -1.8980126 , -1.88535834, -1.87346362, -1.86160371,\n",
       "       -1.84940844, -1.836878  , -1.82417908, -1.8113805 , -1.79830195,\n",
       "       -1.7845595 , -1.76976376, -1.75373943, -1.7366369 , -1.71888665,\n",
       "       -1.70104359, -1.68361516, -1.66694413, -1.65116087, -1.63617888,\n",
       "       -1.62170578, -1.60726818, -1.59227265, -1.57612296, -1.55838241,\n",
       "       -1.53893024, -1.51804286, -1.49635203, -1.47468468, -1.45384086,\n",
       "       -1.43438903, -1.41654427, -1.4001592 , -1.38481772, -1.36999113,\n",
       "       -1.35520151, -1.34014232, -1.32472907, -1.30908386, -1.29347969,\n",
       "       -1.27827206, -1.26382983, -1.25046036, -1.2383214 , -1.22732837,\n",
       "       -1.21708856, -1.20690514, -1.1958812 , -1.18311523, -1.16793278,\n",
       "       -1.15006956, -1.12973384, -1.10752693, -1.08426096, -1.06074782,\n",
       "       -1.03763024, -1.01529841, -0.99390327, -0.97345014, -0.95393454,\n",
       "       -0.93546732, -0.91833611, -0.90296927, -0.88980456, -0.87910133,\n",
       "       -0.87075652, -0.8641869 , -0.85832704, -0.85176922, -0.84303439,\n",
       "       -0.83091255, -0.81476429, -0.79466797, -0.77135333, -0.74595669,\n",
       "       -0.71970561, -0.69364979, -0.66850814, -0.6446411 , -0.62211445,\n",
       "       -0.60080515, -0.58050448, -0.56099011, -0.54205944, -0.52353411,\n",
       "       -0.50525465, -0.48708195, -0.46891185, -0.45069679, -0.43246122,\n",
       "       -0.41429912, -0.39634946, -0.37875629, -0.36162663, -0.34500056,\n",
       "       -0.32884269, -0.31305599, -0.29751102, -0.28207877, -0.26665601,\n",
       "       -0.25117618, -0.2356048 , -0.21992346, -0.20410943, -0.18811962,\n",
       "       -0.1718874 , -0.15533834, -0.13842485, -0.12116948, -0.10369779,\n",
       "       -0.08624051, -0.06909553, -0.05255898, -0.03685097, -0.02206518,\n",
       "       -0.00816092,  0.00500202,  0.01760332,  0.02980321,  0.04170787,\n",
       "        0.05336834,  0.06480524,  0.07604061,  0.08711852,  0.09810538,\n",
       "        0.10907325,  0.12007737,  0.13114005,  0.14224783,  0.1533608 ,\n",
       "        0.16442798,  0.17540109,  0.18624159,  0.19692032,  0.20741203,\n",
       "        0.21768929,  0.22771928,  0.23746535,  0.24689224,  0.25597212,\n",
       "        0.26468803,  0.27303281,  0.28100388,  0.28859624,  0.29579668,\n",
       "        0.30258105,  0.30891432,  0.31475176,  0.32003974,  0.32471619,\n",
       "        0.3287123 ,  0.33195778,  0.33439013,  0.33596647,  0.33667425,\n",
       "        0.33653716,  0.3356141 ,  0.33399083,  0.33176659,  0.32903852,\n",
       "        0.32588757,  0.32236906,  0.31851014,  0.31431486,  0.30977523,\n",
       "        0.30488462,  0.29964808,  0.29408503,  0.2882221 ,  0.28207826,\n",
       "        0.27564778,  0.2688885 ,  0.26172113,  0.25404099,  0.24573898,\n",
       "        0.23672522,  0.22694816,  0.21640405,  0.20513473,  0.19321547,\n",
       "        0.1807374 ,  0.16779057,  0.15445259,  0.14078493,  0.12683436,\n",
       "        0.11263496,  0.09820602,  0.08354598,  0.06862673,  0.05339526,\n",
       "        0.03778627,  0.02174303,  0.00523746, -0.01172095, -0.02909365,\n",
       "       -0.04683597, -0.06492411, -0.08337217, -0.10222948, -0.12155763,\n",
       "       -0.1413964 , -0.16173382, -0.18249503, -0.2035568 , -0.22478361,\n",
       "       -0.24606982, -0.26736779, -0.28868632, -0.31005782, -0.33148882,\n",
       "       -0.35291887, -0.3742109 , -0.39518295, -0.41567143, -0.43559991,\n",
       "       -0.45502352, -0.47412975, -0.49319564, -0.51251825, -0.53234191,\n",
       "       -0.55280148, -0.57389229, -0.59546939, -0.61727429, -0.63898455,\n",
       "       -0.66027886, -0.68090709, -0.70075231, -0.71987069, -0.73849634,\n",
       "       -0.75700245, -0.77581902, -0.79531997, -0.81570745, -0.83693052,\n",
       "       -0.85867368, -0.88043261, -0.90166201, -0.92194701, -0.94113372,\n",
       "       -0.95937164, -0.97706258, -0.99475077, -1.01300286, -1.03230971,\n",
       "       -1.05301514, -1.07526039, -1.09893682, -1.12365711, -1.14877157,\n",
       "       -1.17345743, -1.19688838, -1.21845276, -1.23795087, -1.25568855,\n",
       "       -1.27241201, -1.28908782, -1.30659186, -1.32540255, -1.34539318,\n",
       "       -1.36579558, -1.38537278, -1.40278486, -1.41705835, -1.4279998 ,\n",
       "       -1.43638299, -1.44382033, -1.45236609, -1.46400093, -1.48015746,\n",
       "       -1.50138551, -1.5271895 , -1.55604073, -1.58557717, -1.61301582,\n",
       "       -1.63576754, -1.65213769, -1.66186914, -1.66626633, -1.66780733,\n",
       "       -1.66940763, -1.67364556, -1.68221217, -1.69569252, -1.71364653,\n",
       "       -1.73488312, -1.75780032, -1.78068101, -1.80188647, -1.8199651 ,\n",
       "       -1.83375378, -1.8425457 , -1.84632059, -1.84593076, -1.84309455,\n",
       "       -1.84011517, -1.83937525, -1.84275774, -1.85116135, -1.86423849,\n",
       "       -1.88043594, -1.89737279, -1.91250759, -1.9239107 , -1.93083751,\n",
       "       -1.93383139, -1.93431322, -1.93389045, -1.93373438, -1.93427867,\n",
       "       -1.93529092, -1.93618807, -1.93637775, -1.93544183, -1.93311785,\n",
       "       -1.92919237, -1.92347955, -1.9159692 , -1.90705537, -1.89764179,\n",
       "       -1.88897105, -1.88221108, -1.87800993, -1.87626965, -1.87627844,\n",
       "       -1.87714972, -1.87834342, -1.87998681, -1.88282488, -1.88785095,\n",
       "       -1.89584454, -1.90706831, -1.9212641 , -1.93792143, -1.95664118,\n",
       "       -1.97734202, -2.00011238, -2.02469714, -2.04984672, -2.07293397,\n",
       "       -2.09026656, -2.09828119, -2.09525235, -2.08257744, -2.06475433])"
      ]
     },
     "execution_count": 655,
     "metadata": {},
     "output_type": "execute_result"
    }
   ],
   "source": [
    "np.log(q/m)"
   ]
  },
  {
   "cell_type": "code",
   "execution_count": 656,
   "metadata": {},
   "outputs": [],
   "source": [
    "def kl_divergence( p, q):\n",
    "    \"\"\" Compute KL divergence of two vectors, K(p || q).\"\"\"\n",
    "    kl = 0\n",
    "    for x in range(len(p)):\n",
    "        if p[x] != 0.0 or p[x] != 0.0:\n",
    "            # print('zero value')\n",
    "            kl+=p[x] * np.log((p[x]) / (q[x]))\n",
    "    return kl\n",
    "\n",
    "\n",
    "def Jensen_Shannon_divergence(self, p, q):\n",
    "    \"\"\" Returns the Jensen-Shannon divergence. \"\"\"\n",
    "\n",
    "    weight = 0.5\n",
    "    average = zeros(len(p)) #Average\n",
    "    for x in range(len(p)):\n",
    "        average[x] = weight * p[x] + (1 - weight) * q[x]\n",
    "        JSD = (weight * self.KL_divergence(array(p), average)) + ((1 - weight) * self.KL_divergence(array(q), average))\n",
    "        return 1-(JSD/sqrt(2 * self.log2))"
   ]
  }
 ],
 "metadata": {
  "kernelspec": {
   "display_name": "torch-gpu",
   "language": "python",
   "name": "python3"
  },
  "language_info": {
   "codemirror_mode": {
    "name": "ipython",
    "version": 3
   },
   "file_extension": ".py",
   "mimetype": "text/x-python",
   "name": "python",
   "nbconvert_exporter": "python",
   "pygments_lexer": "ipython3",
   "version": "3.8.16"
  },
  "orig_nbformat": 4
 },
 "nbformat": 4,
 "nbformat_minor": 2
}
