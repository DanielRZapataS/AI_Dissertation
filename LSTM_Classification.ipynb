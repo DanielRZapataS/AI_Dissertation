{
 "cells": [
  {
   "cell_type": "code",
   "execution_count": 19,
   "metadata": {},
   "outputs": [],
   "source": [
    "import numpy as np \n",
    "import torch\n",
    "from torchsummary import summary\n",
    "import torch.optim as optim\n",
    "import matplotlib.pyplot as plt\n",
    "import pandas as pd\n",
    "import torch; torch.manual_seed(0)\n",
    "import torch.nn as nn\n",
    "import torch.nn.functional as F\n",
    "import torch.utils\n",
    "import matplotlib.pyplot as plt; plt.rcParams['figure.dpi'] = 200\n",
    "from sklearn.model_selection import train_test_split\n",
    "\n",
    "from sklearn.metrics import accuracy_score\n",
    "from sklearn.metrics import confusion_matrix\n",
    "from sklearn.metrics import classification_report\n",
    "from sklearn.metrics import roc_auc_score"
   ]
  },
  {
   "cell_type": "code",
   "execution_count": 20,
   "metadata": {},
   "outputs": [],
   "source": [
    "import torch.nn as nn\n",
    "import torch.optim as optim\n",
    "import torch.utils.data as datatools\n",
    "\n",
    "class LSTM_Model(nn.Module):\n",
    "    def __init__(self):\n",
    "        super().__init__()\n",
    "        self.lstm = nn.LSTM(input_size=1, hidden_size=128, num_layers=2, batch_first=True)\n",
    "        self.dropout = nn.Dropout(0.2)\n",
    "        self.linear = nn.Linear(128, 2)\n",
    "    def forward(self, x):\n",
    "        x, _ = self.lstm(x)\n",
    "        # take only the last output\n",
    "        x = x[:, -1, :]\n",
    "        # produce output\n",
    "        x = self.linear(self.dropout(x))\n",
    "        return x \n",
    "\n",
    "class EarlyStopper:\n",
    "    def __init__(self, patience=1, min_delta=0):\n",
    "        self.patience = patience\n",
    "        self.min_delta = min_delta\n",
    "        self.counter = 0\n",
    "        self.min_validation_loss = np.inf\n",
    "\n",
    "    def early_stop(self, validation_loss):\n",
    "        if validation_loss < self.min_validation_loss:\n",
    "            self.min_validation_loss = validation_loss\n",
    "            self.counter = 0\n",
    "        elif validation_loss > (self.min_validation_loss + self.min_delta):\n",
    "            self.counter += 1\n",
    "            if self.counter >= self.patience:\n",
    "                return True\n",
    "        return False \n",
    "\n",
    "def plot_training(losses):\n",
    "    fig, axes = plt.subplots(1,len(losses), sharex=False, sharey=False)\n",
    "    for i , (key, value) in enumerate(losses.items()):\n",
    "        x_points = range(0, len(value))\n",
    "        axes[i].set_title(key, fontsize=10)\n",
    "        axes[i].plot(x_points, value, color=\"blue\", linewidth=5)\n",
    "        axes[i].yaxis.grid(True, zorder=0)\n",
    "        axes[i].set_xlabel('Iteration', fontsize=10)\n",
    "        # axes[i].legend(loc='upper right')\n",
    "    # plt.tight_layout()\n",
    "    plt.show()\n",
    "    \n",
    "def train(lstm_model, loader_train, loader_test, n_epochs, early_stopper, device):\n",
    "    best_model = None\n",
    "    best_loss = np.inf\n",
    "    loss_train = []\n",
    "    loss_validation = []\n",
    "    for epoch in range(n_epochs):\n",
    "        lstm_model.train()\n",
    "        loss_tr =0\n",
    "        for X_batch, y_batch in loader_train:\n",
    "            X_batch = X_batch.to(device)\n",
    "            y_batch = y_batch.to(device)\n",
    "            y_pred = lstm_model(X_batch)\n",
    "            loss = loss_fn(y_pred, y_batch)\n",
    "            optimizer.zero_grad()\n",
    "            loss.backward()\n",
    "            optimizer.step()\n",
    "            loss_tr += loss.item()\n",
    "        loss_train.append(loss_tr)\n",
    "        print('Epoch %s/%s: Train Cross-Entropy: %.6f' % (epoch+1,n_epochs, loss_tr/len(loader_train)))\n",
    "            \n",
    "        # Validation\n",
    "        lstm_model.eval()\n",
    "        loss= 0\n",
    "        with torch.no_grad():\n",
    "            for X_batch_test, y_batch_test in loader_test:\n",
    "                X_batch_test = X_batch_test.to(device)\n",
    "                y_batch_test = y_batch_test.to(device)\n",
    "                y_pred_test = lstm_model(X_batch_test)\n",
    "                loss += loss_fn(y_pred_test, y_batch_test)\n",
    "                # print( loss)\n",
    "                # loss_te += loss\n",
    "            loss_validation.append(loss.item())\n",
    "            # if loss < best_loss:\n",
    "            #     best_loss = loss\n",
    "            #     best_model = lstm_model.state_dict()\n",
    "            \n",
    "            print(\"Epoch %s/%s: Validation Cross-Entropy: %.6f\" % (epoch+1,n_epochs, loss.item()/len(loader_test)))\n",
    "            if early_stopper.early_stop(loss.item()): \n",
    "                best_model = lstm_model.state_dict()            \n",
    "                break \n",
    "    losses = {\"train\": loss_train, \"validation\": loss_validation}\n",
    "    plot_training(losses)\n",
    "    return best_model, lstm_model, loss_train, loss_validation"
   ]
  },
  {
   "cell_type": "code",
   "execution_count": 21,
   "metadata": {},
   "outputs": [],
   "source": [
    "device = 'cpu'\n",
    "gen_dir = 'generated_data/'\n",
    "models_dir = 'models/' \n",
    "results_dir = 'results/'"
   ]
  },
  {
   "cell_type": "code",
   "execution_count": 22,
   "metadata": {},
   "outputs": [
    {
     "name": "stdout",
     "output_type": "stream",
     "text": [
      "Number of training batches:  79\n",
      "Length of each batch:  256\n",
      "Number of stocks:  434\n"
     ]
    }
   ],
   "source": [
    "# Load data\n",
    "data = np.load('master_data/data.npy')\n",
    "train_batches = data.shape[0] # N hereafter. Number of training images in database.\n",
    "length = data.shape[1] \n",
    "stocks = data.shape[2]\n",
    "print('Number of training batches: ', train_batches)\n",
    "print('Length of each batch: ', length)\n",
    "print('Number of stocks: ', stocks)"
   ]
  },
  {
   "cell_type": "code",
   "execution_count": 23,
   "metadata": {},
   "outputs": [
    {
     "data": {
      "text/plain": [
       "(434, 256)"
      ]
     },
     "execution_count": 23,
     "metadata": {},
     "output_type": "execute_result"
    }
   ],
   "source": [
    "vqvaeconv2 = np.load(gen_dir + 'vqvaeconv2.npy')\n",
    "vqvaeconv2.shape"
   ]
  },
  {
   "cell_type": "code",
   "execution_count": 24,
   "metadata": {},
   "outputs": [
    {
     "name": "stdout",
     "output_type": "stream",
     "text": [
      "Random batch index:  77\n"
     ]
    },
    {
     "data": {
      "text/plain": [
       "(434, 256)"
      ]
     },
     "execution_count": 24,
     "metadata": {},
     "output_type": "execute_result"
    }
   ],
   "source": [
    "# Random batche\n",
    "# index = np.random.randint(0, train_batches, 1)\n",
    "index = 77\n",
    "print('Random batch index: ', index)\n",
    "batch = data[index,:,:]\n",
    "batch = np.transpose(batch)\n",
    "batch = np.squeeze(batch)\n",
    "batch.shape"
   ]
  },
  {
   "cell_type": "code",
   "execution_count": 25,
   "metadata": {},
   "outputs": [
    {
     "data": {
      "text/plain": [
       "(868, 256)"
      ]
     },
     "execution_count": 25,
     "metadata": {},
     "output_type": "execute_result"
    }
   ],
   "source": [
    "data = np.concatenate((batch, vqvaeconv2), axis=0)\n",
    "data.shape"
   ]
  },
  {
   "cell_type": "code",
   "execution_count": 26,
   "metadata": {},
   "outputs": [
    {
     "data": {
      "text/plain": [
       "(868, 1)"
      ]
     },
     "execution_count": 26,
     "metadata": {},
     "output_type": "execute_result"
    }
   ],
   "source": [
    "y_batch = np.zeros((batch.shape[0],1), dtype=int)\n",
    "y_synthetic = np.ones((vqvaeconv2.shape[0],1), dtype=int)\n",
    "y = np.concatenate((y_batch, y_synthetic), axis=0)\n",
    "y.shape\n"
   ]
  },
  {
   "cell_type": "code",
   "execution_count": 27,
   "metadata": {},
   "outputs": [
    {
     "name": "stdout",
     "output_type": "stream",
     "text": [
      "X_train shape:  (607, 256)\n",
      "y_train shape:  (607, 1)\n",
      "X_val shape:  (130, 256)\n",
      "y_val shape:  (130, 1)\n",
      "X_test shape:  (131, 256)\n",
      "y_test shape:  (131, 1)\n",
      "Counts of label\n",
      "Train:  (array([0, 1]), array([306, 301]))\n",
      "Validation:  (array([0, 1]), array([64, 66]))\n",
      "Test:  (array([0, 1]), array([64, 67]))\n"
     ]
    }
   ],
   "source": [
    "X_train, X_val, y_train, y_val = train_test_split(data, y, test_size=0.3, shuffle=True)\n",
    "X_val, X_test, y_val, y_test = train_test_split(X_val, y_val, test_size=0.5, shuffle=True)\n",
    "print('X_train shape: ', X_train.shape)\n",
    "print('y_train shape: ', y_train.shape)\n",
    "print('X_val shape: ', X_val.shape)\n",
    "print('y_val shape: ', y_val.shape)\n",
    "print('X_test shape: ', X_test.shape)\n",
    "print('y_test shape: ', y_test.shape)\n",
    "\n",
    "print('Counts of label')\n",
    "print('Train: ', np.unique(y_train, return_counts=True))\n",
    "print('Validation: ', np.unique(y_val, return_counts=True))\n",
    "print('Test: ', np.unique(y_test, return_counts=True))"
   ]
  },
  {
   "cell_type": "code",
   "execution_count": 28,
   "metadata": {},
   "outputs": [],
   "source": [
    "X_train = torch.tensor(X_train, dtype=torch.float32).reshape(-1, length, 1)\n",
    "y_train = torch.tensor(y_train).reshape(-1)\n",
    "X_val = torch.tensor(X_val, dtype=torch.float32).reshape(-1, length, 1)\n",
    "y_val = torch.tensor(y_val).reshape(-1)\n",
    "X_test = torch.tensor(X_test, dtype=torch.float32).reshape(-1, length, 1)\n",
    "y_test = torch.tensor(y_test).reshape(-1)"
   ]
  },
  {
   "cell_type": "code",
   "execution_count": 29,
   "metadata": {},
   "outputs": [
    {
     "data": {
      "text/plain": [
       "(torch.Size([607, 256, 1]),\n",
       " torch.Size([607]),\n",
       " torch.Size([130, 256, 1]),\n",
       " torch.Size([130]),\n",
       " torch.Size([131, 256, 1]),\n",
       " torch.Size([131]))"
      ]
     },
     "execution_count": 29,
     "metadata": {},
     "output_type": "execute_result"
    }
   ],
   "source": [
    "X_train.shape, y_train.shape, X_val.shape, y_val.shape, X_test.shape, y_test.shape"
   ]
  },
  {
   "cell_type": "code",
   "execution_count": 37,
   "metadata": {},
   "outputs": [
    {
     "name": "stdout",
     "output_type": "stream",
     "text": [
      "Epoch 1/70: Train Cross-Entropy: 42.108650\n",
      "Epoch 1/70: Validation Cross-Entropy: 30.037392\n",
      "Epoch 2/70: Train Cross-Entropy: 42.056247\n",
      "Epoch 2/70: Validation Cross-Entropy: 30.076113\n",
      "Epoch 3/70: Train Cross-Entropy: 42.136926\n",
      "Epoch 3/70: Validation Cross-Entropy: 30.037905\n",
      "Epoch 4/70: Train Cross-Entropy: 42.076285\n",
      "Epoch 4/70: Validation Cross-Entropy: 30.048149\n",
      "Epoch 5/70: Train Cross-Entropy: 42.119127\n",
      "Epoch 5/70: Validation Cross-Entropy: 30.043938\n",
      "Epoch 6/70: Train Cross-Entropy: 42.038600\n",
      "Epoch 6/70: Validation Cross-Entropy: 30.031713\n",
      "Epoch 7/70: Train Cross-Entropy: 42.064383\n",
      "Epoch 7/70: Validation Cross-Entropy: 30.044408\n",
      "Epoch 8/70: Train Cross-Entropy: 42.154708\n",
      "Epoch 8/70: Validation Cross-Entropy: 30.034091\n",
      "Epoch 9/70: Train Cross-Entropy: 42.087946\n",
      "Epoch 9/70: Validation Cross-Entropy: 30.038961\n",
      "Epoch 10/70: Train Cross-Entropy: 42.059367\n",
      "Epoch 10/70: Validation Cross-Entropy: 30.055476\n",
      "Epoch 11/70: Train Cross-Entropy: 42.084155\n",
      "Epoch 11/70: Validation Cross-Entropy: 30.047218\n",
      "Epoch 12/70: Train Cross-Entropy: 42.073944\n",
      "Epoch 12/70: Validation Cross-Entropy: 30.057312\n",
      "Epoch 13/70: Train Cross-Entropy: 42.055712\n",
      "Epoch 13/70: Validation Cross-Entropy: 30.026990\n",
      "Epoch 14/70: Train Cross-Entropy: 42.058189\n",
      "Epoch 14/70: Validation Cross-Entropy: 30.031878\n",
      "Epoch 15/70: Train Cross-Entropy: 42.173191\n",
      "Epoch 15/70: Validation Cross-Entropy: 30.042450\n",
      "Epoch 16/70: Train Cross-Entropy: 41.990805\n",
      "Epoch 16/70: Validation Cross-Entropy: 30.027295\n",
      "Epoch 17/70: Train Cross-Entropy: 42.089798\n",
      "Epoch 17/70: Validation Cross-Entropy: 30.035591\n",
      "Epoch 18/70: Train Cross-Entropy: 42.044926\n",
      "Epoch 18/70: Validation Cross-Entropy: 30.024897\n",
      "Epoch 19/70: Train Cross-Entropy: 42.121782\n",
      "Epoch 19/70: Validation Cross-Entropy: 30.050649\n",
      "Epoch 20/70: Train Cross-Entropy: 42.095798\n",
      "Epoch 20/70: Validation Cross-Entropy: 30.012978\n",
      "Epoch 21/70: Train Cross-Entropy: 42.114798\n",
      "Epoch 21/70: Validation Cross-Entropy: 30.012932\n",
      "Epoch 22/70: Train Cross-Entropy: 42.057433\n",
      "Epoch 22/70: Validation Cross-Entropy: 30.052035\n",
      "Epoch 23/70: Train Cross-Entropy: 42.074952\n",
      "Epoch 23/70: Validation Cross-Entropy: 30.038475\n",
      "Epoch 24/70: Train Cross-Entropy: 42.068765\n",
      "Epoch 24/70: Validation Cross-Entropy: 30.018283\n",
      "Epoch 25/70: Train Cross-Entropy: 42.071540\n",
      "Epoch 25/70: Validation Cross-Entropy: 30.001297\n",
      "Epoch 26/70: Train Cross-Entropy: 41.943217\n",
      "Epoch 26/70: Validation Cross-Entropy: 29.953214\n",
      "Epoch 27/70: Train Cross-Entropy: 42.037644\n",
      "Epoch 27/70: Validation Cross-Entropy: 29.963216\n",
      "Epoch 28/70: Train Cross-Entropy: 41.904974\n",
      "Epoch 28/70: Validation Cross-Entropy: 29.879618\n",
      "Epoch 29/70: Train Cross-Entropy: 41.901449\n",
      "Epoch 29/70: Validation Cross-Entropy: 29.413157\n",
      "Epoch 30/70: Train Cross-Entropy: 41.695890\n",
      "Epoch 30/70: Validation Cross-Entropy: 29.913177\n",
      "Epoch 31/70: Train Cross-Entropy: 41.844943\n",
      "Epoch 31/70: Validation Cross-Entropy: 29.845975\n",
      "Epoch 32/70: Train Cross-Entropy: 41.706911\n",
      "Epoch 32/70: Validation Cross-Entropy: 29.571325\n",
      "Epoch 33/70: Train Cross-Entropy: 49.136417\n",
      "Epoch 33/70: Validation Cross-Entropy: 54.146362\n",
      "Epoch 34/70: Train Cross-Entropy: 53.162166\n",
      "Epoch 34/70: Validation Cross-Entropy: 30.022263\n",
      "Epoch 35/70: Train Cross-Entropy: 42.384931\n",
      "Epoch 35/70: Validation Cross-Entropy: 30.667918\n",
      "Epoch 36/70: Train Cross-Entropy: 42.501908\n",
      "Epoch 36/70: Validation Cross-Entropy: 30.116198\n",
      "Epoch 37/70: Train Cross-Entropy: 42.064588\n",
      "Epoch 37/70: Validation Cross-Entropy: 29.981201\n",
      "Epoch 38/70: Train Cross-Entropy: 42.081018\n",
      "Epoch 38/70: Validation Cross-Entropy: 29.967229\n",
      "Epoch 39/70: Train Cross-Entropy: 41.998474\n",
      "Epoch 39/70: Validation Cross-Entropy: 29.807414\n",
      "Epoch 40/70: Train Cross-Entropy: 41.960575\n",
      "Epoch 40/70: Validation Cross-Entropy: 29.798083\n",
      "Epoch 41/70: Train Cross-Entropy: 42.039821\n",
      "Epoch 41/70: Validation Cross-Entropy: 29.802259\n",
      "Epoch 42/70: Train Cross-Entropy: 41.975943\n",
      "Epoch 42/70: Validation Cross-Entropy: 29.797094\n",
      "Epoch 43/70: Train Cross-Entropy: 41.893847\n",
      "Epoch 43/70: Validation Cross-Entropy: 29.742104\n",
      "Epoch 44/70: Train Cross-Entropy: 41.825389\n",
      "Epoch 44/70: Validation Cross-Entropy: 29.719248\n",
      "Epoch 45/70: Train Cross-Entropy: 41.781576\n",
      "Epoch 45/70: Validation Cross-Entropy: 29.638428\n",
      "Epoch 46/70: Train Cross-Entropy: 41.694994\n",
      "Epoch 46/70: Validation Cross-Entropy: 29.496386\n",
      "Epoch 47/70: Train Cross-Entropy: 41.116246\n",
      "Epoch 47/70: Validation Cross-Entropy: 28.954173\n",
      "Epoch 48/70: Train Cross-Entropy: 42.183804\n",
      "Epoch 48/70: Validation Cross-Entropy: 29.914256\n",
      "Epoch 49/70: Train Cross-Entropy: 41.935929\n",
      "Epoch 49/70: Validation Cross-Entropy: 29.820630\n",
      "Epoch 50/70: Train Cross-Entropy: 41.967402\n",
      "Epoch 50/70: Validation Cross-Entropy: 29.967794\n",
      "Epoch 51/70: Train Cross-Entropy: 41.902953\n",
      "Epoch 51/70: Validation Cross-Entropy: 29.921562\n",
      "Epoch 52/70: Train Cross-Entropy: 41.836309\n",
      "Epoch 52/70: Validation Cross-Entropy: 29.837039\n",
      "Epoch 53/70: Train Cross-Entropy: 41.773407\n",
      "Epoch 53/70: Validation Cross-Entropy: 29.803034\n",
      "Epoch 54/70: Train Cross-Entropy: 41.742842\n",
      "Epoch 54/70: Validation Cross-Entropy: 29.778781\n",
      "Epoch 55/70: Train Cross-Entropy: 41.588573\n",
      "Epoch 55/70: Validation Cross-Entropy: 29.756282\n",
      "Epoch 56/70: Train Cross-Entropy: 41.669012\n",
      "Epoch 56/70: Validation Cross-Entropy: 29.727694\n",
      "Epoch 57/70: Train Cross-Entropy: 41.656966\n",
      "Epoch 57/70: Validation Cross-Entropy: 29.678495\n",
      "Epoch 58/70: Train Cross-Entropy: 41.561556\n",
      "Epoch 58/70: Validation Cross-Entropy: 29.588910\n",
      "Epoch 59/70: Train Cross-Entropy: 41.526354\n",
      "Epoch 59/70: Validation Cross-Entropy: 29.493492\n",
      "Epoch 60/70: Train Cross-Entropy: 41.346929\n",
      "Epoch 60/70: Validation Cross-Entropy: 29.375966\n",
      "Epoch 61/70: Train Cross-Entropy: 41.192667\n",
      "Epoch 61/70: Validation Cross-Entropy: 29.058576\n",
      "Epoch 62/70: Train Cross-Entropy: 40.633430\n",
      "Epoch 62/70: Validation Cross-Entropy: 28.490646\n",
      "Epoch 63/70: Train Cross-Entropy: 39.657895\n",
      "Epoch 63/70: Validation Cross-Entropy: 27.206296\n",
      "Epoch 64/70: Train Cross-Entropy: 39.572428\n",
      "Epoch 64/70: Validation Cross-Entropy: 29.037819\n",
      "Epoch 65/70: Train Cross-Entropy: 39.759792\n",
      "Epoch 65/70: Validation Cross-Entropy: 28.415217\n",
      "Epoch 66/70: Train Cross-Entropy: 39.563127\n",
      "Epoch 66/70: Validation Cross-Entropy: 27.027774\n",
      "Epoch 67/70: Train Cross-Entropy: 37.852313\n",
      "Epoch 67/70: Validation Cross-Entropy: 27.448453\n",
      "Epoch 68/70: Train Cross-Entropy: 39.446422\n",
      "Epoch 68/70: Validation Cross-Entropy: 31.003540\n",
      "Epoch 69/70: Train Cross-Entropy: 39.987811\n",
      "Epoch 69/70: Validation Cross-Entropy: 28.723155\n",
      "Epoch 70/70: Train Cross-Entropy: 38.424352\n",
      "Epoch 70/70: Validation Cross-Entropy: 29.727915\n"
     ]
    },
    {
     "data": {
      "image/png": "[encoded data removed]",
      "text/plain": [
       "<Figure size 1280x960 with 2 Axes>"
      ]
     },
     "metadata": {},
     "output_type": "display_data"
    }
   ],
   "source": [
    "device = 'mps'\n",
    "n_epochs = 70\n",
    "batch_size = 64\n",
    "learning_rate = 0.001\n",
    "lstm_model = LSTM_Model().to(device)\n",
    "early_stopper = EarlyStopper(patience=10, min_delta=10)\n",
    "optimizer = optim.Adam(lstm_model.parameters(), lr=learning_rate)\n",
    "loss_fn = nn.CrossEntropyLoss(reduction=\"sum\")\n",
    "loader_train = datatools.DataLoader(datatools.TensorDataset(X_train, y_train ), shuffle=True, batch_size=batch_size)\n",
    "loader_test = datatools.DataLoader(datatools.TensorDataset(X_val, y_val), shuffle=False, batch_size=batch_size)\n",
    "best_model, lstm_model, loss_train, loss_validation = train(lstm_model, loader_train, loader_test, n_epochs, early_stopper, device)\n",
    "torch.save(best_model, models_dir+\"best_classification_lstm.pth\")"
   ]
  },
  {
   "cell_type": "markdown",
   "metadata": {},
   "source": [
    "# Testing "
   ]
  },
  {
   "cell_type": "code",
   "execution_count": 38,
   "metadata": {},
   "outputs": [
    {
     "name": "stdout",
     "output_type": "stream",
     "text": [
      "Accuracy score: \n",
      "0.6030534351145038\n",
      "\n",
      "ROC AUC score: \n",
      "0.5989972014925373\n",
      "\n",
      "Classification report: \n",
      "              precision    recall  f1-score   support\n",
      "\n",
      "           0       0.64      0.42      0.51        64\n",
      "           1       0.58      0.78      0.67        67\n",
      "\n",
      "    accuracy                           0.60       131\n",
      "   macro avg       0.61      0.60      0.59       131\n",
      "weighted avg       0.61      0.60      0.59       131\n",
      "\n"
     ]
    }
   ],
   "source": [
    "\n",
    "\n",
    "x_test = X_test.to(device)\n",
    "y_pred = lstm_model(x_test)\n",
    "y_pred = y_pred.argmax(dim=1)\n",
    "y_pred = y_pred.cpu().numpy()\n",
    "print(f'Accuracy score: ')\n",
    "print(accuracy_score(y_test, y_pred))\n",
    "print('')\n",
    "print(f'ROC AUC score: ')\n",
    "print(roc_auc_score(y_test, y_pred))\n",
    "# print('')\n",
    "# print(f'Confusion matrix {key}: ')\n",
    "# print(confusion_matrix(y_test, y_pred))\n",
    "print('')\n",
    "print(f'Classification report: ')\n",
    "print(classification_report(y_test, y_pred))"
   ]
  }
 ],
 "metadata": {
  "kernelspec": {
   "display_name": "torch-gpu",
   "language": "python",
   "name": "python3"
  },
  "language_info": {
   "codemirror_mode": {
    "name": "ipython",
    "version": 3
   },
   "file_extension": ".py",
   "mimetype": "text/x-python",
   "name": "python",
   "nbconvert_exporter": "python",
   "pygments_lexer": "ipython3",
   "version": "3.8.16"
  },
  "orig_nbformat": 4
 },
 "nbformat": 4,
 "nbformat_minor": 2
}
